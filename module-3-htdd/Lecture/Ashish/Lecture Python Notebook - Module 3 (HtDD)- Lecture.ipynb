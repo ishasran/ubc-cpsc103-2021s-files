{
 "cells": [
  {
   "cell_type": "code",
   "execution_count": null,
   "metadata": {},
   "outputs": [],
   "source": [
    "from cs103 import * # needed (once per notebook) to enable incredible cs103 powers!!"
   ]
  },
  {
   "cell_type": "markdown",
   "metadata": {},
   "source": [
    "# HtDD : How to Design Data Recipe\n",
    "\n",
    "This notebook complements the lecture slide for Module 3 - HtDD."
   ]
  },
  {
   "cell_type": "markdown",
   "metadata": {},
   "source": [
    "The HtDD Recipe is as follows:\n",
    "1. A **data type definition** with type comments where Python's types are not specific enough.\n",
    "2. An **interpretation comment** that describes the correspondence between information and data.\n",
    "3. One or more **examples** of the data.\n",
    "4. A **template** for a one-argument function operating on data of this type."
   ]
  },
  {
   "cell_type": "markdown",
   "metadata": {},
   "source": [
    "## Simple Atomic\n",
    "\n",
    "#### **Problem1**: Design a data definition for representing a country's name.\n",
    "\n",
    "#### Mental Notes (Ashish)\n",
    "Name: CountryName\n",
    "Type = str"
   ]
  },
  {
   "cell_type": "code",
   "execution_count": null,
   "metadata": {},
   "outputs": [],
   "source": [
    "CountryName = str\n",
    "# interp. a name of a country\n",
    "\n",
    "CN1 = \"Canada\"\n",
    "CN2 = \"USA\"\n",
    "CN3 = \"Germany\"\n",
    "\n",
    "\n",
    "@typecheck\n",
    "# Template based on Atomic Non-distinct\n",
    "def fn_for_country_name(cn: CountryName) -> ...:\n",
    "    return ...(cn)  "
   ]
  },
  {
   "cell_type": "raw",
   "metadata": {},
   "source": [
    "# simple atomic\n",
    "# atomic Distinct\n",
    "# atomic Non-distinct\n",
    "\n",
    "\n",
    "# Non-distinct\n",
    "int { 0, 1, -1, -5000, 100, -100000, 3000000}\n",
    "str {\"\", \"ashish\", \"anything dfhjksdjfslk\"}\n",
    "\n",
    "\n",
    "# Atomic distinct\n",
    "bool {True False}\n",
    "None {None}\n",
    "TrafficLight {RED, YELLOW, GREEN }\n"
   ]
  },
  {
   "cell_type": "markdown",
   "metadata": {},
   "source": [
    "## Interval\n",
    "\n",
    "#### Problem 3: Design a data definition to represent the temperature of an oven which varies from 0 to 250 deg. celcius.\n",
    "\n",
    "##### Mental Notes (Ashish)\n",
    "Temperature {0, 16, 20.5, 250.0}"
   ]
  },
  {
   "cell_type": "code",
   "execution_count": null,
   "metadata": {},
   "outputs": [],
   "source": [
    "Temperature = float # in range [0, 250]\n",
    "# interp. Temperature of an oven in deg. celcius\n",
    "\n",
    "T0 = 0.0\n",
    "T1 = 56.7\n",
    "T2 = 250.0\n",
    "\n",
    "@typecheck\n",
    "# Template based on Atomic Non-distinct\n",
    "def fn_for_temperature(t: Temperature) -> ...:\n",
    "    return ...(t)"
   ]
  },
  {
   "cell_type": "markdown",
   "metadata": {},
   "source": [
    "# Worksheet Activity Time!\n",
    "\n",
    "# Q 1-3\n",
    "\n",
    "We will be back at 3.00pm"
   ]
  },
  {
   "cell_type": "markdown",
   "metadata": {},
   "source": [
    "### Optional\n",
    "\n",
    "The HtDD Recipe is as follows:\n",
    "1. A **data type definition** with type comments where Python's types are not specific enough.\n",
    "2. An **interpretation comment** that describes the correspondence between information and data.\n",
    "3. One or more **examples** of the data.\n",
    "4. A **template** for a one-argument function operating on data of this type.\n",
    "\n",
    "\n",
    "\n",
    "#### Problem 5: Design a data definition to represent the countdown of a timer. It is either off or shows a reading from 10 to 0.\n",
    "\n",
    "##### Mental Notes (Ashish)\n",
    "None, 10-0  (Range -> interval with an optional)\n",
    "\n",
    "CountdownTimer = int\n",
    "\n",
    "Examples: 0, 10, 7, None"
   ]
  },
  {
   "cell_type": "code",
   "execution_count": null,
   "metadata": {},
   "outputs": [],
   "source": [
    "from typing import Optional\n",
    "\n",
    "CountdownTimer = Optional[int] # in range [0, 10]\n",
    "#interp. a countdown timer that hasn't started yet (None), or is counting down from 10 to 0.\n",
    "\n",
    "CT0 = None\n",
    "CT1 = 0\n",
    "CT2 = 6\n",
    "CT3 = 10\n",
    "\n",
    "@typecheck\n",
    "# Template based on Optional\n",
    "def fn_for_countdown_timer(ct: CountdownTimer) -> ...:\n",
    "    if ct is None:\n",
    "        return ...\n",
    "    else:\n",
    "        return ...(ct)"
   ]
  },
  {
   "cell_type": "markdown",
   "metadata": {},
   "source": [
    "### Enumeration (Enum)\n",
    "\n",
    "The HtDD Recipe is as follows:\n",
    "1. A **data type definition** with type comments where Python's types are not specific enough.\n",
    "2. An **interpretation comment** that describes the correspondence between information and data.\n",
    "3. One or more **examples** of the data.\n",
    "4. A **template** for a one-argument function operating on data of this type.\n",
    "\n",
    "\n",
    "#### Problem 6: Design a Data Definition to represent grades given to a student as one of A, B, C, D, F\n",
    "\n",
    "##### Mental Notes (Ashish)\n",
    "Enum(A, B, C, D, F)"
   ]
  },
  {
   "cell_type": "code",
   "execution_count": null,
   "metadata": {},
   "outputs": [],
   "source": [
    "from enum import Enum\n",
    "\n",
    "Grade = Enum('Grade', ['A', 'B', 'C', 'D', 'F'])\n",
    "# interp. the grade assigned to a student in a class; one of A, B, C, D, F.\n",
    "\n",
    "# examples are redundant for enumerations\n",
    "\n",
    "@typecheck\n",
    "# template based on Enumeration (5 cases)   \n",
    "def fn_for_grade(g: Grade) -> ...:\n",
    "    if g == Grade.A:\n",
    "        return ...\n",
    "    elif g == Grade.B:\n",
    "        return ...\n",
    "    elif g == Grade.C:\n",
    "        return ...\n",
    "    elif g == Grade.D:\n",
    "        return ...\n",
    "    elif g == Grade.F:\n",
    "        return ..."
   ]
  },
  {
   "cell_type": "markdown",
   "metadata": {},
   "source": [
    "#### Problem 8: Design a data definition to represent the Traffic light signal. It shows one of three lights: Red, Yellow or Green at a time.\n",
    "\n",
    "The HtDD Recipe is as follows:\n",
    "1. A **data type definition** with type comments where Python's types are not specific enough.\n",
    "2. An **interpretation comment** that describes the correspondence between information and data.\n",
    "3. One or more **examples** of the data.\n",
    "4. A **template** for a one-argument function operating on data of this type.\n",
    "\n"
   ]
  },
  {
   "cell_type": "code",
   "execution_count": null,
   "metadata": {},
   "outputs": [],
   "source": [
    "TrafficLight = Enum('TrafficLight', ['R', 'Y', 'G'])\n",
    "# interp. a traffic light color is either Red ('R'), Yellow ('Y'), or Green ('G')\n",
    "\n",
    "# examples are redundant for enumerations\n",
    "\n",
    "@typecheck\n",
    "# Template based on Enumeration (3 cases)\n",
    "def fn_for_traffic_light(tl: TrafficLight) -> ...:\n",
    "    if tl == TrafficLight.R:\n",
    "        return ...\n",
    "    elif tl == TrafficLight.Y:\n",
    "        return ...\n",
    "    elif tl == TrafficLight.G:\n",
    "        return ..."
   ]
  },
  {
   "cell_type": "markdown",
   "metadata": {},
   "source": [
    "# Worksheet Activity Time!\n",
    "\n",
    "### Q 4, 5, 7, 8\n",
    "\n",
    "Meet back here at 4.05 pm\n",
    "\n",
    "\n",
    "Questions to discuss:\n",
    "\n",
    "1. When to use enum vs range?\n",
    "2. Why do we need to import enum but not types like str?\n",
    "3. Do we need a new data definition for every function?\n",
    "4. Why camel case for HTDD and not name it like function definitions\n",
    "5. Can I create an optional of another user defined type?\n"
   ]
  },
  {
   "cell_type": "raw",
   "metadata": {},
   "source": [
    "Optional[int]\n",
    "Optional[float]\n",
    "\n",
    "Optional[TrafficLight]\n",
    "TrafficLight.R, TrafficLight.Y, TrafficLight.G, None"
   ]
  },
  {
   "cell_type": "markdown",
   "metadata": {},
   "source": [
    "# Designing Functions that operates on Data Definitions \n",
    "\n",
    "The HtDF Recipe is as follows:\n",
    "1. Signature, purpose and stub.\n",
    "2. Examples\n",
    "3. Template\n",
    "4. Code the function body\n",
    "5. Test and Debug until correct."
   ]
  },
  {
   "cell_type": "markdown",
   "metadata": {},
   "source": [
    "## Robotic Wheelchair Problem\n",
    "\n",
    "**Problem:** A robotic wheelchair has a sensor that warns if it gets too close to an object. A reading from the sensor is either a distance in centimeters (that is zero or greater) or an error code indicating that no data is presently available. Design a function to determine if a wheelchair is definitely safely out of range of any object (at least 50cm).\n",
    "\n",
    "We need to design a data definition before we can design the function!\n",
    "\n",
    "### Mental Notes (Ashish)\n",
    "\n",
    "SensorReading {floating value, None} Optional[float]\n",
    "\n",
    "\n",
    "The HtDF Recipe is as follows:\n",
    "1. Signature, purpose and stub.\n",
    "2. Examples\n",
    "3. Template\n",
    "4. Code the function body\n",
    "5. Test and Debug until correct.\n",
    "\n",
    "#### Mental Notes for Function Design (Ashish)\n",
    "1. Name => is_safe\n",
    "2. inputs => sr: SensorReading\n",
    "3. output => bool"
   ]
  },
  {
   "cell_type": "code",
   "execution_count": null,
   "metadata": {},
   "outputs": [],
   "source": [
    "# Data Definition  (I am using HtDD recipe)\n",
    "\n",
    "from typing import Optional\n",
    "\n",
    "SensorReading = Optional[float] # in range [0.0, ...) \n",
    "# interp. a wheelchair sensor is reading the distance from the object in cm.\n",
    "# It could be 0.0 or greater, or None if an error is occurred.\n",
    "\n",
    "SR0 = None   \n",
    "SR1 = 0.0\n",
    "SR2 = 78.9\n",
    "SR3 = 50\n",
    "\n",
    "@typecheck \n",
    "# Template based on Optional\n",
    "def fn_for_sensor_reading(sr: SensorReading) -> ...:\n",
    "    if sr is None:\n",
    "        return ...\n",
    "    else:\n",
    "        return ...(sr)\n",
    "\n",
    "    \n",
    "# Function Definition (I am using HtDF recipe)\n",
    "\n",
    "@typecheck\n",
    "def is_safe(sr: SensorReading) -> bool:\n",
    "    '''\n",
    "    Returns True if the given sensor reading from an object is greater than or equal to 50cm,\n",
    "    otherwise it returns False if the reading is less than 50cm or an error has occurred.\n",
    "    '''\n",
    "    # return True # stub\n",
    "    # Template copied from SensorReading\n",
    "    if sr is None:\n",
    "        return False\n",
    "    elif sr >= 50:\n",
    "        return True\n",
    "    else:\n",
    "        return False\n",
    "\n",
    "start_testing()\n",
    "expect(is_safe(SR0), False)  # error in the reading\n",
    "expect(is_safe(SR1), False)  # reading < 50\n",
    "expect(is_safe(SR3), True)   # reading  == 50\n",
    "expect(is_safe(SR2), True)   # reading > 50\n",
    "summary()"
   ]
  },
  {
   "cell_type": "markdown",
   "metadata": {},
   "source": [
    "## Traffic Light Problem (Pre-Lecture Assignment 3)\n",
    "\n",
    "**Problem**: Design a function that take a Traffic Light and returns the next traffic Light."
   ]
  },
  {
   "cell_type": "code",
   "execution_count": null,
   "metadata": {},
   "outputs": [],
   "source": [
    "# Data Definition\n",
    "from enum import Enum\n",
    "\n",
    "TrafficLight = Enum('TrafficLight', ['R', 'Y', 'G'])\n",
    "# interp. a traffic light color is either Red ('R'), Yellow ('Y'), or Green ('G')\n",
    "\n",
    "# examples are redundant for enumerations\n",
    "\n",
    "@typecheck\n",
    "# Template based on Enumeration (3 cases)\n",
    "def fn_for_traffic_light(tl: TrafficLight) -> ...:\n",
    "    if tl == TrafficLight.R:\n",
    "        return ...\n",
    "    elif tl == TrafficLight.Y:\n",
    "        return ...\n",
    "    elif tl == TrafficLight.G:\n",
    "        return ..."
   ]
  },
  {
   "cell_type": "code",
   "execution_count": null,
   "metadata": {},
   "outputs": [],
   "source": [
    "# Function Definition\n",
    "\n",
    "@typecheck\n",
    "def next_traffic_light(tl: TrafficLight) -> TrafficLight:\n",
    "    '''\n",
    "    Returns the next traffic light based on the given traffic light.\n",
    "    '''\n",
    "    # return TrafficLight.Y # stub\n",
    "    # Template copied from TrafficLight\n",
    "    if tl == TrafficLight.R:\n",
    "        return TrafficLight.G\n",
    "    elif tl == TrafficLight.Y:\n",
    "        return TrafficLight.R\n",
    "    elif tl == TrafficLight.G:\n",
    "        return TrafficLight.Y\n",
    "\n",
    "start_testing()\n",
    "expect(next_traffic_light(TrafficLight.R), TrafficLight.G)\n",
    "expect(next_traffic_light(TrafficLight.Y), TrafficLight.R)\n",
    "expect(next_traffic_light(TrafficLight.G), TrafficLight.Y)\n",
    "summary()"
   ]
  }
 ],
 "metadata": {
  "kernelspec": {
   "display_name": "Python 3",
   "language": "python",
   "name": "python3"
  },
  "language_info": {
   "codemirror_mode": {
    "name": "ipython",
    "version": 3
   },
   "file_extension": ".py",
   "mimetype": "text/x-python",
   "name": "python",
   "nbconvert_exporter": "python",
   "pygments_lexer": "ipython3",
   "version": "3.8.5"
  }
 },
 "nbformat": 4,
 "nbformat_minor": 4
}
