{
 "cells": [
  {
   "cell_type": "code",
   "execution_count": 1,
   "metadata": {},
   "outputs": [],
   "source": [
    "from cs103 import *\n",
    "from enum import Enum"
   ]
  },
  {
   "cell_type": "markdown",
   "metadata": {},
   "source": [
    "## Tutorial Solution - HtDD\n",
    "\n",
    "### Pre-Tutorial Work:\n",
    "\n",
    "- Write the data type definition for Problems 1a and 2. This work will not be graded but is highly recommended as preparation for your tutorial."
   ]
  },
  {
   "cell_type": "markdown",
   "metadata": {},
   "source": [
    "### Problem 1a:\n",
    "\n",
    "Design a data definition to represent a rating that a customer could give a business. The rating can be poor, fair, good, very good or excellent.\n",
    "\n",
    "Be sure to follow all steps of the HtDD recipe."
   ]
  },
  {
   "cell_type": "code",
   "execution_count": 2,
   "metadata": {},
   "outputs": [],
   "source": [
    "Rating = Enum('Rating', ['poor', 'fair', 'good', 'very_good', 'excellent'])\n",
    "# interp. a customer rating of a business\n",
    "# examples are redundant for enumerations\n",
    "\n",
    "# template based on enumeration (5 cases) and atomic distinct (5 times)\n",
    "@typecheck\n",
    "def fn_for_rating(r: Rating) -> ...:\n",
    "    if r == Rating.poor:\n",
    "        return ...\n",
    "    elif r == Rating.fair:\n",
    "        return ...\n",
    "    elif r == Rating.good:\n",
    "        return ...\n",
    "    elif r == Rating.very_good:\n",
    "        return ...\n",
    "    elif r == Rating.excellent:\n",
    "        return ..."
   ]
  },
  {
   "cell_type": "markdown",
   "metadata": {},
   "source": [
    "### Problem 1b:\n",
    "\n",
    "Design a function that takes a rating (from Problem 1) and returns true if the rating is positive.\n",
    "\n",
    "Be sure to follow all steps of the HtDF recipe.\n",
    "\n",
    "**Solution note:** it's important in the purpose to make clear any design decisions that would be important to anyone using your function. In this case: is a \"fair\" rating positive or not??"
   ]
  },
  {
   "cell_type": "code",
   "execution_count": 3,
   "metadata": {},
   "outputs": [
    {
     "name": "stdout",
     "output_type": "stream",
     "text": [
      "\u001b[92m5 of 5 tests passed\u001b[0m\n"
     ]
    }
   ],
   "source": [
    "@typecheck\n",
    "def is_positive(r: Rating) -> bool:\n",
    "    \"\"\"\n",
    "    returns true if r is a positive rating (better than fair) and false otherwise\n",
    "    \"\"\"\n",
    "    #return False #stub\n",
    "    # template from Rating\n",
    "    if r == Rating.poor:\n",
    "        return False\n",
    "    elif r == Rating.fair:\n",
    "        return False\n",
    "    elif r == Rating.good:\n",
    "        return True\n",
    "    elif r == Rating.very_good:\n",
    "        return True\n",
    "    elif r == Rating.excellent:\n",
    "        return True\n",
    "\n",
    "start_testing()\n",
    "\n",
    "expect(is_positive(Rating.poor), False)\n",
    "expect(is_positive(Rating.fair), False)\n",
    "expect(is_positive(Rating.good), True)\n",
    "expect(is_positive(Rating.very_good), True)\n",
    "expect(is_positive(Rating.excellent), True)\n",
    "\n",
    "summary()"
   ]
  },
  {
   "cell_type": "markdown",
   "metadata": {},
   "source": [
    "### Problem 2:\n",
    "\n",
    "Design a data definition to represent the severity of a person's allergy (modelled on the [RAST scale](https://en.wikipedia.org/wiki/Radioallergosorbent_test)). Specifically, a person can have an integer-valued allergy rating of 0 through 6, where 0 is the weakest allergic response and 6 is the strongest **or** their allergic response can be unknown. (That is, the allergy can be a normal integer value or a special value indicating that we don't know their allergic response.)\n",
    "\n",
    "Be sure to follow all steps of the HtDD recipe."
   ]
  },
  {
   "cell_type": "code",
   "execution_count": 4,
   "metadata": {},
   "outputs": [],
   "source": [
    "from typing import Optional\n",
    "\n",
    "AllergicResponse = Optional[int]  # in range[0, 6]\n",
    "# interp. a person's allergic response, where 0 is the weakest response and 6 is the strongest.\n",
    "# A value of None indicates that the person's allergic response is unknown.\n",
    "AR_WEAK = 0\n",
    "AR_STRONG = 6\n",
    "AR_UNKNOWN = None\n",
    "\n",
    "# template based on optional\n",
    "@typecheck\n",
    "def fn_for_allergic_response(ar: AllergicResponse) -> ...:\n",
    "    if ar is None:\n",
    "        return ...\n",
    "    else:\n",
    "        return ...(ar)"
   ]
  }
 ],
 "metadata": {
  "kernelspec": {
   "display_name": "Python 3",
   "language": "python",
   "name": "python3"
  },
  "language_info": {
   "codemirror_mode": {
    "name": "ipython",
    "version": 3
   },
   "file_extension": ".py",
   "mimetype": "text/x-python",
   "name": "python",
   "nbconvert_exporter": "python",
   "pygments_lexer": "ipython3",
   "version": "3.8.0"
  }
 },
 "nbformat": 4,
 "nbformat_minor": 2
}
