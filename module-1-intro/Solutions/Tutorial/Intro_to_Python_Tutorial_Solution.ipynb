{
 "cells": [
  {
   "cell_type": "markdown",
   "metadata": {},
   "source": [
    "#  Tutorial Questions - Intro to Python\n",
    "\n",
    "**Pre-Tutorial Work:**\n",
    "\n",
    "None this week."
   ]
  },
  {
   "cell_type": "markdown",
   "metadata": {},
   "source": [
    "## Problem 1\n",
    "\n",
    "Write a statement that finds the second character of the value stored in the variable `season` and assigns it to a new variable. Make sure to choose a meaningful name for your new variable. Your statement should still find that second character even if you change the text assigned to the variable `season` on line 2 below!"
   ]
  },
  {
   "cell_type": "code",
   "execution_count": null,
   "metadata": {},
   "outputs": [],
   "source": [
    "# Given variable\n",
    "season = \"summer\"\n",
    "\n",
    "# solution\n",
    "second_char = season[1]"
   ]
  },
  {
   "cell_type": "markdown",
   "metadata": {},
   "source": [
    "## Problem 2\n",
    "\n",
    "Write a code fragment (i.e. one or more lines of code) that calculates the average of the three ages. Your code fragment should still calculate the correct average even if you change the values assigned to the three variables `age1`, `age2`, and `age3`."
   ]
  },
  {
   "cell_type": "code",
   "execution_count": null,
   "metadata": {},
   "outputs": [],
   "source": [
    "age1 = 21\n",
    "age2 = 38\n",
    "age3 = 18\n",
    "\n",
    "# solution\n",
    "average = (age1 + age2 + age3)/3"
   ]
  },
  {
   "cell_type": "markdown",
   "metadata": {},
   "source": [
    "## Problem 3\n",
    "\n",
    "Write the step-by-step evaluation of the expression `8 >=(6+2) and 2*2 < 5`. \n",
    "\n",
    "Note that you are allowed to elide steps as seen in Example 3 in\n",
    "Section 3.2.2 of the Evaluation Rules document in the Language Module on Canvas."
   ]
  },
  {
   "cell_type": "code",
   "execution_count": null,
   "metadata": {},
   "outputs": [],
   "source": [
    "# Original expression\n",
    "8 >=(6+2) and 2*2 < 5\n",
    "\n",
    "# solution\n",
    "8 >= 8 and 2*2 < 5\n",
    "True and 2*2 < 5\n",
    "True and 4 < 5\n",
    "True and True\n",
    "True"
   ]
  },
  {
   "cell_type": "markdown",
   "metadata": {},
   "source": [
    "## Problem 4\n",
    "\n",
    "We want to design a code fragment that does the following: It adds 7% sales tax to a price (the price is in cents) if `add_tax` is `True`. If `add_tax` is `False`, no tax should be added. Unfortunately, the code below contains one or more errors. Debug (fix) the code fragment until it is correct and runs without errors."
   ]
  },
  {
   "cell_type": "code",
   "execution_count": null,
   "metadata": {},
   "outputs": [],
   "source": [
    "price = 10000\n",
    "add_tax = True\n",
    "\n",
    "if add_tax:\n",
    "    price = price + price * .07\n",
    "    \n",
    "price"
   ]
  },
  {
   "cell_type": "markdown",
   "metadata": {},
   "source": [
    "## Problem 5\n",
    "\n",
    "Write a function that takes a price, adds 7% tax, and returns the total including the tax. Solving problem 4 will help with this problem, but this is a bit different from problem 4. (For example, we are creating a function not a code fragment, and we add the tax no matter what, not depending on `add_tax`.)\n",
    "\n",
    "To check that your function works, you'll want to call it with some different inputs and see what the results are!"
   ]
  },
  {
   "cell_type": "code",
   "execution_count": null,
   "metadata": {},
   "outputs": [],
   "source": [
    "def add_tax(price):\n",
    "    return price + price * 0.07"
   ]
  },
  {
   "cell_type": "code",
   "execution_count": null,
   "metadata": {},
   "outputs": [],
   "source": [
    "# make one call to your function here\n",
    "add_tax(100)  # should produce 107"
   ]
  },
  {
   "cell_type": "code",
   "execution_count": null,
   "metadata": {},
   "outputs": [],
   "source": [
    "# make another call to your function here\n",
    "add_tax(82)  # should produce 82 + 7%, which my calculator/phone tells me is 86.1"
   ]
  },
  {
   "cell_type": "markdown",
   "metadata": {},
   "source": [
    "## Problem 6\n",
    "\n",
    "Now you want a function that will take a price (perhaps from an activity for which you'll share the cost with friends), adds tax, and then splits the bill over some number of people.\n",
    "\n",
    "We've got the function started for you, but you must complete it. Your function *must* call the function you defined in problem 5. Again, to check that `split_cost` works, you'll want to call it with a few different inputs and see what the results are.\n",
    "\n",
    "By the way, there's no need to define that function from problem 5 again. As long as you've run the cell above that defines the function, you can call the function in the cell below."
   ]
  },
  {
   "cell_type": "code",
   "execution_count": null,
   "metadata": {},
   "outputs": [],
   "source": [
    "def split_cost(num_people_to_split, cost):\n",
    "    total_cost = add_tax(cost)\n",
    "    cost_per_person = total_cost / num_people_to_split\n",
    "    return cost_per_person\n"
   ]
  },
  {
   "cell_type": "code",
   "execution_count": null,
   "metadata": {},
   "outputs": [],
   "source": [
    "# example for split_cost\n",
    "split_cost(5, 100) # expect the result 21.4"
   ]
  },
  {
   "cell_type": "code",
   "execution_count": null,
   "metadata": {},
   "outputs": [],
   "source": [
    "# example for split_cost\n",
    "split_cost(1, 20) # expect the result 21.4"
   ]
  },
  {
   "cell_type": "code",
   "execution_count": null,
   "metadata": {},
   "outputs": [],
   "source": [
    "# example for split_cost\n",
    "split_cost(2, 20) # expect the result 10.70"
   ]
  }
 ],
 "metadata": {
  "kernelspec": {
   "display_name": "Python 3",
   "language": "python",
   "name": "python3"
  },
  "language_info": {
   "codemirror_mode": {
    "name": "ipython",
    "version": 3
   },
   "file_extension": ".py",
   "mimetype": "text/x-python",
   "name": "python",
   "nbconvert_exporter": "python",
   "pygments_lexer": "ipython3",
   "version": "3.9.4"
  }
 },
 "nbformat": 4,
 "nbformat_minor": 2
}
