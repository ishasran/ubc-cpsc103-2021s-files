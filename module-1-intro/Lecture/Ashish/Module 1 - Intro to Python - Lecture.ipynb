{
 "cells": [
  {
   "cell_type": "code",
   "execution_count": null,
   "metadata": {},
   "outputs": [],
   "source": [
    "from cs103 import * # needed (once per notebook) to enable incredible cs103 powers!!"
   ]
  },
  {
   "cell_type": "markdown",
   "metadata": {},
   "source": [
    "# Values & Data Types\n",
    "\n",
    "These are examples of values and its corresponding data types"
   ]
  },
  {
   "cell_type": "code",
   "execution_count": null,
   "metadata": {},
   "outputs": [],
   "source": [
    " # int"
   ]
  },
  {
   "cell_type": "code",
   "execution_count": null,
   "metadata": {},
   "outputs": [],
   "source": [
    "# float"
   ]
  },
  {
   "cell_type": "code",
   "execution_count": null,
   "metadata": {},
   "outputs": [],
   "source": [
    " # string"
   ]
  },
  {
   "cell_type": "code",
   "execution_count": null,
   "metadata": {},
   "outputs": [],
   "source": [
    " # none"
   ]
  },
  {
   "cell_type": "code",
   "execution_count": null,
   "metadata": {},
   "outputs": [],
   "source": [
    " # bool"
   ]
  },
  {
   "cell_type": "code",
   "execution_count": null,
   "metadata": {},
   "outputs": [],
   "source": [
    "# bool"
   ]
  },
  {
   "cell_type": "markdown",
   "metadata": {},
   "source": [
    "# Operators & Expressions"
   ]
  },
  {
   "cell_type": "code",
   "execution_count": null,
   "metadata": {},
   "outputs": [],
   "source": [
    "# Simple Expressions"
   ]
  },
  {
   "cell_type": "code",
   "execution_count": null,
   "metadata": {},
   "outputs": [],
   "source": [
    "# String Expressions"
   ]
  },
  {
   "cell_type": "code",
   "execution_count": null,
   "metadata": {},
   "outputs": [],
   "source": []
  },
  {
   "cell_type": "markdown",
   "metadata": {},
   "source": [
    "# Conditional Statements\n",
    "\n",
    "When we want to execute a piece of code based on the evaluation of a conditional expression, we use conditional statements.\n",
    "\n",
    "\n",
    "## if condition\n",
    "If clause guards a piece of code to execute only when the condition-expression evaluates to True."
   ]
  },
  {
   "cell_type": "raw",
   "metadata": {},
   "source": [
    "if <condition-expresson>:\n",
    "    <statement>\n",
    "else:\n",
    "    <statement>"
   ]
  },
  {
   "cell_type": "code",
   "execution_count": null,
   "metadata": {},
   "outputs": [],
   "source": [
    "# given two integer variables a, b, check if a is greater, then print \"yes!\"\n"
   ]
  },
  {
   "cell_type": "markdown",
   "metadata": {},
   "source": [
    "## if-else condition\n",
    "\n",
    "With \"if\" you can run a piece of code only when the condition is met. In some situations you want to run another code when the condition doesn't meet. For example, in declaring the result of test, you grant \"Pass\" only when the earned score is greater than 50. In other cases, you will grant \"Fail\" to the student. "
   ]
  },
  {
   "cell_type": "raw",
   "metadata": {},
   "source": [
    "if <condition-expression>:\n",
    "    <statement1>\n",
    "else:\n",
    "    <statment2>"
   ]
  },
  {
   "cell_type": "code",
   "execution_count": null,
   "metadata": {},
   "outputs": [],
   "source": [
    "# check if a is greater than b, then print \"Yes!\", otherwise print \"No!\""
   ]
  },
  {
   "cell_type": "markdown",
   "metadata": {},
   "source": [
    "### Problem: Declaring the Result\n",
    "A student in CPSC 103 received final grades out of 100. You need to write a program that will print the result if the student got \"Pass\" if the student gets grades more than or equal to 50. Otherwise, give \"Fail\" score."
   ]
  },
  {
   "cell_type": "code",
   "execution_count": null,
   "metadata": {},
   "outputs": [],
   "source": [
    "# code goes here"
   ]
  },
  {
   "cell_type": "markdown",
   "metadata": {},
   "source": [
    "## if-elif-else conditions\n",
    "When you need to evaluate different conditions, then we use elif clause in the conditional statements."
   ]
  },
  {
   "cell_type": "raw",
   "metadata": {},
   "source": [
    "if <condition-expression>:\n",
    "    <statement1>\n",
    "elif <condition-expression2>:\n",
    "    <statement2>\n",
    "elif <condition-expression3>:\n",
    "    <statement3>\n",
    "else:\n",
    "    <other statement>"
   ]
  },
  {
   "cell_type": "markdown",
   "metadata": {},
   "source": [
    "### Problem: Declaring the Result (Version 2)\n",
    "A student in CPSC 103 received final grades out of 100. But this time you need to tell if student receive P/F/Pass with Distinction standing in the class. The rules for identifying it is given below:\n",
    "1. If a student gets more than or equal 75 out of 100, give \"Pass with Distinction\",\n",
    "2. If a student gets less than 75 but more than or equal to 50 out of 100, then \"Pass\",\n",
    "3. Otherwise, a student will get \"Fail\" on the transcript."
   ]
  },
  {
   "cell_type": "code",
   "execution_count": null,
   "metadata": {},
   "outputs": [],
   "source": [
    "# code goes here"
   ]
  },
  {
   "cell_type": "markdown",
   "metadata": {},
   "source": [
    "# Functions\n",
    "A function is a block of code which only runs when it is called and\n",
    "returns values as a result. It has a name, inputs (optional) and a output.\n",
    "\n",
    "Examples are len(), max(), min(), avg(), rectangle(), above(), beside() "
   ]
  },
  {
   "cell_type": "markdown",
   "metadata": {},
   "source": [
    "### Calling a Function\n",
    "A function is like running the machine and that does the thing. Running a donut-maker makes donuts, just like\n",
    "calling a function in Python does the thing."
   ]
  },
  {
   "cell_type": "code",
   "execution_count": null,
   "metadata": {},
   "outputs": [],
   "source": [
    "# calling len() function with parameter 'ashish' returns the length of the string."
   ]
  },
  {
   "cell_type": "code",
   "execution_count": null,
   "metadata": {},
   "outputs": [],
   "source": [
    "# calling max() function with 3 inputs to return the maximum of the three numbers."
   ]
  },
  {
   "cell_type": "code",
   "execution_count": null,
   "metadata": {},
   "outputs": [],
   "source": [
    "# calling rectangle() function to create a rectangle of width and height of 50, solid type, and color \"blue\"."
   ]
  },
  {
   "cell_type": "code",
   "execution_count": null,
   "metadata": {},
   "outputs": [],
   "source": [
    "# create a triangle () function of radius 30, solid type, and color \"green\""
   ]
  },
  {
   "cell_type": "markdown",
   "metadata": {},
   "source": [
    "\n",
    "### Defining a Function\n",
    "A function is like building a machine, it doesn’t do anything. Building a coffee maker doesn’t make coffee, just\n",
    "like defining a function in Python doesn’t do the thing. But it is an important step, because after building it, you can use it (by calling it) to do things for which it is made for."
   ]
  },
  {
   "cell_type": "code",
   "execution_count": null,
   "metadata": {},
   "outputs": [],
   "source": [
    " # Define a function that adds two numbers"
   ]
  },
  {
   "cell_type": "code",
   "execution_count": null,
   "metadata": {},
   "outputs": [],
   "source": [
    "# Define a function that takes a person's name and return a greeting message."
   ]
  },
  {
   "cell_type": "code",
   "execution_count": null,
   "metadata": {},
   "outputs": [],
   "source": [
    "# Define a function "
   ]
  },
  {
   "cell_type": "markdown",
   "metadata": {},
   "source": [
    "\n",
    "### Problem: Declaring the Result (Using Functions)\n",
    "\n",
    "Let's define a Function which determine the result of a student based on the grades a student received.\n",
    "We will use the grades as inputs and returns the result \"Pass\", \"Fail\" as output from the function."
   ]
  },
  {
   "cell_type": "code",
   "execution_count": null,
   "metadata": {},
   "outputs": [],
   "source": [
    "# code goes here"
   ]
  },
  {
   "cell_type": "markdown",
   "metadata": {},
   "source": [
    "# Class Exercise: Drawing Trees\n",
    "Let's draw a tree with code. The rectangle, triangle, and above functions should help."
   ]
  },
  {
   "cell_type": "code",
   "execution_count": null,
   "metadata": {},
   "outputs": [],
   "source": [
    "# Draw a tree here"
   ]
  },
  {
   "cell_type": "markdown",
   "metadata": {},
   "source": [
    "Next, let's draw two trees, side-by-side.\n",
    "The beside function can help. See what you can do with that first!"
   ]
  },
  {
   "cell_type": "code",
   "execution_count": null,
   "metadata": {},
   "outputs": [],
   "source": [
    "# Draw two trees, side-by-side."
   ]
  },
  {
   "cell_type": "markdown",
   "metadata": {},
   "source": [
    "ut... repeating the code seems messy. What if we decide to make\n",
    "them taller? We have to change both of them! Anyway, this code\n",
    "is getting a bit hard to read.\n",
    "\n",
    "A *variable* is a named \"slot\" where our program can remember\n",
    "one value. We choose the name. We can put a value in. By just\n",
    "writing the name where we want a value, we get the value out.\n",
    "We can even put a new value in... but it kicks the old one out!\n",
    "\n",
    "Let's put one tree image *value* into a variable and then use it when we call `beside`."
   ]
  },
  {
   "cell_type": "code",
   "execution_count": null,
   "metadata": {},
   "outputs": [],
   "source": [
    "# Draw two trees side-by-side, but this time use a variable."
   ]
  },
  {
   "cell_type": "markdown",
   "metadata": {},
   "source": [
    "Now, let's draw 10 trees side-by-side. "
   ]
  },
  {
   "cell_type": "code",
   "execution_count": null,
   "metadata": {},
   "outputs": [],
   "source": [
    "# Draw 10 trees, side-by-side."
   ]
  },
  {
   "cell_type": "markdown",
   "metadata": {},
   "source": [
    "Let's draw a tree of given height and the color. Let's use our knowledege of defining functions for this."
   ]
  },
  {
   "cell_type": "code",
   "execution_count": null,
   "metadata": {},
   "outputs": [],
   "source": [
    "# function definition goes here"
   ]
  }
 ],
 "metadata": {
  "kernelspec": {
   "display_name": "Python 3",
   "language": "python",
   "name": "python3"
  },
  "language_info": {
   "codemirror_mode": {
    "name": "ipython",
    "version": 3
   },
   "file_extension": ".py",
   "mimetype": "text/x-python",
   "name": "python",
   "nbconvert_exporter": "python",
   "pygments_lexer": "ipython3",
   "version": "3.8.6"
  }
 },
 "nbformat": 4,
 "nbformat_minor": 4
}
