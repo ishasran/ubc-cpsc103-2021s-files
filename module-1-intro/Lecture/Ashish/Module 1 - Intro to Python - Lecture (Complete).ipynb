{
 "cells": [
  {
   "cell_type": "code",
   "execution_count": 4,
   "metadata": {},
   "outputs": [],
   "source": [
    "from cs103 import * # needed (once per notebook) to enable incredible cs103 powers!!\n",
    "from math import *"
   ]
  },
  {
   "cell_type": "markdown",
   "metadata": {},
   "source": [
    "# Values & Data Types\n",
    "\n",
    "These are examples of values and its corresponding data types"
   ]
  },
  {
   "cell_type": "code",
   "execution_count": null,
   "metadata": {},
   "outputs": [],
   "source": [
    "10 # int"
   ]
  },
  {
   "cell_type": "code",
   "execution_count": null,
   "metadata": {},
   "outputs": [],
   "source": [
    "-10.345 # float"
   ]
  },
  {
   "cell_type": "code",
   "execution_count": null,
   "metadata": {},
   "outputs": [],
   "source": [
    "\"University of British Columbia\" # string"
   ]
  },
  {
   "cell_type": "code",
   "execution_count": null,
   "metadata": {},
   "outputs": [],
   "source": [
    " None # none"
   ]
  },
  {
   "cell_type": "code",
   "execution_count": null,
   "metadata": {},
   "outputs": [],
   "source": [
    "True # bool"
   ]
  },
  {
   "cell_type": "code",
   "execution_count": null,
   "metadata": {},
   "outputs": [],
   "source": [
    "False # bool"
   ]
  },
  {
   "cell_type": "markdown",
   "metadata": {},
   "source": [
    "# Operators & Expressions"
   ]
  },
  {
   "cell_type": "code",
   "execution_count": null,
   "metadata": {},
   "outputs": [],
   "source": [
    "10 + 22 / 5 * 4 # Simple Expressions"
   ]
  },
  {
   "cell_type": "code",
   "execution_count": 10,
   "metadata": {},
   "outputs": [],
   "source": [
    "\"Ashish\"[3] # String Expressions"
   ]
  },
  {
   "cell_type": "code",
   "execution_count": null,
   "metadata": {},
   "outputs": [],
   "source": []
  },
  {
   "cell_type": "markdown",
   "metadata": {},
   "source": [
    "# Conditional Statements\n",
    "\n",
    "When we want to execute a piece of code based on the evaluation of a conditional expression, we use conditional statements.\n",
    "\n",
    "\n",
    "## if condition\n",
    "If clause guards a piece of code to execute only when the condition-expression evaluates to True."
   ]
  },
  {
   "cell_type": "raw",
   "metadata": {},
   "source": [
    "if <condition-expresson>:\n",
    "    <statement>\n",
    "else:\n",
    "    <statement>"
   ]
  },
  {
   "cell_type": "code",
   "execution_count": 13,
   "metadata": {},
   "outputs": [
    {
     "data": {
      "text/plain": [
       "'yes!'"
      ]
     },
     "execution_count": 13,
     "metadata": {},
     "output_type": "execute_result"
    }
   ],
   "source": [
    "# given two integer variables a, b, check if a is greater, then print \"yes!\"\n",
    "\n",
    "a = 40\n",
    "b = 8\n",
    "result = 'No'\n",
    "\n",
    "if a > b:\n",
    "    result = \"yes!\"\n",
    "result"
   ]
  },
  {
   "cell_type": "markdown",
   "metadata": {},
   "source": [
    "## if-else condition\n",
    "\n",
    "With \"if\" you can run a piece of code only when the condition is met. In some situations you want to run another code when the condition doesn't meet. For example, in declaring the result of test, you grant \"Pass\" only when the earned score is greater than 50. In other cases, you will grant \"Fail\" to the student. "
   ]
  },
  {
   "cell_type": "raw",
   "metadata": {},
   "source": [
    "if <condition-expression>:\n",
    "    <statement1>\n",
    "else:\n",
    "    <statment2>"
   ]
  },
  {
   "cell_type": "code",
   "execution_count": 15,
   "metadata": {},
   "outputs": [
    {
     "data": {
      "text/plain": [
       "'Yes!'"
      ]
     },
     "execution_count": 15,
     "metadata": {},
     "output_type": "execute_result"
    }
   ],
   "source": [
    "# check if a is greater than b, then print \"Yes!\", otherwise print \"No!\"\n",
    "\n",
    "a = 483\n",
    "b = 78\n",
    "result = \"\"\n",
    "\n",
    "if a > b:\n",
    "    result = \"Yes!\"\n",
    "else:\n",
    "    result = \"No!\"\n",
    "result"
   ]
  },
  {
   "cell_type": "markdown",
   "metadata": {},
   "source": [
    "### Problem: Declaring the Result\n",
    "A student in CPSC 103 received final grades out of 100. You need to write a program that will print the result if the student got \"Pass\" if the student gets grades more than or equal to 50. Otherwise, give \"Fail\" score."
   ]
  },
  {
   "cell_type": "code",
   "execution_count": 20,
   "metadata": {},
   "outputs": [
    {
     "data": {
      "text/plain": [
       "'Fail'"
      ]
     },
     "execution_count": 20,
     "metadata": {},
     "output_type": "execute_result"
    }
   ],
   "source": [
    "# code goes here\n",
    "grades = 49\n",
    "result = \"\"\n",
    "\n",
    "if grades >= 50:\n",
    "    result = \"Pass\"\n",
    "else:\n",
    "    result = \"Fail\"\n",
    "result"
   ]
  },
  {
   "cell_type": "markdown",
   "metadata": {},
   "source": [
    "## if-elif-else conditions\n",
    "When you need to evaluate different conditions, then we use elif clause in the conditional statements.\n",
    "\n",
    "elif is a short form of \"else if\""
   ]
  },
  {
   "cell_type": "raw",
   "metadata": {},
   "source": [
    "if <condition-expression>:\n",
    "    <statement1>\n",
    "elif <condition-expression2>:\n",
    "    <statement2>\n",
    "elif <condition-expression3>:\n",
    "    <statement3>\n",
    "else:\n",
    "    <other statement>"
   ]
  },
  {
   "cell_type": "markdown",
   "metadata": {},
   "source": [
    "### Problem: Declaring the Result (Version 2)\n",
    "A student in CPSC 103 received final grades out of 100. But this time you need to tell if student receive P/F/Pass with Distinction standing in the class. The rules for identifying it is given below:\n",
    "1. If a student gets more than or equal 75 out of 100, give \"Pass with Distinction\",\n",
    "2. If a student gets less than 75 but more than or equal to 50 out of 100, then \"Pass\",\n",
    "3. Otherwise, a student will get \"Fail\" on the transcript."
   ]
  },
  {
   "cell_type": "code",
   "execution_count": 26,
   "metadata": {},
   "outputs": [
    {
     "data": {
      "text/plain": [
       "'Fail'"
      ]
     },
     "execution_count": 26,
     "metadata": {},
     "output_type": "execute_result"
    }
   ],
   "source": [
    "# code goes here\n",
    "score = 49\n",
    "result = \"\"\n",
    "\n",
    "if score >= 75:\n",
    "    result = \"Pass with Distinction\"\n",
    "elif score < 75 and score >= 50:\n",
    "    result = \"Pass\"\n",
    "else:\n",
    "    result = \"Fail\"\n",
    "result"
   ]
  },
  {
   "cell_type": "markdown",
   "metadata": {},
   "source": [
    "# Functions\n",
    "A function is a block of code which only runs when it is called and\n",
    "returns values as a result. It has a name, inputs (optional) and a output.\n",
    "\n",
    "Examples are len(), max(), min(), avg(), rectangle(), above(), beside() "
   ]
  },
  {
   "cell_type": "markdown",
   "metadata": {},
   "source": [
    "# Terminologies in Function\n",
    "(Checkout the Lecture notes slides for description)\n",
    "1. Name\n",
    "2. Inputs\n",
    "3. Output"
   ]
  },
  {
   "cell_type": "markdown",
   "metadata": {},
   "source": [
    "### Calling a Function\n",
    "A function is like running the machine and that does the thing. Running a donut-maker makes donuts, just like\n",
    "calling a function in Python does the thing."
   ]
  },
  {
   "cell_type": "code",
   "execution_count": 28,
   "metadata": {},
   "outputs": [
    {
     "data": {
      "text/plain": [
       "30"
      ]
     },
     "execution_count": 28,
     "metadata": {},
     "output_type": "execute_result"
    }
   ],
   "source": [
    "# calling len() function with parameter 'ashish' returns the length of the string.\n",
    "len(\"ashish\")\n",
    "\n",
    "len(\"University of British Columbia\")"
   ]
  },
  {
   "cell_type": "code",
   "execution_count": 31,
   "metadata": {},
   "outputs": [
    {
     "data": {
      "text/plain": [
       "0.34"
      ]
     },
     "execution_count": 31,
     "metadata": {},
     "output_type": "execute_result"
    }
   ],
   "source": [
    "# calling max() function with 3 inputs to return the maximum of the three numbers.\n",
    "max(-1, 0.34)"
   ]
  },
  {
   "cell_type": "code",
   "execution_count": 32,
   "metadata": {},
   "outputs": [
    {
     "data": {
      "text/plain": [
       "<cs103.image.image.Rectangle object at 0x7f218c7f7040>"
      ]
     },
     "execution_count": 32,
     "metadata": {},
     "output_type": "execute_result"
    },
    {
     "data": {
      "image/png": "[encoded data removed]",
      "text/plain": [
       "<Figure size 37.5x37.5 with 1 Axes>"
      ]
     },
     "metadata": {
      "needs_background": "light"
     },
     "output_type": "display_data"
    }
   ],
   "source": [
    "# calling rectangle() function to create a rectangle of width and height of 50, solid type, and color \"blue\".\n",
    "rectangle(50, 50, \"solid\", \"blue\")"
   ]
  },
  {
   "cell_type": "code",
   "execution_count": 34,
   "metadata": {},
   "outputs": [
    {
     "data": {
      "text/plain": [
       "<cs103.image.image.Triangle object at 0x7f218c6e46d0>"
      ]
     },
     "execution_count": 34,
     "metadata": {},
     "output_type": "execute_result"
    },
    {
     "data": {
      "image/png": "[encoded data removed]",
      "text/plain": [
       "<Figure size 225x187.5 with 1 Axes>"
      ]
     },
     "metadata": {
      "needs_background": "light"
     },
     "output_type": "display_data"
    }
   ],
   "source": [
    "# create a triangle () function of size 30, height 50, solid type, and color \"green\"\n",
    "triangle(300, 250, \"solid\", \"green\")"
   ]
  },
  {
   "cell_type": "markdown",
   "metadata": {},
   "source": [
    "\n",
    "### Defining a Function\n",
    "A function is like building a machine, it doesn’t do anything. Building a coffee maker doesn’t make coffee, just\n",
    "like defining a function in Python doesn’t do the thing. But it is an important step, because after building it, you can use it (by calling it) to do things for which it is made for."
   ]
  },
  {
   "cell_type": "raw",
   "metadata": {},
   "source": [
    "\n",
    "def <name>(<parameter>, <paramter2>,...):\n",
    "    <body of the function>\n",
    "    <return statement>\n"
   ]
  },
  {
   "cell_type": "code",
   "execution_count": 40,
   "metadata": {},
   "outputs": [
    {
     "data": {
      "text/plain": [
       "800"
      ]
     },
     "execution_count": 40,
     "metadata": {},
     "output_type": "execute_result"
    }
   ],
   "source": [
    "# Define a function that adds two numbers\n",
    "\n",
    "def add_numbers(a, b):\n",
    "    return a + b\n",
    "\n",
    "add_numbers(10, 790)"
   ]
  },
  {
   "cell_type": "code",
   "execution_count": 42,
   "metadata": {},
   "outputs": [
    {
     "data": {
      "text/plain": [
       "'Hi, Ashish!'"
      ]
     },
     "execution_count": 42,
     "metadata": {},
     "output_type": "execute_result"
    }
   ],
   "source": [
    "# Define a function that takes a person's name and return a greeting message.\n",
    "\n",
    "# name: greet_me\n",
    "# input: person_name\n",
    "# output: \"Hi, <person_name>!\"\n",
    "\n",
    "def greet_me(person_name):\n",
    "    return \"Hi, \" + person_name + \"!\"\n",
    "\n",
    "greet_me(\"Ashish\")"
   ]
  },
  {
   "cell_type": "code",
   "execution_count": null,
   "metadata": {},
   "outputs": [],
   "source": [
    "# Define a function "
   ]
  },
  {
   "cell_type": "markdown",
   "metadata": {},
   "source": [
    "\n",
    "### Problem: Declaring the Result (Using Functions)\n",
    "\n",
    "Let's define a Function which determine the result of a student based on the grades a student received.\n",
    "We will use the grades as inputs and returns the result \"Pass\", \"Fail\" as output from the function."
   ]
  },
  {
   "cell_type": "code",
   "execution_count": 44,
   "metadata": {},
   "outputs": [
    {
     "data": {
      "text/plain": [
       "'Fail'"
      ]
     },
     "execution_count": 44,
     "metadata": {},
     "output_type": "execute_result"
    }
   ],
   "source": [
    "# code goes here\n",
    "\n",
    "def declare_result(score):\n",
    "    if score >= 50:\n",
    "        return \"Pass\"\n",
    "    else:\n",
    "        return \"Fail\""
   ]
  },
  {
   "cell_type": "code",
   "execution_count": 45,
   "metadata": {},
   "outputs": [
    {
     "data": {
      "text/plain": [
       "'Pass'"
      ]
     },
     "execution_count": 45,
     "metadata": {},
     "output_type": "execute_result"
    }
   ],
   "source": [
    "declare_result(79)"
   ]
  },
  {
   "cell_type": "code",
   "execution_count": 46,
   "metadata": {},
   "outputs": [
    {
     "data": {
      "text/plain": [
       "'Fail'"
      ]
     },
     "execution_count": 46,
     "metadata": {},
     "output_type": "execute_result"
    }
   ],
   "source": [
    "declare_result(45)"
   ]
  },
  {
   "cell_type": "markdown",
   "metadata": {},
   "source": [
    "# Class Exercise: Drawing Trees\n",
    "Let's draw a tree with code. The rectangle, triangle, and above functions should help."
   ]
  },
  {
   "cell_type": "code",
   "execution_count": 54,
   "metadata": {},
   "outputs": [
    {
     "data": {
      "text/plain": [
       "<cs103.image.image.Above object at 0x7f218c507ee0>"
      ]
     },
     "execution_count": 54,
     "metadata": {},
     "output_type": "execute_result"
    },
    {
     "data": {
      "image/png": "[encoded data removed]",
      "text/plain": [
       "<Figure size 37.5x75 with 1 Axes>"
      ]
     },
     "metadata": {
      "needs_background": "light"
     },
     "output_type": "display_data"
    }
   ],
   "source": [
    "# Draw a tree here\n",
    "\n",
    "# Foliage  (Triangle)\n",
    "# Trunk    (Rectangle)\n",
    "\n",
    "above(triangle(50, 50, \"solid\", \"green\"), rectangle(10, 50, \"solid\", \"brown\"))"
   ]
  },
  {
   "cell_type": "markdown",
   "metadata": {},
   "source": [
    "Next, let's draw two trees, side-by-side.\n",
    "The beside function can help. See what you can do with that first!"
   ]
  },
  {
   "cell_type": "code",
   "execution_count": 58,
   "metadata": {},
   "outputs": [
    {
     "data": {
      "text/plain": [
       "<cs103.image.image.Beside object at 0x7f218c6a2dc0>"
      ]
     },
     "execution_count": 58,
     "metadata": {},
     "output_type": "execute_result"
    },
    {
     "data": {
      "image/png": "[encoded data removed]",
      "text/plain": [
       "<Figure size 75x75 with 1 Axes>"
      ]
     },
     "metadata": {
      "needs_background": "light"
     },
     "output_type": "display_data"
    }
   ],
   "source": [
    "# Draw two trees, side-by-side.\n",
    "beside(above(triangle(50, 50, \"solid\", \"green\"), rectangle(10, 50, \"solid\", \"brown\")), \n",
    "       above(triangle(50, 50, \"solid\", \"green\"), rectangle(10, 50, \"solid\", \"brown\")))"
   ]
  },
  {
   "cell_type": "markdown",
   "metadata": {},
   "source": [
    "ut... repeating the code seems messy. What if we decide to make\n",
    "them taller? We have to change both of them! Anyway, this code\n",
    "is getting a bit hard to read.\n",
    "\n",
    "A *variable* is a named \"slot\" where our program can remember\n",
    "one value. We choose the name. We can put a value in. By just\n",
    "writing the name where we want a value, we get the value out.\n",
    "We can even put a new value in... but it kicks the old one out!\n",
    "\n",
    "Let's put one tree image *value* into a variable and then use it when we call `beside`."
   ]
  },
  {
   "cell_type": "code",
   "execution_count": 63,
   "metadata": {},
   "outputs": [
    {
     "data": {
      "text/plain": [
       "<cs103.image.image.Beside object at 0x7f218c462a00>"
      ]
     },
     "execution_count": 63,
     "metadata": {},
     "output_type": "execute_result"
    },
    {
     "data": {
      "image/png": "[encoded data removed]",
      "text/plain": [
       "<Figure size 37.5x75 with 1 Axes>"
      ]
     },
     "metadata": {
      "needs_background": "light"
     },
     "output_type": "display_data"
    }
   ],
   "source": [
    "# Draw two trees side-by-side, but this time use a variable.\n",
    "\n",
    "foliage = triangle(50, 50, \"solid\", \"green\")\n",
    "trunk = rectangle(10, 50, \"solid\", \"brown\")\n",
    "tree = above(foliage, trunk)\n",
    "beside(tree)"
   ]
  },
  {
   "cell_type": "markdown",
   "metadata": {},
   "source": [
    "Now, let's draw 10 trees side-by-side. "
   ]
  },
  {
   "cell_type": "code",
   "execution_count": 64,
   "metadata": {},
   "outputs": [
    {
     "data": {
      "text/plain": [
       "<cs103.image.image.Beside object at 0x7f218c42b610>"
      ]
     },
     "execution_count": 64,
     "metadata": {},
     "output_type": "execute_result"
    },
    {
     "data": {
      "image/png": "[encoded data removed]",
      "text/plain": [
       "<Figure size 375x75 with 1 Axes>"
      ]
     },
     "metadata": {
      "needs_background": "light"
     },
     "output_type": "display_data"
    }
   ],
   "source": [
    "# Draw 10 trees, side-by-side.\n",
    "foliage = triangle(50, 50, \"solid\", \"green\")\n",
    "trunk = rectangle(10, 50, \"solid\", \"brown\")\n",
    "tree = above(foliage, trunk)\n",
    "beside(tree, tree, tree, tree, tree, tree, tree, tree, tree, tree)"
   ]
  },
  {
   "cell_type": "markdown",
   "metadata": {},
   "source": [
    "Let's draw a tree of given height and the color. Let's use our knowledege of defining functions for this."
   ]
  },
  {
   "cell_type": "code",
   "execution_count": 71,
   "metadata": {},
   "outputs": [
    {
     "data": {
      "text/plain": [
       "<cs103.image.image.Above object at 0x7f218c3ba0a0>"
      ]
     },
     "execution_count": 71,
     "metadata": {},
     "output_type": "execute_result"
    },
    {
     "data": {
      "image/png": "[encoded data removed]",
      "text/plain": [
       "<Figure size 60x97.5 with 1 Axes>"
      ]
     },
     "metadata": {
      "needs_background": "light"
     },
     "output_type": "display_data"
    }
   ],
   "source": [
    "# function definition goes here\n",
    "# (height, color) -> make_tree -> Tree Image\n",
    "\n",
    "def make_tree(height, foliage_color, trunk_color):\n",
    "    foliage = triangle(80, 80, \"solid\", foliage_color)\n",
    "    trunk = rectangle(10, height, \"solid\", trunk_color)\n",
    "    return above(foliage, trunk)\n",
    "\n",
    "make_tree(50, \"pink\", \"red\")"
   ]
  },
  {
   "cell_type": "markdown",
   "metadata": {},
   "source": [
    "# Dealing with Different Functions"
   ]
  },
  {
   "cell_type": "code",
   "execution_count": 77,
   "metadata": {},
   "outputs": [
    {
     "data": {
      "text/plain": [
       "3.0"
      ]
     },
     "execution_count": 77,
     "metadata": {},
     "output_type": "execute_result"
    }
   ],
   "source": [
    "# it outputs 9 because sqrt() is evaluated and its result is not used. \n",
    "x = 9\n",
    "sqrt(9)\n",
    "x"
   ]
  },
  {
   "cell_type": "code",
   "execution_count": null,
   "metadata": {},
   "outputs": [],
   "source": [
    "# x is still 9 because sqrt() is evaluated and its result is not stored back in x. \n",
    "# And when we pass a variable to a function call like x into sqrt(), the value of x\n",
    "# is copied into the function, so it cannot change the outer variable x. Therefore,\n",
    "# x remains unchanged.\n",
    "x = 9\n",
    "sqrt(x)\n",
    "x"
   ]
  },
  {
   "cell_type": "code",
   "execution_count": null,
   "metadata": {},
   "outputs": [],
   "source": [
    "# x is output as 3.0. The x is changed here because the result of expression sqrt(x) is stored back in x.\n",
    "# And any division operation in python result into a float value, therefore 3.0, not 3.\n",
    "\n",
    "x = 9\n",
    "x = sqrt(x)\n",
    "x"
   ]
  },
  {
   "cell_type": "markdown",
   "metadata": {},
   "source": [
    "### A useful tool to know the signature of built-in function"
   ]
  },
  {
   "cell_type": "code",
   "execution_count": 10,
   "metadata": {},
   "outputs": [
    {
     "name": "stdout",
     "output_type": "stream",
     "text": [
      "Help on built-in function sqrt in module math:\n",
      "\n",
      "sqrt(x, /)\n",
      "    Return the square root of x.\n",
      "\n"
     ]
    }
   ],
   "source": [
    "# help() function can be used to know the signature (name, input arguments, and what it retuns and its purpose)\n",
    "# of any function built-in into python or included into the environment by importing the library.\n",
    "# For e.g. it works for sqrt() function also because we imported the library using \"from math import *\"\n",
    "\n",
    "help(sqrt)"
   ]
  }
 ],
 "metadata": {
  "kernelspec": {
   "display_name": "Python 3",
   "language": "python",
   "name": "python3"
  },
  "language_info": {
   "codemirror_mode": {
    "name": "ipython",
    "version": 3
   },
   "file_extension": ".py",
   "mimetype": "text/x-python",
   "name": "python",
   "nbconvert_exporter": "python",
   "pygments_lexer": "ipython3",
   "version": "3.8.6"
  }
 },
 "nbformat": 4,
 "nbformat_minor": 4
}
