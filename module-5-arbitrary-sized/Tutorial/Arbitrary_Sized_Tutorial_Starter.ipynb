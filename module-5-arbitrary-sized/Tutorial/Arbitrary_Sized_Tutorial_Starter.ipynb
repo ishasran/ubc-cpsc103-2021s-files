{
 "cells": [
  {
   "cell_type": "code",
   "execution_count": null,
   "metadata": {},
   "outputs": [],
   "source": [
    "from cs103 import *"
   ]
  },
  {
   "cell_type": "markdown",
   "metadata": {},
   "source": [
    "## Pre-Tutorial Work:\n",
    "\n",
    "Complete Part One of the in-class worksheet.\n",
    "\n"
   ]
  },
  {
   "cell_type": "markdown",
   "metadata": {},
   "source": [
    "## Problem 1\n",
    "\n",
    "For each of the examples in the function design `any_positive` below, fill in the trace table and show the value stored in the variable `res` and the portion of the list that has been “seen” so far each time the body of the loop is executed. Just fill in \"n/a\" for cells that make no sense, but notice that even if the loop never runs, we can still ask about \"just before the first time through the loop\", which is when the `for` loop notices that there are no elements of `loi`.\n",
    "\n",
    "To edit this table, double click in the cell. As an example, we have filled in the first row.\n",
    "\n",
    "| Example  |  just before 1st time through the loop | just before 2nd time  | just before 3rd third  |  just before 4th time |\n",
    "|---|---|---|---|---|\n",
    "| `[]` | `res = False`, have seen `[]`  | n/a  | n/a  | n/a  |\n",
    "| `[1,2,3]` |   |   |   |   |\n",
    "| `[1,-2,-7]` |   |   |   |   |\n",
    "| `[-1,-92,10]` |   |   |   |   |\n",
    "| `[-11,-9,-10]` |   |   |   |   |"
   ]
  },
  {
   "cell_type": "code",
   "execution_count": null,
   "metadata": {},
   "outputs": [],
   "source": [
    "from cs103 import *\n",
    "from typing import List\n",
    "\n",
    "@typecheck\n",
    "def any_positive(loi: List[int]) -> bool:\n",
    "    \"\"\"\n",
    "    return True if any element in loi is positive\n",
    "    \"\"\"\n",
    "    # return False #stub\n",
    "    # template from List[int]\n",
    "    \n",
    "    res = False\n",
    "    for i in loi:\n",
    "        if i > 0:\n",
    "            res = True\n",
    "    return res\n",
    "    \n",
    "start_testing()\n",
    "\n",
    "expect(any_positive([]), False)\n",
    "expect(any_positive([1,2,3]), True)\n",
    "expect(any_positive([1,-2,-7]), True)\n",
    "expect(any_positive([-1,-92,10]), True)\n",
    "expect(any_positive([-11,-9,-10]), False)\n",
    "\n",
    "summary()"
   ]
  },
  {
   "cell_type": "markdown",
   "metadata": {},
   "source": [
    "## Problem 2\n",
    "\n",
    "Below is an alternative implementation for `any_positive`. Note that the signature and purpose are the same, but the function name has been changed to `any_positive2` and the implementation is different.\n",
    "\n",
    "For each of the examples in the function design `any_positive2` below, fill in the trace table and show the portion of the list that has been “seen” so far each time the body of the loop is executed. The first and last examples are filled in for you.\n",
    "\n",
    "| Example  |  just before 1st time through the loop | just before 2nd time  | just before 3rd third  |  just before 4th time |\n",
    "|---|---|---|---|---|\n",
    "| `[]`           | have seen `[]`                        | n/a                  | n/a                   | n/a                      |\n",
    "| `[1,2,3]`      |                                       |                      |                       |                          |\n",
    "| `[1,-2,-7]`    |                                       |                      |                       |                          |\n",
    "| `[-1,-92,10]`  |                                       |                      |                       |                          |\n",
    "| `[-11,-9,-10]` | have seen `[]`                        | have seen `[-11]`    | have seen `[-11,-9]`  | have seen `[-11,-9,-10]` |\n"
   ]
  },
  {
   "cell_type": "code",
   "execution_count": null,
   "metadata": {},
   "outputs": [],
   "source": [
    "from cs103 import *\n",
    "from typing import List\n",
    "\n",
    "@typecheck\n",
    "def any_positive2(loi: List[int]) -> bool:\n",
    "    \"\"\"\n",
    "    return True if any element in loi is positive\n",
    "    \"\"\"\n",
    "    # return False #stub\n",
    "    # template from List[int]\n",
    "    \n",
    "    for i in loi:\n",
    "        if i > 0:\n",
    "            return True\n",
    "    return False\n",
    "    \n",
    "start_testing()\n",
    "\n",
    "expect(any_positive2([]), False)\n",
    "expect(any_positive2([1,2,3]), True)\n",
    "expect(any_positive2([1,-2,-7]), True)\n",
    "expect(any_positive2([-1,-92,10]), True)\n",
    "expect(any_positive2([-11,-9,-10]), False)\n",
    "\n",
    "summary()"
   ]
  },
  {
   "cell_type": "markdown",
   "metadata": {},
   "source": [
    "## Problem 3\n",
    "\n",
    "**PROBLEMS 3 AND 4 RELY ON MODULE 5 WEEK 2 MATERIAL!** You're welcome to start early, but we'll focus on this in the second week rather than the first. (A good stopping point might be to design the data definition below as if it were a list that contains a primitive type. Then, in the pre-reading for the second class, you'll see how to modify that data definition to follow the *reference rule*.)\n",
    "\n",
    "Below is a table of information on government grants provided to charitable/community organizations from lottery funding. You are going to build on the CommunityGamingGrant data definition (given below) that is appropriate to store one row of information from this table in order to create a data type that can store an arbitrary number of community grants. **Design a data definition to represent an arbitrary number of community grants.** Remember to follow the HtDD recipe.\n",
    "\n",
    "Note: the CommunityGamingGrant type is based on the information about gaming grants in BC between April 1, 2017 to July 13, 2018.\n",
    "\n",
    "|City|Organization|Grant Type|Grant Sector|Grant Subsector|Payment Amount|\n",
    "|---|---|---|---|---|---|\n",
    "|Abbotsford | Abbotsford Agrifair |\tCommunity Gaming Grant | Arts and Culture | Fairs, Festivals, Museums\t| 80000|\n",
    "|Abbotsford | Abbotsford BMX Society |\tCommunity Gaming Grant | Sport | Sports for Youth | 29500|\n",
    "|Abbotsford | Abbotsford Falcons Football Association |\tCommunity Gaming Grant | Sport | Sports for Youth | 22000|\n",
    "|Abbotsford | Abbotsford International Airshow Society | Community Gaming Grant | Arts and Culture | Fairs, Festivals, Museums\t| 60000|\n",
    "\n",
    "\n",
    "Source: DataBC. https://catalogue.data.gov.bc.ca/dataset/gaming-grants-paid-to-community-organizations/resource/7281e8ca-b649-4af9-b812-2a3e0bf8e4be (accessed: April 22, 2019) "
   ]
  },
  {
   "cell_type": "code",
   "execution_count": null,
   "metadata": {},
   "outputs": [],
   "source": [
    "from typing import NamedTuple, List\n",
    "\n",
    "CommunityGamingGrant = NamedTuple('CommunityGamingGrant', [('city', str),      \n",
    "                                                           ('org', str),   \n",
    "                                                           ('type', str), \n",
    "                                                           ('sec', str),    \n",
    "                                                           ('subsec', str),      \n",
    "                                                           ('amt', int)])     # in range[0, ...)\n",
    "# interp. community gaming grant data from BC. includes the city, organization ('org'), grant type ('type'),\n",
    "#         grant sector ('sec'), grant subsector ('subsec'), and payment amount ('amt') in CAD\n",
    "AGRIFAIR = CommunityGamingGrant(\"Abbotsford\", \n",
    "                                \"Abbotsford Agrifair\", \n",
    "                                \"Community Gaming Grant\", \n",
    "                                \"Arts and Culture\", \n",
    "                                \"Fairs, Festivals, Museums\", \n",
    "                                80000)\n",
    "BMX = CommunityGamingGrant(\"Abbotsford\", \n",
    "                           \"Abbotsford BMX Society\", \n",
    "                           \"Community Gaming Grant\", \n",
    "                           \"Sport\", \n",
    "                           \"Sports for Youth\", \n",
    "                           29500)\n",
    "FALCONS = CommunityGamingGrant(\"Abbotsford\", \n",
    "                               \"Abbotsford Falcons Football Association\", \n",
    "                               \"Community Gaming Grant\", \n",
    "                               \"Sport\", \n",
    "                               \"Sports for Youth\", \n",
    "                               22000)\n",
    "AIRSHOW = CommunityGamingGrant(\"Abbotsford\", \n",
    "                               \"Abbotsford International Airshow Society\", \n",
    "                               \"Community Gaming Grant\", \n",
    "                               \"Arts and Culture\", \n",
    "                               \"Fairs, Festivals, Museums\", \n",
    "                               60000)\n",
    "\n",
    "# template based on compound\n",
    "@typecheck\n",
    "def fn_for_community_gaming_grant(cg: CommunityGamingGrant) -> ...:\n",
    "    return ...(cg.city,\n",
    "               cg.org,\n",
    "               cg.type,\n",
    "               cg.sec,\n",
    "               cg.subsec,\n",
    "               cg.amt)\n"
   ]
  },
  {
   "cell_type": "code",
   "execution_count": null,
   "metadata": {},
   "outputs": [],
   "source": [
    "# your solution goes here"
   ]
  },
  {
   "cell_type": "markdown",
   "metadata": {},
   "source": [
    "## Problem 4\n",
    "\n",
    "Design a function that takes a list of community grants and finds the name of the organization that received the largest grant. If two or more are tied, return the first one.\n",
    "\n",
    "Hints:\n",
    "1. You may assume that the input list is not empty. (In that case, be sure to *state* that assumption in your function's purpose! Otherwise callers of your function may think they can pass in an empty list.)\n",
    "2. You may want to design your loop to find the *whole* grant with the largest dollar value. Once you've done that, is there a way to get just the organization's name after the loop?"
   ]
  },
  {
   "cell_type": "code",
   "execution_count": null,
   "metadata": {},
   "outputs": [],
   "source": [
    "# your solution goes here"
   ]
  },
  {
   "cell_type": "code",
   "execution_count": null,
   "metadata": {
    "deletable": false,
    "editable": false
   },
   "outputs": [],
   "source": [
    "# NOTE: You should not be able to edit this cell. Just run it to start the process of submiting your code.\n",
    "from cs103 import submit\n",
    "\n",
    "COURSE = 72592\n",
    "ASSIGNMENT = 889055\n",
    "\n",
    "submit(COURSE, ASSIGNMENT)\n",
    "\n",
    "# If your submission fails,  SUBMIT ANYWAY by downloading your files and uploading them \n",
    "# to Canvas. You can learn how on the page \"How to submit your Jupyter notebook\" on our \n",
    "# Canvas site."
   ]
  }
 ],
 "metadata": {
  "kernelspec": {
   "display_name": "Python 3",
   "language": "python",
   "name": "python3"
  },
  "language_info": {
   "codemirror_mode": {
    "name": "ipython",
    "version": 3
   },
   "file_extension": ".py",
   "mimetype": "text/x-python",
   "name": "python",
   "nbconvert_exporter": "python",
   "pygments_lexer": "ipython3",
   "version": "3.8.5"
  }
 },
 "nbformat": 4,
 "nbformat_minor": 2
}
