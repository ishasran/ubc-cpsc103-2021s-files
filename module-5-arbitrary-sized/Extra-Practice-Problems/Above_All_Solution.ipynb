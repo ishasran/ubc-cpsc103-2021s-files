{
 "cells": [
  {
   "cell_type": "markdown",
   "metadata": {},
   "source": [
    "Problem 1:\n",
    "\n",
    "Design a data definition for a list of images.\n",
    "\n",
    "Be sure to follow all steps of the HtDD recipe."
   ]
  },
  {
   "cell_type": "code",
   "execution_count": 1,
   "metadata": {},
   "outputs": [],
   "source": [
    "from cs103 import * \n",
    "from typing import List\n",
    "\n",
    "# List[Image] \n",
    "# interp. a list of images\n",
    "LOI0 = []\n",
    "LOI1 = [circle(15, \"solid\", \"pink\"), \n",
    "        rectangle(22, 10, \"outline\", \"blue\"),\n",
    "        triangle(35, 30, \"solid\", \"purple\")]\n",
    "\n",
    "# template based on arbitrary-sized\n",
    "@typecheck\n",
    "def fn_for_loi(loi: List[Image]) -> ...:\n",
    "    # description of the acc\n",
    "    acc = ... # type:\n",
    "    for i in loi:\n",
    "        acc = ...(i, acc)\n",
    "    return ...(acc)"
   ]
  },
  {
   "cell_type": "markdown",
   "metadata": {},
   "source": [
    "Problem 2: \n",
    "\n",
    "Using your data definition from Problem 1, design a function that takes a list of images and returns a single image with all the elements of the given list placed above each other.\n",
    "\n",
    "Be sure to follow all steps of the HtDF recipe."
   ]
  },
  {
   "cell_type": "code",
   "execution_count": 2,
   "metadata": {},
   "outputs": [
    {
     "name": "stdout",
     "output_type": "stream",
     "text": [
      "\u001b[92m2 of 2 tests passed\u001b[0m\n"
     ]
    }
   ],
   "source": [
    "@typecheck\n",
    "def above_all(loi: List[Image]) -> Image:\n",
    "    \"\"\"\n",
    "    returns a single image with all items in loi placed above each other\n",
    "    \"\"\"\n",
    "    #return square(1, \"solid\", \"white\") # stub\n",
    "\n",
    "    # template from List[Image]\n",
    "    # acc is a single image containing all the images seen so far from loi \n",
    "    # placed above each other\n",
    "    acc = empty_image # type: Image\n",
    "    for i in loi:\n",
    "        acc = above(acc, i)\n",
    "    return acc\n",
    "\n",
    "# Start testing\n",
    "start_testing()\n",
    "\n",
    "expect(above_all(LOI0), empty_image)\n",
    "expect(above_all(LOI1), above(empty_image,\n",
    "                              circle(15, \"solid\", \"pink\"), \n",
    "                              rectangle(22, 10, \"outline\", \"blue\"),\n",
    "                              triangle(35, 30, \"solid\", \"purple\")))\n",
    "# Show testing summary\n",
    "summary()"
   ]
  }
 ],
 "metadata": {
  "kernelspec": {
   "display_name": "Python 3",
   "language": "python",
   "name": "python3"
  },
  "language_info": {
   "codemirror_mode": {
    "name": "ipython",
    "version": 3
   },
   "file_extension": ".py",
   "mimetype": "text/x-python",
   "name": "python",
   "nbconvert_exporter": "python",
   "pygments_lexer": "ipython3",
   "version": "3.9.2"
  }
 },
 "nbformat": 4,
 "nbformat_minor": 2
}
