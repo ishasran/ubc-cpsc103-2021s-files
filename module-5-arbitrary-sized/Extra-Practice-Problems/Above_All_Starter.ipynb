{
 "cells": [
  {
   "cell_type": "markdown",
   "metadata": {},
   "source": [
    "Problem 1:\n",
    "\n",
    "Design a data definition for a list of images.\n",
    "\n",
    "Be sure to follow all steps of the HtDD recipe."
   ]
  },
  {
   "cell_type": "code",
   "execution_count": null,
   "metadata": {},
   "outputs": [],
   "source": [
    "from cs103 import * \n",
    "\n",
    "# your solution to Problem 1 goes here"
   ]
  },
  {
   "cell_type": "markdown",
   "metadata": {},
   "source": [
    "Problem 2: \n",
    "\n",
    "Using your data definition from Problem 1, design a function that takes a list of images and returns a single image with all the elements of the given list placed above each other.\n",
    "\n",
    "Be sure to follow all steps of the HtDF recipe."
   ]
  },
  {
   "cell_type": "code",
   "execution_count": null,
   "metadata": {},
   "outputs": [],
   "source": [
    "# your solution to Problem 2 goes here"
   ]
  }
 ],
 "metadata": {
  "kernelspec": {
   "display_name": "Python 3",
   "language": "python",
   "name": "python3"
  },
  "language_info": {
   "codemirror_mode": {
    "name": "ipython",
    "version": 3
   },
   "file_extension": ".py",
   "mimetype": "text/x-python",
   "name": "python",
   "nbconvert_exporter": "python",
   "pygments_lexer": "ipython3",
   "version": "3.6.6"
  }
 },
 "nbformat": 4,
 "nbformat_minor": 2
}
