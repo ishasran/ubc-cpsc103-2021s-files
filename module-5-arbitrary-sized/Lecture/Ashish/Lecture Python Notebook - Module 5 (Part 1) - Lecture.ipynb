{
 "cells": [
  {
   "cell_type": "code",
   "execution_count": 5,
   "metadata": {},
   "outputs": [],
   "source": [
    "from cs103 import * # needed (once per notebook) to enable incredible cs103 powers!!"
   ]
  },
  {
   "cell_type": "markdown",
   "metadata": {},
   "source": [
    "# Lecture 5 - Module 5 - Arbitrary-Sized (Part 1)\n",
    "\n",
    "This notebook is in continuation to the Lecture 5 slides on Module - Arbitrary-Sized (Part 1)."
   ]
  },
  {
   "cell_type": "markdown",
   "metadata": {},
   "source": [
    "The HtDD Recipe we use is as follows:\n",
    "1. A **data type definition** with type comments where Python's types are not specific enough.\n",
    "2. An **interpretation comment** that describes the correspondence between information and data.\n",
    "3. One or more **examples** of the data.\n",
    "4. A **template** for a one-argument function operating on data of this type."
   ]
  },
  {
   "cell_type": "markdown",
   "metadata": {},
   "source": [
    "# Basic List Examples "
   ]
  },
  {
   "cell_type": "code",
   "execution_count": null,
   "metadata": {},
   "outputs": [],
   "source": [
    "# List[int], List[str], List[bool], List[float]  # list of primitive data types.\n",
    "\n",
    "scores = [4, 7, 9, 10, 22]\n",
    "\n",
    "scores[0]\n",
    "\n",
    "scores[3]\n",
    "\n",
    "len(scores)\n",
    "\n",
    "# For loops"
   ]
  },
  {
   "cell_type": "markdown",
   "metadata": {},
   "source": [
    "# List[str] Data Definition\n",
    "\n",
    "The HtDD Recipe we use is as follows:\n",
    "1. A **data type definition** with type comments where Python's types are not specific enough.\n",
    "2. An **interpretation comment** that describes the correspondence between information and data.\n",
    "3. One or more **examples** of the data.\n",
    "4. A **template** for a one-argument function operating on data of this type.\n",
    "\n",
    "Let's try creating a list of names of Universities in Canada. Now since it's an arbitrary-sized data, therefore, first we will create a List[str] data definition."
   ]
  },
  {
   "cell_type": "code",
   "execution_count": null,
   "metadata": {},
   "outputs": [],
   "source": [
    "from typing import List\n",
    "\n",
    "# List[str]\n",
    "# interp. A list of names of the Universities in Canada.\n",
    "\n",
    "LOS0 = []\n",
    "LOS1 = [\"UBC\", \"UVic\", \"SFU\", \"UofT\"]\n",
    "LOS2 = [\"Ontario University\", \"Western University\", \"McGill University\"]\n",
    "\n",
    "# Template based on Arbitrary-sized\n",
    "@typecheck\n",
    "def fn_for_los(los: List[str]) -> ...:\n",
    "    # description of the accumulator\n",
    "    acc = ...  # type: ...\n",
    "    \n",
    "    for s in los:\n",
    "        acc = ...(s, acc)\n",
    "    \n",
    "    return ...(acc)\n",
    "\n",
    "\n",
    "\n",
    "## To demonstrate the example where we don't need accumulator, let's \n",
    "## Design a function that checks if the list of names of universities contains \"UBC\"\n",
    "\n",
    "@typecheck \n",
    "def check_ubc(los: List[str]) -> bool:\n",
    "    '''\n",
    "    Returns True if los contains 'UBC', False otherwise.\n",
    "    '''\n",
    "    # return False # stub\n",
    "    # Template copied from List[str]\n",
    "   \n",
    "    for s in los:\n",
    "        if s == 'UBC':\n",
    "            return True\n",
    "    \n",
    "    return False\n",
    "\n",
    "start_testing()\n",
    "expect(check_ubc(LOS1), True)\n",
    "expect(check_ubc(LOS2), False)\n",
    "summary()"
   ]
  },
  {
   "cell_type": "markdown",
   "metadata": {},
   "source": [
    "# For Loops Execution"
   ]
  },
  {
   "cell_type": "code",
   "execution_count": 1,
   "metadata": {},
   "outputs": [
    {
     "name": "stdout",
     "output_type": "stream",
     "text": [
      "UBC is good!\n",
      "UVic is good!\n",
      "SFU is good!\n",
      "UofT is good!\n",
      "finally done!\n"
     ]
    }
   ],
   "source": [
    "LOS1 = [\"UBC\", \"UVic\", \"SFU\", \"UofT\"]\n",
    "\n",
    "for s in  LOS1:        # s = \"UofT\"\n",
    "    print(s + \" is good!\")\n",
    "\n",
    "print(\"finally done!\")    \n"
   ]
  },
  {
   "cell_type": "markdown",
   "metadata": {},
   "source": [
    "# Introducing Accumulators"
   ]
  },
  {
   "cell_type": "code",
   "execution_count": 3,
   "metadata": {},
   "outputs": [
    {
     "name": "stdout",
     "output_type": "stream",
     "text": [
      "72\n"
     ]
    }
   ],
   "source": [
    "# We want to take the product of all the numbers in the list.\n",
    "\n",
    "loi = [3, 4, 6, 1]   \n",
    "\n",
    "# Alternative solution: product = loi[0] * loi[1] * loi[2] * loi[3]\n",
    "\n",
    "\n",
    "# Elegant Solution as well as scalable\n",
    "# acc stores the product of the integers seen so far.\n",
    "acc = 1   #type: int\n",
    "\n",
    "for i in loi:          # loi [ 3, 4, 6, 1],\n",
    "    acc = i * acc      #  i = 3,  acc = 1, acc = 3\n",
    "print(acc)             # i = 4, acc = 3,  acc = 12\n",
    "                       # acc = 12, i = 6, acc = 72\n",
    "                       # acc = 72, i = 1, acc = 72"
   ]
  },
  {
   "cell_type": "markdown",
   "metadata": {},
   "source": [
    "# Using Accumulator\n",
    "\n",
    "## Calculate Grades\n",
    "\n",
    "Imagine you work as TA for CPSC103. And you wanted to calculate the total score of every student in the class. Instead of doing it manually, you thought of using your CPSC103 knowledge. Design a data definition that represent the list of scores received by a student as List[float] and then Design a function which takes a list of grades of students for different assignments and calculate the sum of it."
   ]
  },
  {
   "cell_type": "code",
   "execution_count": null,
   "metadata": {},
   "outputs": [],
   "source": [
    "# Data Definition\n",
    "\n",
    "from typing import List\n",
    "\n",
    "\n",
    "# List[float]\n",
    "# interp. A list of scores received by a student in CPSC 103 for 4 assignments.\n",
    "\n",
    "LOF0 = []\n",
    "LOF1 = [0, 0, 0, 0]\n",
    "LOF2 = [50.0, 80.0, 30.7, 78.7]\n",
    "LOF3 = [4.0, 8.0, 9.0, 0]\n",
    "\n",
    "# Template based on Arbitrary-sized\n",
    "@typecheck\n",
    "def fn_for_lof(lof: List[float]) -> ...:\n",
    "    # description of the accumulator\n",
    "    acc = ...     # type: ... \n",
    "    \n",
    "    for f in lof:\n",
    "        acc = ...(f, acc)\n",
    "    \n",
    "    return ...(acc)\n",
    "\n",
    "\n",
    "\n",
    "\n",
    "# Function Definition\n",
    "\n",
    "# Mental Notes (Ashish)\n",
    "#  name: total()\n",
    "#  input(s)=> scores: List[float]\n",
    "#  output => float\n",
    "\n",
    "@typecheck\n",
    "def total(scores: List[float]) -> float:\n",
    "    '''\n",
    "    Returns the total of the given list of scores received by a student in CPSC 103 course.\n",
    "    '''\n",
    "    # return 10.0 # stub\n",
    "    # Template copied from List[float]\n",
    "    \n",
    "    # result stores the sum of scores seen so far\n",
    "    result = 0.0     # type:  float\n",
    "    \n",
    "    for sc in scores:\n",
    "        result = sc + result\n",
    "    \n",
    "    return result\n",
    "    \n",
    "\n",
    "start_testing()\n",
    "expect(total(LOF0), 0)\n",
    "expect(total(LOF1), 0)\n",
    "expect(total(LOF2), 50.0 + 80.0 + 30.7 + 78.7)\n",
    "expect(total(LOF3), 21.0)\n",
    "summary()"
   ]
  },
  {
   "cell_type": "markdown",
   "metadata": {},
   "source": [
    "## Survey Responses\n",
    "\n",
    "Imagine you work in an operations research firm as Data Analyst. Your company sent out a survey with 5 questions to a broad audience about their interaction with COVID patients which has Yes or NO answers. \n",
    "\n",
    "Design a data definition that represents the response of a participant for the survey. \n",
    "And then design a function that takes the response of the survey of a single participant and identify if the participant has a chance of COVID or not. (If atleast two answers are True, that means the participant is at high risk of getting COVID)."
   ]
  },
  {
   "cell_type": "code",
   "execution_count": null,
   "metadata": {},
   "outputs": [],
   "source": [
    "# Data Definition\n",
    "\n",
    "# List[bool]\n",
    "# interp. A list of responses to the survey questionnaire by a participant.\n",
    "\n",
    "LOB0 = []\n",
    "LOB1 = [False, False, False, False, False]\n",
    "LOB2 = [False, False, False, True, False]\n",
    "LOB3 = [False, True, False, True, False]\n",
    "LOB4 = [True, True, True, True, True]\n",
    "\n",
    "# Template based on Arbitrary-sized\n",
    "@typecheck\n",
    "def fn_for_lob(lob: List[bool]) -> ...:\n",
    "    # description of the accumulator\n",
    "    acc = ... # type: ...\n",
    "    \n",
    "    for b in lob:\n",
    "        acc = ...(acc, b)\n",
    "    \n",
    "    return ...(acc)\n",
    "\n",
    "\n",
    "# Function Design\n",
    "# name => has_covid()\n",
    "# inputs => response: List[bool]\n",
    "# outputs => bool\n",
    "\n",
    "@typecheck\n",
    "def has_covid(response: List[bool]) -> bool:\n",
    "    '''\n",
    "    Returns True if the given list of survery response has 2 or more True answers,\n",
    "    False otherwise.\n",
    "    '''\n",
    "    # return True # stub\n",
    "    # Template copied from List[bool]\n",
    "    \n",
    "    # acc stores the count of True responses seen so far\n",
    "    acc = 0 # type: int\n",
    "    \n",
    "    for b in response:     \n",
    "        if b == True:\n",
    "            acc = acc + 1\n",
    "    \n",
    "    return acc >= 2\n",
    "\n",
    "start_testing()\n",
    "expect(has_covid(LOB0), False)\n",
    "expect(has_covid(LOB1), False)\n",
    "expect(has_covid(LOB2), False)\n",
    "expect(has_covid(LOB3), True)\n",
    "expect(has_covid(LOB4), True)\n",
    "summary()"
   ]
  },
  {
   "cell_type": "markdown",
   "metadata": {},
   "source": [
    "# Using Two Accumulators\n",
    "\n",
    "\n",
    "## Episode Length Problem\n",
    "\n",
    "The data below represents the length of episodes from a TV show in minutes. We have examples for only one episode of a show (Friends), a full season of a show (Game of Thrones), and a whole show (The Good Place).\n",
    "\n",
    "**Problem:** Design a function that finds the average duration (in minutes) of all episodes in an `EpisodeDurations`.\n",
    "\n",
    "Hint: We're going to end up using multiple accumulators in this design."
   ]
  },
  {
   "cell_type": "code",
   "execution_count": 7,
   "metadata": {},
   "outputs": [
    {
     "name": "stderr",
     "output_type": "stream",
     "text": [
      "<>:25: SyntaxWarning: 'ellipsis' object is not callable; perhaps you missed a comma?\n",
      "<>:27: SyntaxWarning: 'ellipsis' object is not callable; perhaps you missed a comma?\n",
      "<>:25: SyntaxWarning: 'ellipsis' object is not callable; perhaps you missed a comma?\n",
      "<>:27: SyntaxWarning: 'ellipsis' object is not callable; perhaps you missed a comma?\n",
      "<ipython-input-7-d577137c170f>:25: SyntaxWarning: 'ellipsis' object is not callable; perhaps you missed a comma?\n",
      "  acc = ...(duration, acc)\n",
      "<ipython-input-7-d577137c170f>:27: SyntaxWarning: 'ellipsis' object is not callable; perhaps you missed a comma?\n",
      "  return ...(acc)\n"
     ]
    }
   ],
   "source": [
    "from typing import List\n",
    "\n",
    "EpisodeDurations = List[float] # in range [0, ...)\n",
    "# interp. the duration of episodes in minutes for some number of episodes of a TV Show\n",
    "\n",
    "ED0 = []\n",
    "ED_FRIENDS_S01E01 = [22.8]\n",
    "ED_GAME_OF_THRONES_S01 = [61.62, 55.28, 57.23, 55.62, 54.27, 52.6, 57.79, 58.13, 56.27, 52.62]\n",
    "ED_GOOD_PLACE = [\n",
    "    26.27, 21.50, 24.90, 22.55, 26.30, 26.35, 24.23, 25.23, 24.88, 23.78, \n",
    "    26.62, 21.53, 26.88, 42.68, 21.60, 23.92, 25.37, 24.65, 23.28, 23.72, \n",
    "    21.60, 24.78, 22.77, 23.47, 24.33, 21.60, 21.55, 21.60, 21.60, 21.60, \n",
    "    21.53, 21.55, 21.53, 21.53, 22.53, 21.53, 21.53, 21.53, 22.42, 21.40, \n",
    "    21.42, 21.43, 21.43, 21.42, 21.42, 21.40, 21.42, 21.42, 21.45, 21.43, \n",
    "    52.48\n",
    "]\n",
    "\n",
    "# template based on arbitrary-sized\n",
    "@typecheck\n",
    "def fn_for_ed(ed: EpisodeDurations) -> ...:\n",
    "    # description of the accumulator\n",
    "    acc = ...   # type: ...\n",
    "\n",
    "    for duration in ed:\n",
    "        acc = ...(duration, acc)\n",
    "\n",
    "    return ...(acc)"
   ]
  },
  {
   "cell_type": "code",
   "execution_count": 8,
   "metadata": {},
   "outputs": [
    {
     "name": "stdout",
     "output_type": "stream",
     "text": [
      "\u001b[92m5 of 5 tests passed\u001b[0m\n"
     ]
    }
   ],
   "source": [
    "# Mental Notes (Ashish)\n",
    "# name => avg_episode_duration()\n",
    "# inputs => ed: EpisodeDurations\n",
    "# output => float\n",
    "\n",
    "@typecheck\n",
    "def avg_episode_duration(ed: EpisodeDurations) -> float:\n",
    "    '''\n",
    "    Returns the average duration (in minutes) of the episodes in ed.\n",
    "    (The average duration of zero episodes is returned as 0.)\n",
    "    '''\n",
    "    # return 0.0 # stub\n",
    "    # Template copied from EpisodeDurations\n",
    "    \n",
    "    # total_duration has the sum of durations of all the episodes seen so far\n",
    "    total_duration = 0.0   # type: float\n",
    "    \n",
    "    # number_episodes counts the number of episodes seen so far\n",
    "    num_episodes = 0  # type: int\n",
    "    \n",
    "    \n",
    "    for duration in ed: \n",
    "        total_duration = total_duration + duration\n",
    "        num_episodes = num_episodes + 1\n",
    "        \n",
    "    if num_episodes == 0:\n",
    "        return 0.0\n",
    "    else:\n",
    "        return total_duration / num_episodes\n",
    "\n",
    "start_testing()\n",
    "expect(avg_episode_duration(ED0), 0)\n",
    "expect(avg_episode_duration([0]), 0)\n",
    "expect(avg_episode_duration(ED_FRIENDS_S01E01), 22.8)\n",
    "expect(avg_episode_duration(ED_GAME_OF_THRONES_S01), (61.62 +55.28 + 57.23 + 55.62 +54.27 +52.6 +57.79 + 58.13 + 56.27 +52.62)/10)\n",
    "expect(avg_episode_duration([18.4, 18.4, 18.4, 18.4]), 18.4)\n",
    "summary()\n"
   ]
  },
  {
   "cell_type": "markdown",
   "metadata": {},
   "source": [
    "### The part covered under here is not on the Midterm\n",
    "\n",
    "# Module 5  (Part 2) - Precap!\n",
    "\n",
    "\n",
    "We designed non-primitive data types such as Book, Song, Game in Module 4. Now we will look how to\n",
    "create a list of books, list of Songs, essentially what I am saying is list of any non-primitive data type.\n",
    "\n",
    "1. HTDD for List[Book], List[Song]\n",
    "2. Reference Rules?\n",
    "3. Helper Function?\n",
    "\n",
    "\n",
    "### Helper Functions\n",
    "Very naive example of helper functions you have seen already so far:\n",
    "\n",
    "```\n",
    "name = \"Ashish\"\n",
    "len(name)\n",
    "```\n",
    "\n",
    "### Reference Rule (Example)"
   ]
  },
  {
   "cell_type": "code",
   "execution_count": null,
   "metadata": {},
   "outputs": [],
   "source": [
    "from typing import NamedTuple\n",
    "\n",
    "# Suffix Data Definition\n",
    "\n",
    "Suffix = Optional[str]\n",
    "# interp.\n",
    "\n",
    "S0 = None\n",
    "S1 = 'F'\n",
    "S2 = 'M'\n",
    "\n",
    "@typecheck\n",
    "def fn_for_suffix(s: Suffix) -> ...:\n",
    "    if s is None:\n",
    "        return ...\n",
    "    else:\n",
    "        return ...(s)\n",
    "\n",
    "\n",
    "# Course Data Definition\n",
    "Course = NamedTuple('Course', [('name', str),\n",
    "                               ('number', int),\n",
    "                               ('suffix', Suffix)\n",
    "                               ('dept', str)])\n",
    "# interp. \n",
    "\n",
    "C0\n",
    "C1 = Course('Intro to SPD', 103, 'M'  'CS')\n",
    "C2 = Course('XYZ', 103,   'CS')\n",
    "\n",
    "# Template based on Compound\n",
    "@typecheck\n",
    "def fn_for_course(c: Course) -> ...:\n",
    "    return ...(c.name,\n",
    "               c.number,\n",
    "               fn_for_suffix(c.suffix),    #  <-------- reference rule\n",
    "               c.dept)"
   ]
  }
 ],
 "metadata": {
  "kernelspec": {
   "display_name": "Python 3",
   "language": "python",
   "name": "python3"
  },
  "language_info": {
   "codemirror_mode": {
    "name": "ipython",
    "version": 3
   },
   "file_extension": ".py",
   "mimetype": "text/x-python",
   "name": "python",
   "nbconvert_exporter": "python",
   "pygments_lexer": "ipython3",
   "version": "3.8.5"
  }
 },
 "nbformat": 4,
 "nbformat_minor": 4
}
