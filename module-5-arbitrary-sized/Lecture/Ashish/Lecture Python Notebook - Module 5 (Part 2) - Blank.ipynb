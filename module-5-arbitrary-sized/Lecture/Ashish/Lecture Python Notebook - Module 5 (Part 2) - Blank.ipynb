{
 "cells": [
  {
   "cell_type": "code",
   "execution_count": null,
   "metadata": {},
   "outputs": [],
   "source": [
    "from cs103 import * # needed (once per notebook) to enable incredible cs103 powers!!"
   ]
  },
  {
   "cell_type": "markdown",
   "metadata": {},
   "source": [
    "# Lecture 5 - Module 5 - Arbitrary-Sized (Part 2)\n",
    "\n",
    "This notebook is in continuation to the Lecture 5 slides on Module - Arbitrary-Sized (Part 2)."
   ]
  },
  {
   "cell_type": "markdown",
   "metadata": {},
   "source": [
    "The HtDD Recipe we use is as follows:\n",
    "1. A **data type definition** with type comments where Python's types are not specific enough.\n",
    "2. An **interpretation comment** that describes the correspondence between information and data.\n",
    "3. One or more **examples** of the data.\n",
    "4. A **template** for a one-argument function operating on data of this type."
   ]
  },
  {
   "cell_type": "markdown",
   "metadata": {},
   "source": [
    "# Composing Data Definitions\n",
    "\n",
    "Sometimes a data definition can reference another data definitions. FOr example, A course is a compound type. So just like it has properties (e.g., name, dept, number) which are primtive types such as int, float, str, etc. It can also have properties which are non-primitive types, i.e., it be other compounds, intervals, optional, enumeration, etc.\n",
    "\n",
    "This is demonstrated using Suffix data type which has been created to represent an optional suffix character."
   ]
  },
  {
   "cell_type": "code",
   "execution_count": null,
   "metadata": {},
   "outputs": [],
   "source": [
    "from typing import NamedTuple\n",
    "\n",
    "Course = NamedTuple('Course', [('name', str),\n",
    "                               ('dept', str),   # 4 character sequence \n",
    "                               ('number', int),  # in range [0, 699]\n",
    "                               ('max_stu', int) # in range [0, ...)\n",
    "                              ])\n",
    "# interp. A course that has been offered at UBC has a name, dept, course number ('number'), and\n",
    "# the maximum number of students it can have ('max_stu')\n",
    "\n",
    "C1 = Course('Intro to Programming', 'CS', 103, 120)\n",
    "C2 = Course('Intro to Database', 'CS', 220, 50)\n",
    "C3 = Course('Machine Learning', 'CS', 340, 110)\n",
    "\n",
    "# Template based on Arbitrary-sized\n",
    "@typecheck\n",
    "def fn_for_course(c: Course) -> ...:\n",
    "    return ...(c.name,\n",
    "               c.dept,\n",
    "               c.number,\n",
    "               c.max_stu)"
   ]
  },
  {
   "cell_type": "markdown",
   "metadata": {},
   "source": [
    "# Understanding Reference Rule\n",
    "\n",
    "Every time a data design uses another data that is not primitive, the reference rule should be used!\n",
    "\n",
    "The reference rule tell us that we are using two complex data types and probably this function is going to be complex.\n",
    "\n",
    "Anytime that a variable is from a non primitive type, we should invoke its template function.\n",
    "\n",
    "\n",
    "**Problem**: Instead of a department as a `str` in Course, we want to capture department as Enumeration. For simplicity, let us assume there are 4 departments (CS, ARTS, MED, LAW). Create a new Course Data Definition\n",
    "\n"
   ]
  },
  {
   "cell_type": "code",
   "execution_count": null,
   "metadata": {},
   "outputs": [],
   "source": [
    "# your solution goes here"
   ]
  },
  {
   "cell_type": "markdown",
   "metadata": {},
   "source": [
    "# Arbitrary-sized list of Compounds\n",
    "\n",
    "In the lecture 4, we created `Book` data definition to represent a book on Indigo bookstore's website. However, a bookstore never has a single book. It has a big collection of books which can be represented as arbitrary-sized lists.\n",
    "\n",
    "Therefore, let's create a `List[Book]` Data Definition below. The `Book` Data definition from Lecture 4 is already provided."
   ]
  },
  {
   "cell_type": "code",
   "execution_count": null,
   "metadata": {},
   "outputs": [],
   "source": [
    "from typing import NamedTuple\n",
    "\n",
    "Book = NamedTuple('Book', [(\"title\", str), \n",
    "                           (\"author\", str),\n",
    "                           (\"publication_year\", int), # in range [0, ...)\n",
    "                           ('price', float),   # in range [0, ...)\n",
    "                           (\"rating\", int)     # in range [1, 5]  \n",
    "                          ])\n",
    "# interp. A book with a title, author, publication year ('publication_year'), price (in canadian dollars),\n",
    "# and a rating (from 1-5).\n",
    "\n",
    "\n",
    "B0 = Book('Atomic Habits', 'James Clear', 2018, 21.60, 4)\n",
    "B1 = Book('The Push', 'Ashley Aurdrain', 2021, 17.49, 4)\n",
    "B2 = Book('Untamed', 'Glennon Doyle', 2020, 27.75, 3)\n",
    "B3 = Book('The Design of Everyday Things', 'Don Norman', 2021, 31.99, 5)\n",
    "\n",
    "# Template based on Compound\n",
    "@typecheck\n",
    "def fn_for_book(b: Book) -> ...:\n",
    "    return ...(b.title, \n",
    "               b.author, \n",
    "               b.publication_year, \n",
    "               b.price, \n",
    "               b.rating)"
   ]
  },
  {
   "cell_type": "code",
   "execution_count": null,
   "metadata": {},
   "outputs": [],
   "source": [
    "# your solution goes here"
   ]
  },
  {
   "cell_type": "markdown",
   "metadata": {},
   "source": [
    "## More List Operations (Append)"
   ]
  },
  {
   "cell_type": "code",
   "execution_count": null,
   "metadata": {},
   "outputs": [],
   "source": [
    "# Doing some more list operations (like append to a list)"
   ]
  },
  {
   "cell_type": "markdown",
   "metadata": {},
   "source": [
    "# Designing Functions based on List[Compound]\n",
    "\n",
    "### Helper Functions and Reference Rule into play!\n",
    "\n",
    "**Problem 1**: Design a function that takes a list of books we created in the last segment, and returns the list which are published in 2021 only."
   ]
  },
  {
   "cell_type": "code",
   "execution_count": null,
   "metadata": {},
   "outputs": [],
   "source": [
    "# your solution goes here"
   ]
  },
  {
   "cell_type": "markdown",
   "metadata": {},
   "source": [
    "### What is a helper function?\n",
    "A helper function is a normal function that instead of solving the\n",
    "main problem, it solves a small part of the problem helping the\n",
    "main function to solve the problem.\n",
    "\n",
    "1. The main function is the function which actually solves the problem and uses the helper function to achieve this. In the last example, it was `recent_publication()` function.\n",
    "2. A good design have several small functions that do only a small task. For example, `is_recent()` in the last example is the helper function which does a small task only. It identifies if the given book (only one book) is published in 2021 or not.\n",
    "3. **Every time the reference rule appears, it indicates that a helper function may be needed.**"
   ]
  },
  {
   "cell_type": "markdown",
   "metadata": {},
   "source": [
    "## When you may not need Helper function?\n",
    "We say you may or may not need helper function when reference rule appears. A situation where you do not need helper function\n",
    "\n",
    "**Problem 2**: Design a function that takes the list of books returns the list of names of the books."
   ]
  },
  {
   "cell_type": "code",
   "execution_count": null,
   "metadata": {},
   "outputs": [],
   "source": [
    "# your solution goes here"
   ]
  },
  {
   "cell_type": "markdown",
   "metadata": {},
   "source": [
    "## But here we need Helper function!\n",
    "\n",
    "Module 5 Worksheet Problem 12 and 13. Given a Course and List[Course], Design a function that takes a list of courses and returns the list of course codes. A course code is combination of department ID and course number and optional suffix."
   ]
  },
  {
   "cell_type": "code",
   "execution_count": null,
   "metadata": {},
   "outputs": [],
   "source": [
    "Course = NamedTuple('Course', [('name', str),\n",
    "                               ('num', int), # in range[0,699]\n",
    "                               ('dept', str), # 4 uppercase letters\n",
    "                               ('max_stu', int)]) # in range [0, …)\n",
    "# interp. a course's name, number, department that offers it, and maximum\n",
    "# number of students\n",
    "\n",
    "C1 = Course('Shakespeare', 520, 'ENGL', 45)\n",
    "C2 = Course('Algorithms', 221, 'CPSC', 300)\n",
    "C3 = Course('Finance', 331, 'COMM', 100)\n",
    "\n",
    "def fn_for_course(c: Course) -> ...: # template based on compound\n",
    "    return ...(c.name, # str\n",
    "               c.num, # int in range [0, 699]\n",
    "               c.dept, # str 4 uppercase letters\n",
    "               c.max_stu,) # int in rnage [0, ...)\n",
    "\n",
    "\n",
    "Calendar = List[Course]\n",
    "# interp. the list of all courses offered at a university\n",
    "\n",
    "CAL0 = []\n",
    "CAL1 = [C2, C3, C1]\n",
    "\n",
    "# template based on arbirary sized and reference rule\n",
    "def fn_for_calendar(loc: List[Course]) -> ...:\n",
    "    # description of the acc\n",
    "    acc = ... # type: ...\n",
    "    \n",
    "    for course in loc:\n",
    "        acc = ...(acc, fn_for_course(course))\n",
    "        \n",
    "    return ...(acc)"
   ]
  },
  {
   "cell_type": "code",
   "execution_count": null,
   "metadata": {},
   "outputs": [],
   "source": [
    "# your solution goes here"
   ]
  },
  {
   "cell_type": "markdown",
   "metadata": {},
   "source": [
    "# Worksheet Activity Time!\n",
    "\n",
    "Problem 16, 17, 18"
   ]
  },
  {
   "cell_type": "markdown",
   "metadata": {},
   "source": [
    "# Pick a Recipe Problem!"
   ]
  },
  {
   "cell_type": "markdown",
   "metadata": {},
   "source": [
    "You wanted to cook food for dinner party tonight. You are running bit late, therefore, you want to look at the recipe which is faster to prepare.\n",
    "An online food website displays various recipe which you can filter based on preparation time.\n",
    "\n",
    "Design a data definition to represent a recipe which consists of a name, category one of Starters, Mains, Desserts, prepartion time it takes in minutes and whether it is spicy or not.\n",
    "Then design a data definition to represent a list of those recipes.\n",
    "\n",
    "Design a function that takes a list of recipes and the preparation time, returns you the list of Mains recipes which can be cooked under given time."
   ]
  },
  {
   "cell_type": "code",
   "execution_count": null,
   "metadata": {},
   "outputs": [],
   "source": [
    "# your solution goes here"
   ]
  },
  {
   "cell_type": "markdown",
   "metadata": {},
   "source": [
    "# Module 6  (One Task Per Function) - Precap!\n",
    "\n",
    "\n",
    "We saw reference rule concept and how it guides us to have a helper functions. Apart from Reference rule, there are two more situations which guide you to think about decomposing your big function into smaller helper functions which focus on one task at a time. These are:\n",
    "\n",
    "1. Composition\n",
    "2. Domain Knowledge shift\n",
    "\n",
    "We will look into these and will do some examples and Module 6 worksheet in the next lecture!"
   ]
  }
 ],
 "metadata": {
  "kernelspec": {
   "display_name": "Python 3",
   "language": "python",
   "name": "python3"
  },
  "language_info": {
   "codemirror_mode": {
    "name": "ipython",
    "version": 3
   },
   "file_extension": ".py",
   "mimetype": "text/x-python",
   "name": "python",
   "nbconvert_exporter": "python",
   "pygments_lexer": "ipython3",
   "version": "3.8.5"
  }
 },
 "nbformat": 4,
 "nbformat_minor": 4
}
