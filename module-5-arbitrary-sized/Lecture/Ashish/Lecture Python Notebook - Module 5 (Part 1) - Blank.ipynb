{
 "cells": [
  {
   "cell_type": "code",
   "execution_count": null,
   "metadata": {},
   "outputs": [],
   "source": [
    "from cs103 import * # needed (once per notebook) to enable incredible cs103 powers!!"
   ]
  },
  {
   "cell_type": "markdown",
   "metadata": {},
   "source": [
    "# Lecture 5 - Module 5 - Arbitrary-Sized (Part 1)\n",
    "\n",
    "This notebook is in continuation to the Lecture 5 slides on Module - Arbitrary-Sized (Part 1)."
   ]
  },
  {
   "cell_type": "markdown",
   "metadata": {},
   "source": [
    "The HtDD Recipe we use is as follows:\n",
    "1. A **data type definition** with type comments where Python's types are not specific enough.\n",
    "2. An **interpretation comment** that describes the correspondence between information and data.\n",
    "3. One or more **examples** of the data.\n",
    "4. A **template** for a one-argument function operating on data of this type."
   ]
  },
  {
   "cell_type": "markdown",
   "metadata": {},
   "source": [
    "# Basic List Examples "
   ]
  },
  {
   "cell_type": "code",
   "execution_count": null,
   "metadata": {},
   "outputs": [],
   "source": [
    "# your solution goes here"
   ]
  },
  {
   "cell_type": "markdown",
   "metadata": {},
   "source": [
    "# List[str] Data Definition\n",
    "\n",
    "Let's try creating a list of names of Universities in Canada. Now since it's an arbitrary-sized data, therefore, first we will create a List[str] data definition."
   ]
  },
  {
   "cell_type": "code",
   "execution_count": null,
   "metadata": {},
   "outputs": [],
   "source": [
    "# your solution goes here"
   ]
  },
  {
   "cell_type": "markdown",
   "metadata": {},
   "source": [
    "# Using Accumulator\n",
    "\n",
    "## Calculate Grades\n",
    "\n",
    "Imagine you work as TA for CPSC103. And you wanted to calculate the total score of every student in the class. Instead of doing it manually, you thought of using your CPSC103 knowledge. Design a data definition that represent the list of scores received by a student as List[int] and then Design a function which takes a list of grades of students for different assignments and calculate the sum of it."
   ]
  },
  {
   "cell_type": "code",
   "execution_count": null,
   "metadata": {},
   "outputs": [],
   "source": [
    "# your solution goes here"
   ]
  },
  {
   "cell_type": "markdown",
   "metadata": {},
   "source": [
    "## Survey Responses\n",
    "\n",
    "Imagine you work in an operations research firm as Data Analyst. Your company sent out a survey with 5 questions to a broad audience about their interaction with COVID patients which has Yes or NO answers. \n",
    "\n",
    "Design a data definition that represents the response of a participant for the survey. \n",
    "And then design a function that takes the response of the survey of a single participant and identify if the participant has a chance of COVID or not. (If atleast two answers are True, that means the participant is at high risk of getting COVID)."
   ]
  },
  {
   "cell_type": "code",
   "execution_count": null,
   "metadata": {},
   "outputs": [],
   "source": [
    "# your solution here"
   ]
  },
  {
   "cell_type": "markdown",
   "metadata": {},
   "source": [
    "# Using Two Accumulators\n",
    "\n",
    "\n",
    "## Episode Length Problem\n",
    "\n",
    "The data below represents the length of episodes from a TV show in minutes. We have examples for only one episode of a show (Friends), a full season of a show (Game of Thrones), and a whole show (The Good Place).\n",
    "\n",
    "**Problem:** Design a function that finds the average duration (in minutes) of all episodes in an `EpisodeDurations`.\n",
    "\n",
    "Hint: We're going to end up using multiple accumulators in this design."
   ]
  },
  {
   "cell_type": "code",
   "execution_count": null,
   "metadata": {},
   "outputs": [],
   "source": [
    "from typing import List\n",
    "\n",
    "EpisodeDurations = List[float] # in range [0, ...)\n",
    "# interp. the duration of episodes in minutes for some number of episodes of a TV Show\n",
    "\n",
    "ED0 = []\n",
    "ED_FRIENDS_S01E01 = [22.8]\n",
    "ED_GAME_OF_THRONES_S01 = [61.62, 55.28, 57.23, 55.62, 54.27, 52.6, 57.79, 58.13, 56.27, 52.62]\n",
    "ED_GOOD_PLACE = [\n",
    "    26.27, 21.50, 24.90, 22.55, 26.30, 26.35, 24.23, 25.23, 24.88, 23.78, \n",
    "    26.62, 21.53, 26.88, 42.68, 21.60, 23.92, 25.37, 24.65, 23.28, 23.72, \n",
    "    21.60, 24.78, 22.77, 23.47, 24.33, 21.60, 21.55, 21.60, 21.60, 21.60, \n",
    "    21.53, 21.55, 21.53, 21.53, 22.53, 21.53, 21.53, 21.53, 22.42, 21.40, \n",
    "    21.42, 21.43, 21.43, 21.42, 21.42, 21.40, 21.42, 21.42, 21.45, 21.43, \n",
    "    52.48\n",
    "]\n",
    "\n",
    "# template based on arbitrary-sized\n",
    "@typecheck\n",
    "def fn_for_ed(ed: EpisodeDurations) -> ...:\n",
    "    # description of the accumulator\n",
    "    acc = ...   # type: ...\n",
    "\n",
    "    for duration in ed:\n",
    "        acc = ...(duration, acc)\n",
    "\n",
    "    return ...(acc)"
   ]
  },
  {
   "cell_type": "code",
   "execution_count": null,
   "metadata": {},
   "outputs": [],
   "source": [
    "# your solution here"
   ]
  }
 ],
 "metadata": {
  "kernelspec": {
   "display_name": "Python 3",
   "language": "python",
   "name": "python3"
  },
  "language_info": {
   "codemirror_mode": {
    "name": "ipython",
    "version": 3
   },
   "file_extension": ".py",
   "mimetype": "text/x-python",
   "name": "python",
   "nbconvert_exporter": "python",
   "pygments_lexer": "ipython3",
   "version": "3.8.5"
  }
 },
 "nbformat": 4,
 "nbformat_minor": 4
}
