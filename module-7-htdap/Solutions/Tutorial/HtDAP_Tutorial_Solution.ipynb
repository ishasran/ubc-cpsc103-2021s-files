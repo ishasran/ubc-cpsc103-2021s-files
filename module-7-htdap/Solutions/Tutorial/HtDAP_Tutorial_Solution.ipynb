{
 "cells": [
  {
   "cell_type": "code",
   "execution_count": 1,
   "metadata": {},
   "outputs": [],
   "source": [
    "from cs103 import *"
   ]
  },
  {
   "cell_type": "markdown",
   "metadata": {},
   "source": [
    "# Tutorial Solution - Analysis Programs\n",
    "\n",
    "## Pre-Tutorial Work\n",
    "\n",
    "None this week"
   ]
  },
  {
   "cell_type": "markdown",
   "metadata": {},
   "source": [
    "## Overview\n",
    "\n",
    "We are again continuing to use the file  containing information about community gaming grants.\n",
    "\n",
    "Take a look at the included file called `report-community-gaming-grant-year-to-date.csv` to see how it is structured. Two files containing small subsets of this information have also been  provided for testing purposes (`report-community-gaming-grant-year-to-date-test1.csv` and `report-community-gaming-grant-year-to-date-test2.csv`). You can find the original information [here](https://catalogue.data.gov.bc.ca/dataset/gaming-grants-paid-to-community-organizations/resource/7281e8ca-b649-4af9-b812-2a3e0bf8e4be)\n",
    "\n",
    "Now that you have looked at the file, we'll complete the planning steps of the HtDAP recipe. "
   ]
  },
  {
   "cell_type": "markdown",
   "metadata": {},
   "source": [
    "#### Step 1a\n",
    "The file contains information about BC community gaming grants between April 1, 2017 and July 13, 2018. For each grant, the city, organization name, grant type, grant sector, grant subsector and amount (in CAD) is included."
   ]
  },
  {
   "cell_type": "markdown",
   "metadata": {},
   "source": [
    "#### Step 1b\n",
    "\n",
    "Now, here are some ideas of what a program operating on this information might produce.\n",
    "\n",
    "We might find the city that received the most grant money.\n",
    "\n",
    "We might find the largest grant.\n",
    "\n",
    "We might find the sector that received the largest number of grants.\n",
    "\n",
    "We might find the sector that received the largest single grant.\n",
    "\n",
    "We might find the total amount of grant money allocated to the grant sector Sport.\n",
    "\n",
    "**We are going to focus on the last idea and find the total amount of grant money allocated to the grant sector Sport.**"
   ]
  },
  {
   "cell_type": "markdown",
   "metadata": {},
   "source": [
    "#### Step 1c\n",
    "Here's an  example that shows the kind of output we expect from this program:\n",
    "```python\n",
    "expect(main('report-community-gaming-grant-year-to-date.csv'), 540000)\n",
    "```\n"
   ]
  },
  {
   "cell_type": "markdown",
   "metadata": {},
   "source": [
    "## Problem 1\n",
    "\n",
    "Now it is time to start building the program. Using the planning steps completed above, determine the information that you will need to represent in your program as data. \n",
    "\n",
    "You must clearly state which pieces of information you will choose to repesent. You should refer to the previous data definitions that we've used, but only store the information that you'll need to solve this particular problem. **However**, we want it to be easy **without changing the `read` function or data definitions** to switch to totalling grant money from another grant sector. (This may impact what you store as data!)\n",
    "\n",
    "Then complete the design of data definition(s) to represent that information. "
   ]
  },
  {
   "cell_type": "code",
   "execution_count": 2,
   "metadata": {},
   "outputs": [],
   "source": [
    "from typing import NamedTuple, List\n",
    "\n",
    "CommunityGamingGrant = NamedTuple('CommunityGamingGrant', [('sec', str),        \n",
    "                                                           ('amt', int)])     # in range[0, ...)\n",
    "# interp. community gaming grant data from BC. includes the grant sector ('sec')\n",
    "#         and payment amount ('amt') in CAD\n",
    "\n",
    "AGRIFAIR = CommunityGamingGrant(\"Arts and Culture\", 80000)\n",
    "BMX = CommunityGamingGrant( \"Sport\", 29500)\n",
    "FALCONS = CommunityGamingGrant(\"Sport\", 22000)\n",
    "AIRSHOW = CommunityGamingGrant(\"Arts and Culture\", 60000)\n",
    "ARTS_COUNCIL = CommunityGamingGrant(\"Arts and Culture\",  15100)\n",
    "BARRACUDAS = CommunityGamingGrant( \"Sport\", 51900)\n",
    "AFRICAN_DESCENT_SOCIETY = CommunityGamingGrant(\"Arts and Culture\", 25000)\n",
    "ALL_BODIES = CommunityGamingGrant(\"Arts and Culture\",  12000)\n",
    "YOUTH_MUSIC = CommunityGamingGrant(\"Arts and Culture\", 31500)\n",
    "CHINESE_ORCHESTRA = CommunityGamingGrant(\"Arts and Culture\", 5000)\n",
    "\n",
    "# template based on compound\n",
    "def fn_for_community_gaming_grant(cg: CommunityGamingGrant) -> ...:\n",
    "    return ...(cg.sec,\n",
    "               cg.amt)\n",
    "\n",
    "\n",
    "# List[CommunityGamingGrant]\n",
    "# interp. a list of community gaming grants\n",
    "\n",
    "L0 = []\n",
    "L1 = [AGRIFAIR, \n",
    "      BMX, \n",
    "      FALCONS, \n",
    "      AIRSHOW, \n",
    "      ARTS_COUNCIL, \n",
    "      BARRACUDAS, \n",
    "      AFRICAN_DESCENT_SOCIETY, \n",
    "      ALL_BODIES, \n",
    "      YOUTH_MUSIC, \n",
    "      CHINESE_ORCHESTRA]\n",
    "\n",
    "# template based on arbitrary-sized and the reference rule\n",
    "def fn_for_locg(locg: List[CommunityGamingGrant]) -> ...:\n",
    "    # description of the acc\n",
    "    acc = ... # type: ...\n",
    "    for cg in locg:\n",
    "        acc = ...(acc, fn_for_community_gaming_grant(cg))\n",
    "    return ...(acc)\n"
   ]
  },
  {
   "cell_type": "markdown",
   "metadata": {},
   "source": [
    "## Problem 2a\n",
    "\n",
    "Once you have your data definition(s) from Problem 1, design a function that reads\n",
    "the information from the file and stores it as data in your program. \n",
    "\n",
    "You should begin by copying the template from the HtDAP page, then complete the \n",
    "design of the `main` and `read` functions (but not the analysis helper function for `main`). When testing your functions, you may use the testing files called `report-community-gaming-grant-year-to-date-test1.csv` and `report-community-gaming-grant-year-to-date-test2.csv`."
   ]
  },
  {
   "cell_type": "code",
   "execution_count": 3,
   "metadata": {},
   "outputs": [
    {
     "name": "stdout",
     "output_type": "stream",
     "text": [
      "\u001b[92m2 of 2 tests passed\u001b[0m\n",
      "\u001b[92m3 of 3 tests passed\u001b[0m\n",
      "\u001b[92m2 of 2 tests passed\u001b[0m\n",
      "\u001b[92m2 of 2 tests passed\u001b[0m\n",
      "\u001b[92m3 of 3 tests passed\u001b[0m\n"
     ]
    }
   ],
   "source": [
    "import csv\n",
    "\n",
    "def main(fn: str) -> int:\n",
    "    \"\"\"\n",
    "    Reads the file from given filename and returns the total grant money allocated to the sector Sport\n",
    "    \"\"\"\n",
    "    #return 0  #stub\n",
    "    # template as a function composition\n",
    "    return grants_to_sport(read(fn))\n",
    "\n",
    "\n",
    "def read(fn: str) -> List[CommunityGamingGrant]:\n",
    "    \"\"\"    \n",
    "    Reads the file from given filename and returns a list of the community grants\n",
    "    \"\"\"\n",
    "    #return []   #stub\n",
    "    #template from HtDAP\n",
    "    \n",
    "    # locg contains the result so far\n",
    "    locg = []   # type: List[CommunityGamingGrant]\n",
    "    with open(fn) as csvfile:\n",
    "        reader = csv.reader(csvfile, delimiter=',')\n",
    "        next(reader) # skip header line\n",
    "        \n",
    "        for row in reader:     \n",
    "            cg = CommunityGamingGrant(row[3], parse_int(row[5]))\n",
    "            locg.append(cg)  \n",
    "                             \n",
    "    return locg\n",
    "\n",
    "@typecheck\n",
    "def grants_to_sport(locg: List[CommunityGamingGrant]) -> int:\n",
    "    \"\"\"\n",
    "    returns the total grant money allocated to the sector Sport\n",
    "    \"\"\"\n",
    "    #return 0 #stub\n",
    "    # template based on function composition\n",
    "    \n",
    "    return sum_grants(sport_only(locg))\n",
    "\n",
    "@typecheck\n",
    "def sport_only(locg: List[CommunityGamingGrant]) -> List[CommunityGamingGrant]:\n",
    "    \"\"\"\n",
    "    return a list of grants from locg that are from the sector Sport\n",
    "    \"\"\"\n",
    "    # return [] #stub\n",
    "    # template from List[CommunityGamingGrant]\n",
    "    \n",
    "    # acc stores the result so far\n",
    "    acc = [] # type: List[CommunityGamingGrant]\n",
    "    \n",
    "    for cg in locg:\n",
    "        if (is_sport_grant(cg)):\n",
    "            acc.append(cg)\n",
    "    return acc\n",
    "\n",
    "@typecheck\n",
    "def is_sport_grant(cg: CommunityGamingGrant) -> bool:\n",
    "    \"\"\"\n",
    "    return True if cg is in the sector Sport and False otherwise\n",
    "    \"\"\"\n",
    "    #return False #stub\n",
    "    # template from CommunityGamingGrant \n",
    "    return cg.sec == \"Sport\"\n",
    "\n",
    "\n",
    "@typecheck\n",
    "def sum_grants(locg: List[CommunityGamingGrant]) -> int:\n",
    "    \"\"\"\n",
    "    return the total sum of grant money from locg\n",
    "    \"\"\"\n",
    "    # return 0 #stub\n",
    "    # template from List[CommunityGamingGrant]\n",
    "    # acc stores the result so far\n",
    "    acc = 0 # type: int\n",
    "    for cg in locg:\n",
    "        acc = acc + cg.amt\n",
    "    return acc\n",
    "\n",
    "start_testing()\n",
    "\n",
    "# examples and tests for main\n",
    "expect(main('report-community-gaming-grant-year-to-date-test1.csv'), 51500)\n",
    "expect(main('report-community-gaming-grant-year-to-date-test2.csv'), 51900)\n",
    "\n",
    "summary()\n",
    "\n",
    "start_testing()\n",
    "\n",
    "# examples and tests for read\n",
    "expect(read('report-community-gaming-grant-year-to-date-test1.csv'), [AGRIFAIR, BMX, FALCONS])\n",
    "expect(read('report-community-gaming-grant-year-to-date-test2.csv'), [ARTS_COUNCIL, \n",
    "                                                                      BARRACUDAS, \n",
    "                                                                      YOUTH_MUSIC, \n",
    "                                                                      CHINESE_ORCHESTRA ])\n",
    "expect(len(read('report-community-gaming-grant-year-to-date.csv')), 528)\n",
    "\n",
    "summary()\n",
    "\n",
    "start_testing()\n",
    "\n",
    "# examples and tests for sport_only\n",
    "expect(sport_only([]), [])\n",
    "expect(sport_only(L1), [BMX, FALCONS, BARRACUDAS])\n",
    "\n",
    "summary()\n",
    "\n",
    "start_testing()\n",
    "\n",
    "# examples and tests for is_sport_grant\n",
    "expect(is_sport_grant(ARTS_COUNCIL), False)\n",
    "expect(is_sport_grant(BARRACUDAS), True)\n",
    "\n",
    "summary()\n",
    "\n",
    "start_testing()\n",
    "\n",
    "# examples and tests for sum_grants\n",
    "expect(sum_grants([]),0)\n",
    "expect(sum_grants([BMX, FALCONS]), 51500)\n",
    "expect(sum_grants([AGRIFAIR, BMX, FALCONS, AIRSHOW]), 191500)\n",
    "\n",
    "summary()"
   ]
  },
  {
   "cell_type": "markdown",
   "metadata": {
    "collapsed": true
   },
   "source": [
    "## Problem 2b\n",
    "\n",
    "To finish your program, complete the design of the analysis function(s). For this particular problem, find the total amount of grant money allocated to the grant sector Sport.\n",
    "\n",
    "Think about your data definitions and the helper rules to determine how many helper functions you will need to write when designing this function. "
   ]
  },
  {
   "cell_type": "code",
   "execution_count": 4,
   "metadata": {},
   "outputs": [],
   "source": [
    "# RETURN to the cell above to complete your design of the analysis functions.\n",
    "# Do not design them here."
   ]
  }
 ],
 "metadata": {
  "kernelspec": {
   "display_name": "Python 3",
   "language": "python",
   "name": "python3"
  },
  "language_info": {
   "codemirror_mode": {
    "name": "ipython",
    "version": 3
   },
   "file_extension": ".py",
   "mimetype": "text/x-python",
   "name": "python",
   "nbconvert_exporter": "python",
   "pygments_lexer": "ipython3",
   "version": "3.8.0"
  }
 },
 "nbformat": 4,
 "nbformat_minor": 2
}
