{
 "cells": [
  {
   "cell_type": "code",
   "execution_count": null,
   "metadata": {},
   "outputs": [],
   "source": [
    "from cs103 import * # needed (once per notebook) to enable incredible cs103 powers!!"
   ]
  },
  {
   "cell_type": "markdown",
   "metadata": {},
   "source": [
    "# Lecture 8 - Module 7 - HtDAP (Part 1)\n",
    "\n",
    "This notebook is in continuation to the Lecture 8 slides on Module 7 - HtDAP (Part 1).\n",
    "\n",
    "The steps in the HtDAP recipe are:\n",
    "\n",
    "1. Planning\n",
    "\n",
    "    * (a) Identify the information in the file your program will read\n",
    "    * (b) Write a description of what your program will produce\n",
    "    * (c) Write or draw examples of what your program will produce\n",
    "    \n",
    "\n",
    "2. Building the program\n",
    "     \n",
    "     * (a) Design data definitions\n",
    "     * (b) Design a function to read the information and store it as data in your program\n",
    "     * (c) Design functions to analyze the data\n"
   ]
  },
  {
   "cell_type": "markdown",
   "metadata": {},
   "source": [
    "# Analysing Crime Data provided by Vancouver Police Dept.\n",
    "\n",
    "We are going to analyze crime data information shared by the [Vancouver Police Department](https://vancouver.ca/police/)'s [Open Data initiative](https://geodash.vpd.ca/opendata/).\n",
    "\n",
    "Let's follow the HtDAP recipe and see what kind of analysis programs we can write with the given data. \n",
    "First thing first, how the data is available to us, let us understand that. And then, start planning the Analysis program as per Part 1 of the recipe.\n",
    "\n",
    "**Problem** Design a program to find at what time of day one of the crime types peak in Vancouver."
   ]
  },
  {
   "cell_type": "markdown",
   "metadata": {},
   "source": [
    "___"
   ]
  },
  {
   "cell_type": "markdown",
   "metadata": {},
   "source": [
    "# Understanding CSV File\n",
    "\n",
    "A file with crime data from the Vancouver Police Department is called CSV (Comma Seperated Value).\n",
    "\n",
    "You can check the full file `crimedata_csv_all_years.csv` inside the folder where this lecture notebook is stored."
   ]
  },
  {
   "cell_type": "markdown",
   "metadata": {},
   "source": [
    "TYPE,YEAR,MONTH,DAY,HOUR,MINUTE,HUNDRED_BLOCK,NEIGHBOURHOOD,X,Y<br>\n",
    "Break and Enter Commercial,2012,12,14,8,52,,Oakridge,491285.0,5453433.0<br>\n",
    "Break and Enter Commercial,2019,3,7,2,6,10XX SITKA SQ,Fairview,490612.964805,5457109.82229<br>\n",
    "Break and Enter Commercial,2019,8,27,4,12,10XX ALBERNI ST,West End,491007.779775,5459174.3376<br>\n",
    "Break and Enter Commercial,2014,8,8,5,13,10XX ALBERNI ST,West End,491015.943352,5459166.13973<br>\n",
    "Break and Enter Residential/Other,2004,7,3,13,0,46XX RAVINE ST,Renfrew-Collingwood,496604.209295,5454438.49451<br>\n",
    "Break and Enter Residential/Other,2005,8,27,23,11,46XX RAVINE ST,Renfrew-Collingwood,496613.537337,5454453.47625<br>\n",
    "Break and Enter Residential/Other,2010,12,23,2,59,46XX REID ST,Renfrew-Collingwood,497320.313615,5454479.24362<br>\n",
    "Homicide,2004,4,7,0,0,OFFSET TO PROTECT PRIVACY,,0.0,0.0<br>\n",
    "Homicide,2018,7,25,0,0,OFFSET TO PROTECT PRIVACY,,0.0,0.0<br>\n",
    "Homicide,2005,11,29,0,0,OFFSET TO PROTECT PRIVACY,,0.0,0.0<br>\n",
    "Homicide,2015,1,6,0,0,OFFSET TO PROTECT PRIVACY,,0.0,0.0<br>\n",
    "Mischief,2011,4,4,23,38,10XX BEACH AVE,Central Business District,490239.778444,5458179.16224<br>\n",
    "Mischief,2011,6,22,20,15,10XX BEACH AVE,Central Business District,490239.778444,5458179.16224<br>\n",
    "Mischief,2008,10,7,8,15,10XX BEACH AVE,Central Business District,490249.23071,5458166.83278<br>\n",
    "Mischief,2017,6,1,6,42,10XX BEACH AVE,Central Business District,490249.23071,5458166.83278<br>\n",
    "Offence Against a Person,2020,6,18,0,0,OFFSET TO PROTECT PRIVACY,,0.0,0.0<br>\n",
    "Offence Against a Person,2005,2,11,0,0,OFFSET TO PROTECT PRIVACY,,0.0,0.0<br>\n",
    "Offence Against a Person,2014,3,2,0,0,OFFSET TO PROTECT PRIVACY,,0.0,0.0<br>\n",
    "Other Theft,2009,3,4,16,42,17XX W BROADWAY AVE,Fairview,489494.547034,5456773.8338<br>\n",
    "Other Theft,2010,10,1,17,3,17XX W BROADWAY AVE,Fairview,489494.547034,5456773.8338<br>\n",
    "Other Theft,2011,4,9,19,15,17XX W BROADWAY AVE,Fairview,489494.547034,5456773.8338<br>\n",
    "Theft from Vehicle,2011,9,6,20,30,11XX HOWE ST,Central Business District,490849.968896,5458442.50465<br>\n",
    "Theft from Vehicle,2011,9,7,20,0,11XX HOWE ST,Central Business District,490849.968896,5458442.50465<br>\n",
    "Theft from Vehicle,2011,9,9,8,46,11XX HOWE ST,Central Business District,490849.968896,5458442.50465<br>\n",
    "Theft from Vehicle,2011,9,19,18,0,11XX HOWE ST,Central Business District,490849.968896,5458442.50465<br>\n",
    "Theft of Bicycle,2010,11,14,12,0,1XX KEEFER PL,Central Business District,492117.162378,5458563.98122<br>\n",
    "Theft of Bicycle,2010,12,12,12,0,1XX KEEFER PL,Central Business District,492117.162378,5458563.98122<br>\n",
    "Theft of Bicycle,2011,3,27,4,0,1XX KEEFER PL,Central Business District,492117.162378,5458563.98122<br>\n",
    "Theft of Bicycle,2011,7,17,2,0,1XX KEEFER PL,Central Business District,492117.162378,5458563.98122<br>\n",
    "Vehicle Collision or Pedestrian Struck (with Injury),2018,12,13,6,8,YORK AVE / CYPRESS ST,Kitsilano,489245.0,5457656.0<br>\n",
    "Vehicle Collision or Pedestrian Struck (with Injury),2019,7,25,18,0,YORK AVE / CYPRESS ST,Kitsilano,489245.0,5457656.0<br>\n"
   ]
  },
  {
   "cell_type": "markdown",
   "metadata": {},
   "source": [
    "___"
   ]
  },
  {
   "cell_type": "markdown",
   "metadata": {},
   "source": [
    "# Planning"
   ]
  },
  {
   "cell_type": "markdown",
   "metadata": {},
   "source": [
    "## Step 1a\n",
    "\n",
    "**Identify the information in the file your program will read**"
   ]
  },
  {
   "cell_type": "markdown",
   "metadata": {},
   "source": [
    "The available information includes:\n",
    "\n",
    "+ The type of crime (one of 11 possible values provided by Vancouver Police Department)\n",
    "+ The time at which the crime took place (using various fields such as Year, Month, Day, Hour, Minute). The crimes specifically reported at midnight i.e. Hour = 0, are not correct or in other words, they are unreliable.\n",
    "+ Location where the crime happened. But the location is not exact, but a generalized one. It is capturing using fields like HUNDRED_BLOCK, NEIGHBOURHOOD. The location for some types of crime can be missing due to sensitivity or privacy concerns.\n",
    "+ x and y location of the crime is also captured."
   ]
  },
  {
   "cell_type": "markdown",
   "metadata": {},
   "source": [
    "## Step 1b\n",
    "\n",
    "**Write a description of what your program will produce**"
   ]
  },
  {
   "cell_type": "markdown",
   "metadata": {},
   "source": [
    "What we are interested here is in how time iof day connects with type of crime. And following are few analysis questions we can ask on the given data in this direction:\n",
    "\n",
    "+ Given a type of a crime, finding the time of a day when this most commonly occurs.\n",
    "+ Give a time of a day, how many total crimes happened in last 10 years at that time.\n",
    "+ Plot the peak time of day for crime over each month of the year, to investigate how changes in the length of the day impact timing of crime. (There's some nifty stuff we could do here by \"mashing up\" information on sunrise/sunset times and the crime data over the year, as well.. but we'll skip this.)\n",
    "+ Plot the count of crimes vs. hour of the day for each type of crime on a single graph.\n",
    "\n",
    "\n",
    "**For this lecture, we picked following problem to work on**\n",
    "\n",
    "\"Given a type of a crime, finding the time of a day when this most commonly occurs.\""
   ]
  },
  {
   "cell_type": "markdown",
   "metadata": {},
   "source": [
    "## Step 1c\n",
    "\n",
    "**Write or draw examples of what your program will produce**"
   ]
  },
  {
   "cell_type": "markdown",
   "metadata": {},
   "source": [
    "Note: We realized that Crime types can be represented as enumeration, therefore, instead of `str`, I can capture it as `CrimeType` type. And that is why I also updated the example in step 1c.\n",
    "\n",
    "```python\n",
    "\n",
    "expect(find_max_hour_by_type(\"crimedata_subset.csv\", CrimeType.BNE_RESEDENTIAL), 2)\n",
    "\n",
    "```\n",
    "![graph_sketch.png](graph_sketch.png)\n"
   ]
  },
  {
   "cell_type": "markdown",
   "metadata": {},
   "source": [
    "___"
   ]
  },
  {
   "cell_type": "markdown",
   "metadata": {},
   "source": [
    "# Building"
   ]
  },
  {
   "cell_type": "markdown",
   "metadata": {},
   "source": [
    "#### What we are essentially going to do after following all the steps 2a, 2b and 2c\n",
    "\n",
    "Note: We realized that Crime types can be represented as enumeration, therefore, instead of `str`, I can capture it as `CrimeType` type. And that is why I also updated the example in step 1c.\n",
    "\n",
    "\n",
    "```python\n",
    "def find_max_hour_by_type(fn: str, crime_type: CrimeType) -> int:\n",
    "        \n",
    "    # Template based on Composition\n",
    "    # 1. Reads the file and store this data in a list.\n",
    "    # 2. Analyze the data that you stored in step 1.\n",
    "    # 3. Visualize the result from Step 2\n",
    "\n",
    "```"
   ]
  },
  {
   "cell_type": "markdown",
   "metadata": {},
   "source": [
    "## Step 2a\n",
    "\n",
    "**Design data definitions.**\n",
    "\n",
    "*Note: we are not going do the \"chart or graph\" part now!*\n",
    "\n",
    "1. Each row of the file represents a crime, which I can capture as a Compound `CrimeData`, and then the whole file can be captured as list of that compound `List[CrimeData]`. And Each crime record i.e. that compound will have two attributes/properties:\n",
    "\n",
    " + I will capture Crime types (TYPE) as Enumeration `CrimeType`, and \n",
    " + the hour (HOUR) as `int` when the crime has happened.\n",
    " "
   ]
  },
  {
   "cell_type": "code",
   "execution_count": null,
   "metadata": {},
   "outputs": [],
   "source": [
    "from typing import NamedTuple, List\n",
    "from enum import Enum\n",
    "import csv\n",
    "\n",
    "##################\n",
    "# Data Definitions\n",
    "\n",
    "#Enumeration type called CrimeType\n",
    "\n",
    "CrimeType = Enum('CrimeType', ['BNE_COMMERCIAL', 'BNE_RESIDENTIAL', 'THEFT_OF_VEHICLE', 'THEFT_OF_BICYCLE'])\n",
    "# interp. CrimeType is the crime reported by Vancouver Police Department, is one of break and enter commercial \n",
    "# property ('BNE_COMMERCIAL'), break and enter residential or other property ('BNE_RESEDENTIAL'), theft of vehicle\n",
    "# ('THEFT_OF_VEHICLE'), and theft of bicycle (\"THEFT_OF_BICYCLE\").\n",
    "\n",
    "# Examples are redundant for Enumerations.\n",
    "\n",
    "# Template based on Enumeration (4 cases)\n",
    "@typecheck\n",
    "def fn_for_crime_type(ct: CrimeType) -> ...:\n",
    "    if ct == CrimeType.BNE_COMMERCIAL:\n",
    "        return ...\n",
    "    elif ct == CrimeType.BNE_RESIDENTIAL:\n",
    "        return ...\n",
    "    elif ct == CrimeType.THEFT_OF_VEHICLE:\n",
    "        return ...\n",
    "    elif ct == CrimeType.THEFT_OF_BICYCLE:\n",
    "        return ...\n",
    "    \n",
    "\n",
    "\n",
    "\n",
    "CrimeData = NamedTuple('CrimeData', [('type', CrimeType),\n",
    "                                      ('hour', int)  # in range [0, 23]\n",
    "                                    ])\n",
    "\n",
    "# interp. CrimeData represents a crime record in Vancouver Police department data file which consists of \n",
    "# the type of crime committed ('type') and the hour when the crime committed ('hour'). Caution: hours of 0 sometimes\n",
    "# represents intentionally inaccurate reports.\n",
    "\n",
    "CD1 = CrimeData(CrimeType.BNE_COMMERCIAL, 8)\n",
    "CD2 = CrimeData(CrimeType.BNE_RESIDENTIAL, 12)\n",
    "\n",
    "# Template based on Compound (2 fields) and reference rule\n",
    "@typecheck\n",
    "def fn_for_crime_data(cd: CrimeData) -> ...:\n",
    "    return ...(fn_for_crime_type(cd.type),\n",
    "               cd.hour)\n",
    "\n",
    "\n",
    "\n",
    "\n",
    "# List[CrimeData]\n",
    "# interp. A list of crime records captured by VPD.\n",
    "\n",
    "LOCD0 = []\n",
    "LOCD1 = [CD1, CD2]\n",
    "\n",
    "# Template based on Arbitrary-sized and reference rule\n",
    "@typecheck\n",
    "def fn_for_locd(locd: List[CrimeData]) -> ...:\n",
    "    # description of the accumulator\n",
    "    acc = ...   # type: ...\n",
    "    \n",
    "    for cd in locd:\n",
    "        acc = ...(acc, fn_for_crime_data(cd))\n",
    "    \n",
    "    return ...(acc)"
   ]
  },
  {
   "cell_type": "code",
   "execution_count": null,
   "metadata": {},
   "outputs": [],
   "source": [
    "# List[str]\n",
    "# interp. A list of strings.\n",
    "\n",
    "LOS0 = []\n",
    "LOS1 = [\"hello\", \"world\"]\n",
    "\n",
    "# Template based on Arbitrary-sized\n",
    "@typecheck\n",
    "def fn_for_los(los: List[str]) -> ...:\n",
    "    # description of the accumulator\n",
    "    acc = ... # type: ...\n",
    "    \n",
    "    for s in los:\n",
    "        acc = ...(s, acc)\n",
    "    \n",
    "    return ...(acc)"
   ]
  },
  {
   "cell_type": "markdown",
   "metadata": {},
   "source": [
    "___"
   ]
  },
  {
   "cell_type": "markdown",
   "metadata": {},
   "source": [
    "## Step 2b\n",
    "\n",
    "**Design a function to read the information and store it as data in your program.**"
   ]
  },
  {
   "cell_type": "markdown",
   "metadata": {},
   "source": [
    "### Few Reminders from Previous Lectures"
   ]
  },
  {
   "cell_type": "markdown",
   "metadata": {},
   "source": [
    "```python\n",
    "# a list of string is essentially like this. And you can \n",
    "# access any item in the list using it's position index.\n",
    "\n",
    "names = ['Ashish', 'Deirdre', 'Alvin', 'Mariposa']\n",
    "names[2]   # returns 'Alvin'\n",
    "\n",
    "\n",
    "\n",
    "\n",
    "# Technically, when read() function that you're going to design in 2b is going to\n",
    "# read a row of data from the file, it will read it as a list of strings as given below.\n",
    "\n",
    "row = [\"Theft of Vehicle\", \"2011\" , \"9\",\"19\",\"18\", \"0\", \"11XX HOWE ST\", \"Central Business District\" , \"490849.968896\",\"5458442.50465\"]\n",
    "\n",
    "# then you can access any position in the string using the index. For example,\n",
    "# in order to access the crime type we'll use row[0] and for hour when crime happend, row[4].\n",
    "\n",
    "row[0], row[4]\n",
    "\n",
    "# The only problem with row[0] and row[4] is that they are read as a string by Python from the file. Not as a \n",
    "# CrimeType and int respectively. So we need to convert a string \"10\" to an integer 10. For this we have some built-in\n",
    "# functions that we'll be using such as:\n",
    "\n",
    "parse_int(\"9\")             # to parse a string into an int. Here the result is 9\n",
    "parse_float(\"10.98\")       # to parse a string into a float. here the result is 10.98\n",
    "\n",
    "# PLEASE NOTE: IN THE LECTURE I SAID parse_bool() to parse string to boolean. But there is no built-in function like that exists. So my bad!!\n",
    "\n",
    "# Using parse_int() we can convert row[4] into an int, but what about row[0]? \n",
    "# How can we convert a string into a CrimeType type?\n",
    "# So to do that we can write our own helper function parse_crime_type() which take a string and returns the CrimeType value.\n",
    "\n",
    "parse_crime_type(\"Theft of Vehicle\")   # to parse a string into CrimeType. It returns CrimeType.THEFT_OF_VEHICLE\n",
    "\n",
    "\n",
    "# and then using these functions we can store a row as CrimeData as\n",
    "\n",
    "Crime_data_list = [CrimeData(CrimeType.THEFT_OF_VEHICLE, 18), CrimeData(CrimeType.BNE_COMMERCIAL, 8), ...]\n",
    "\n",
    "```"
   ]
  },
  {
   "cell_type": "code",
   "execution_count": null,
   "metadata": {},
   "outputs": [],
   "source": [
    "@typecheck\n",
    "def parse_crime_type(ct: str) -> CrimeType:\n",
    "    '''\n",
    "    Returns the corresponding CrimeType for a given string ct which is one of 'Break and Enter Commercial', \n",
    "    'Break and Enter Residential/Other', 'Theft of Vehicle', and 'Theft of Bicycle'.\n",
    "    '''\n",
    "    # return CrimeType.BNE_RESIDENTIAL # stub\n",
    "    # return ...(ct) # Template\n",
    "    \n",
    "    if ct == \"Break and Enter Residential/Other\":\n",
    "        return CrimeType.BNE_RESIDENTIAL\n",
    "    elif ct == \"Break and Enter Commercial\":\n",
    "        return CrimeType.BNE_COMMERCIAL\n",
    "    elif ct == \"Theft of Vehicle\":\n",
    "        return CrimeType.THEFT_OF_VEHICLE\n",
    "    elif ct == \"Theft of Bicycle\":\n",
    "        return CrimeType.THEFT_OF_BICYCLE\n",
    "    \n",
    "    \n",
    "\n",
    "start_testing()\n",
    "expect(parse_crime_type(\"Break and Enter Residential/Other\"), CrimeType.BNE_RESIDENTIAL)\n",
    "expect(parse_crime_type(\"Break and Enter Commercial\"), CrimeType.BNE_COMMERCIAL)\n",
    "expect(parse_crime_type(\"Theft of Vehicle\"), CrimeType.THEFT_OF_VEHICLE)\n",
    "expect(parse_crime_type(\"Theft of Bicycle\"), CrimeType.THEFT_OF_BICYCLE)\n",
    "summary()\n",
    "\n",
    "\n",
    "\n",
    "@typecheck\n",
    "def is_reliable(columns: List[str]) -> bool:\n",
    "    '''\n",
    "    Returns True if the given list of strings columns is reliable i.e. the data at\n",
    "    columns[4] is not 0. False otherwise.\n",
    "    '''\n",
    "    # return True # stub\n",
    "    # Tempalte treats columns as atomic and uses indexing instead\n",
    "    # return ...(columns) # Template\n",
    "    \n",
    "    return columns[4] != \"0\"\n",
    "    \n",
    "\n",
    "start_testing()\n",
    "expect(is_reliable([\"Theft of Vehicle\", \"2011\" , \"9\",\"19\",\"18\", \"0\", \n",
    "                    \"11XX HOWE ST\", \"Central Business District\" , \"490849.968896\",\"5458442.50465\"]), True)\n",
    "expect(is_reliable([\"Theft of Bicycle\", \"2011\" , \"9\",\"19\",\"0\", \"0\", \n",
    "                    \"11XX HOWE ST\", \"Central Business District\" , \"490849.968896\",\"5458442.50465\"]), False)\n",
    "summary()\n",
    "\n",
    "\n",
    "@typecheck\n",
    "def read(filename: str) -> List[CrimeData]:\n",
    "    \"\"\"    \n",
    "    reads information from the specified file and returns a list of crime data\n",
    "    (returns all rows from the file EXCEPT those where data is unreliable i.e. the ones for which hours is 0).\n",
    "    \"\"\"\n",
    "    # return []  #stub\n",
    "    # Template from HtDAP\n",
    "    \n",
    "    \n",
    "    # loc contains the result so far\n",
    "    loc = [] # type: List[CrimeData]\n",
    "\n",
    "    with open(filename) as csvfile:\n",
    "        \n",
    "        reader = csv.reader(csvfile)\n",
    "        next(reader) # skip header line\n",
    "\n",
    "        for row in reader:\n",
    "            if is_reliable(row):\n",
    "                cd = CrimeData(parse_crime_type(row[0]), parse_int(row[4]))\n",
    "                loc.append(cd)\n",
    "    \n",
    "    \n",
    "    return loc\n",
    "\n",
    "start_testing()\n",
    "\n",
    "\n",
    "# Examples and tests for read\n",
    "expect(read(\"testfile_empty.csv\"),[])\n",
    "expect(read(\"testfile_small1.csv\"), [CrimeData(CrimeType.BNE_COMMERCIAL, 6),\n",
    "                                     CrimeData(CrimeType.THEFT_OF_BICYCLE, 16)])\n",
    "expect(read(\"testfile_small2.csv\"), [CrimeData(CrimeType.BNE_RESIDENTIAL, 1),\n",
    "                                     CrimeData(CrimeType.THEFT_OF_VEHICLE, 4),\n",
    "                                     CrimeData(CrimeType.THEFT_OF_VEHICLE, 4),\n",
    "                                     CrimeData(CrimeType.THEFT_OF_VEHICLE, 2),\n",
    "                                     CrimeData(CrimeType.THEFT_OF_VEHICLE, 2),\n",
    "                                     CrimeData(CrimeType.THEFT_OF_VEHICLE, 1)])\n",
    "\n",
    "summary()"
   ]
  },
  {
   "cell_type": "code",
   "execution_count": null,
   "metadata": {},
   "outputs": [],
   "source": []
  }
 ],
 "metadata": {
  "kernelspec": {
   "display_name": "Python 3",
   "language": "python",
   "name": "python3"
  },
  "language_info": {
   "codemirror_mode": {
    "name": "ipython",
    "version": 3
   },
   "file_extension": ".py",
   "mimetype": "text/x-python",
   "name": "python",
   "nbconvert_exporter": "python",
   "pygments_lexer": "ipython3",
   "version": "3.8.5"
  }
 },
 "nbformat": 4,
 "nbformat_minor": 2
}
