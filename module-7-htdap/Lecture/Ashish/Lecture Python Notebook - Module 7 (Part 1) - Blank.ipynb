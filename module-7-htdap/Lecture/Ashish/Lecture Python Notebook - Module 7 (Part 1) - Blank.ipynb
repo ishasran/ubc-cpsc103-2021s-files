{
 "cells": [
  {
   "cell_type": "code",
   "execution_count": null,
   "metadata": {},
   "outputs": [],
   "source": [
    "from cs103 import * # needed (once per notebook) to enable incredible cs103 powers!!"
   ]
  },
  {
   "cell_type": "markdown",
   "metadata": {},
   "source": [
    "# Lecture 8 - Module 7 - HtDAP (Part 1)\n",
    "\n",
    "This notebook is in continuation to the Lecture 8 slides on Module 7 - HtDAP (Part 1).\n",
    "\n",
    "The steps in the HtDAP recipe are:\n",
    "\n",
    "1. Planning\n",
    "\n",
    "    * (a) Identify the information in the file your program will read\n",
    "    * (b) Write a description of what your program will produce\n",
    "    * (c) Write or draw examples of what your program will produce\n",
    "    \n",
    "\n",
    "2. Building the program\n",
    "     \n",
    "     * (a) Design data definitions\n",
    "     * (b) Design a function to read the information and store it as data in your program\n",
    "     * (c) Design functions to analyze the data\n"
   ]
  },
  {
   "cell_type": "markdown",
   "metadata": {},
   "source": [
    "# Analysing Crime Data provided by Vancouver Police Dept.\n",
    "\n",
    "We are going to analyze crime data information shared by the [Vancouver Police Department](https://vancouver.ca/police/)'s [Open Data initiative](https://geodash.vpd.ca/opendata/).\n",
    "\n",
    "Let's follow the HtDAP recipe and see what kind of analysis programs we can write with the given data. \n",
    "First thing first, how the data is available to us, let us understand that. And then, start planning the Analysis program as per Part 1 of the recipe.\n",
    "\n",
    "**Problem** Design a program to find at what time of day one of the crime types peak in Vancouver."
   ]
  },
  {
   "cell_type": "markdown",
   "metadata": {},
   "source": [
    "___"
   ]
  },
  {
   "cell_type": "markdown",
   "metadata": {},
   "source": [
    "# Understanding CSV File\n",
    "\n",
    "A file with crime data from the Vancouver Police Department is called CSV (Comma Seperated Value).\n",
    "\n",
    "You can check the full file `crimedata_csv_all_years.csv` inside the folder where this lecture notebook is stored."
   ]
  },
  {
   "cell_type": "markdown",
   "metadata": {},
   "source": [
    "TYPE,YEAR,MONTH,DAY,HOUR,MINUTE,HUNDRED_BLOCK,NEIGHBOURHOOD,X,Y<br>\n",
    "Break and Enter Commercial,2012,12,14,8,52,,Oakridge,491285.0,5453433.0<br>\n",
    "Break and Enter Commercial,2019,3,7,2,6,10XX SITKA SQ,Fairview,490612.964805,5457109.82229<br>\n",
    "Break and Enter Commercial,2019,8,27,4,12,10XX ALBERNI ST,West End,491007.779775,5459174.3376<br>\n",
    "Break and Enter Commercial,2014,8,8,5,13,10XX ALBERNI ST,West End,491015.943352,5459166.13973<br>\n",
    "Break and Enter Residential/Other,2004,7,3,13,0,46XX RAVINE ST,Renfrew-Collingwood,496604.209295,5454438.49451<br>\n",
    "Break and Enter Residential/Other,2005,8,27,23,11,46XX RAVINE ST,Renfrew-Collingwood,496613.537337,5454453.47625<br>\n",
    "Break and Enter Residential/Other,2010,12,23,2,59,46XX REID ST,Renfrew-Collingwood,497320.313615,5454479.24362<br>\n",
    "Homicide,2004,4,7,0,0,OFFSET TO PROTECT PRIVACY,,0.0,0.0<br>\n",
    "Homicide,2018,7,25,0,0,OFFSET TO PROTECT PRIVACY,,0.0,0.0<br>\n",
    "Homicide,2005,11,29,0,0,OFFSET TO PROTECT PRIVACY,,0.0,0.0<br>\n",
    "Homicide,2015,1,6,0,0,OFFSET TO PROTECT PRIVACY,,0.0,0.0<br>\n",
    "Mischief,2011,4,4,23,38,10XX BEACH AVE,Central Business District,490239.778444,5458179.16224<br>\n",
    "Mischief,2011,6,22,20,15,10XX BEACH AVE,Central Business District,490239.778444,5458179.16224<br>\n",
    "Mischief,2008,10,7,8,15,10XX BEACH AVE,Central Business District,490249.23071,5458166.83278<br>\n",
    "Mischief,2017,6,1,6,42,10XX BEACH AVE,Central Business District,490249.23071,5458166.83278<br>\n",
    "Offence Against a Person,2020,6,18,0,0,OFFSET TO PROTECT PRIVACY,,0.0,0.0<br>\n",
    "Offence Against a Person,2005,2,11,0,0,OFFSET TO PROTECT PRIVACY,,0.0,0.0<br>\n",
    "Offence Against a Person,2014,3,2,0,0,OFFSET TO PROTECT PRIVACY,,0.0,0.0<br>\n",
    "Other Theft,2009,3,4,16,42,17XX W BROADWAY AVE,Fairview,489494.547034,5456773.8338<br>\n",
    "Other Theft,2010,10,1,17,3,17XX W BROADWAY AVE,Fairview,489494.547034,5456773.8338<br>\n",
    "Other Theft,2011,4,9,19,15,17XX W BROADWAY AVE,Fairview,489494.547034,5456773.8338<br>\n",
    "Theft from Vehicle,2011,9,6,20,30,11XX HOWE ST,Central Business District,490849.968896,5458442.50465<br>\n",
    "Theft from Vehicle,2011,9,7,20,0,11XX HOWE ST,Central Business District,490849.968896,5458442.50465<br>\n",
    "Theft from Vehicle,2011,9,9,8,46,11XX HOWE ST,Central Business District,490849.968896,5458442.50465<br>\n",
    "Theft from Vehicle,2011,9,19,18,0,11XX HOWE ST,Central Business District,490849.968896,5458442.50465<br>\n",
    "Theft of Bicycle,2010,11,14,12,0,1XX KEEFER PL,Central Business District,492117.162378,5458563.98122<br>\n",
    "Theft of Bicycle,2010,12,12,12,0,1XX KEEFER PL,Central Business District,492117.162378,5458563.98122<br>\n",
    "Theft of Bicycle,2011,3,27,4,0,1XX KEEFER PL,Central Business District,492117.162378,5458563.98122<br>\n",
    "Theft of Bicycle,2011,7,17,2,0,1XX KEEFER PL,Central Business District,492117.162378,5458563.98122<br>\n",
    "Vehicle Collision or Pedestrian Struck (with Injury),2018,12,13,6,8,YORK AVE / CYPRESS ST,Kitsilano,489245.0,5457656.0<br>\n",
    "Vehicle Collision or Pedestrian Struck (with Injury),2019,7,25,18,0,YORK AVE / CYPRESS ST,Kitsilano,489245.0,5457656.0<br>\n"
   ]
  },
  {
   "cell_type": "markdown",
   "metadata": {},
   "source": [
    "___"
   ]
  },
  {
   "cell_type": "markdown",
   "metadata": {},
   "source": [
    "# Planning"
   ]
  },
  {
   "cell_type": "markdown",
   "metadata": {},
   "source": [
    "## Step 1a\n",
    "\n",
    "**Identify the information in the file your program will read**"
   ]
  },
  {
   "cell_type": "markdown",
   "metadata": {},
   "source": [
    "The available information includes:\n",
    "\n",
    "_you solution goes here_"
   ]
  },
  {
   "cell_type": "markdown",
   "metadata": {},
   "source": [
    "## Step 1b\n",
    "\n",
    "**Write a description of what your program will produce**"
   ]
  },
  {
   "cell_type": "markdown",
   "metadata": {},
   "source": [
    "_your solution goes here_"
   ]
  },
  {
   "cell_type": "markdown",
   "metadata": {},
   "source": [
    "## Step 1c\n",
    "\n",
    "**Write or draw examples of what your program will produce**"
   ]
  },
  {
   "cell_type": "markdown",
   "metadata": {},
   "source": [
    "_your solution goes here_\n",
    "\n",
    "<!-- ![graph_sketch.png](graph_sketch.png) -->\n"
   ]
  },
  {
   "cell_type": "markdown",
   "metadata": {},
   "source": [
    "___"
   ]
  },
  {
   "cell_type": "markdown",
   "metadata": {},
   "source": [
    "# Building"
   ]
  },
  {
   "cell_type": "markdown",
   "metadata": {},
   "source": [
    "## Step 2a\n",
    "\n",
    "**Design data definitions.**\n",
    "\n",
    "*Note: we are not going do the \"chart or graph\" part now!*"
   ]
  },
  {
   "cell_type": "code",
   "execution_count": null,
   "metadata": {},
   "outputs": [],
   "source": [
    "from typing import NamedTuple, List\n",
    "import csv\n",
    "\n",
    "##################\n",
    "# Data Definitions\n",
    "\n",
    "Consumed = ...\n",
    "\n",
    "\n",
    "\n",
    "# List[Consumed]\n",
    "# interp. a list of Consumed\n",
    "\n",
    "LOC0 = []\n",
    "\n",
    "@typecheck\n",
    "def fn_for_loc(loc: List[Consumed]) -> ...:\n",
    "    ... # choose which template body to use for List[Consumed]\n"
   ]
  },
  {
   "cell_type": "code",
   "execution_count": null,
   "metadata": {},
   "outputs": [],
   "source": []
  },
  {
   "cell_type": "markdown",
   "metadata": {},
   "source": [
    "___"
   ]
  },
  {
   "cell_type": "markdown",
   "metadata": {},
   "source": [
    "## Step 2b\n",
    "\n",
    "**Design a function to read the information and store it as data in your program.**"
   ]
  },
  {
   "cell_type": "code",
   "execution_count": null,
   "metadata": {},
   "outputs": [],
   "source": [
    "@typecheck\n",
    "def read(filename: str) -> List[Consumed]:\n",
    "    \"\"\"    \n",
    "    reads information from the specified file and returns ...\n",
    "    \"\"\"\n",
    "    # return []  #stub\n",
    "    # Template from HtDAP\n",
    "    # loc contains the result so far\n",
    "    loc = [] # type: List[Consumed]\n",
    "\n",
    "    with open(filename) as csvfile:\n",
    "        \n",
    "        reader = csv.reader(csvfile)\n",
    "        next(reader) # skip header line\n",
    "\n",
    "        for row in reader:\n",
    "            # you may not need to store all the rows, and you may need\n",
    "            # to convert some of the strings to other types\n",
    "            c = Consumed(row[0], ... ,row[n])\n",
    "            loc.append(c)\n",
    "    \n",
    "    return loc\n",
    "\n",
    "start_testing()\n",
    "\n",
    "# Examples and tests for read\n",
    "expect(..., ...)\n",
    "\n",
    "summary()"
   ]
  },
  {
   "cell_type": "code",
   "execution_count": null,
   "metadata": {},
   "outputs": [],
   "source": []
  }
 ],
 "metadata": {
  "kernelspec": {
   "display_name": "Python 3",
   "language": "python",
   "name": "python3"
  },
  "language_info": {
   "codemirror_mode": {
    "name": "ipython",
    "version": 3
   },
   "file_extension": ".py",
   "mimetype": "text/x-python",
   "name": "python",
   "nbconvert_exporter": "python",
   "pygments_lexer": "ipython3",
   "version": "3.8.5"
  }
 },
 "nbformat": 4,
 "nbformat_minor": 2
}
