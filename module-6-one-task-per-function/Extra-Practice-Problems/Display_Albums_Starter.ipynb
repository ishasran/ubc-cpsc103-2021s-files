{
 "cells": [
  {
   "cell_type": "markdown",
   "metadata": {},
   "source": [
    "First read the data definitions below."
   ]
  },
  {
   "cell_type": "code",
   "execution_count": null,
   "metadata": {
    "scrolled": true
   },
   "outputs": [],
   "source": [
    "from cs103 import *\n",
    "from typing import NamedTuple\n",
    "from typing import List\n",
    "from enum import Enum\n",
    "\n",
    "\n",
    "Cert = Enum('Cert', ['n', 'g', 'p', 'd', 'dd'])\n",
    "# interp. an albums certification in Canada which can be: none ('n'), Gold ('g'), Platinum ('p'), \n",
    "# Diamond ('d'), or Double Diamond ('dd')\n",
    "# examples are redundant for enumerations\n",
    "\n",
    "# template based on One Of (5 cases) and atomic distinct (5 times)\n",
    "@typecheck\n",
    "def fn_for_cert(c):\n",
    "    if c == Cert.n:\n",
    "        return ...\n",
    "    if c == Cert.g:\n",
    "        return ...\n",
    "    if c == Cert.p:\n",
    "        return ...\n",
    "    if c == Cert.d:\n",
    "        return ...\n",
    "    if c == Cert.dd:\n",
    "        return ...\n",
    "\n",
    "Album = NamedTuple('Album', [('name', str), \n",
    "                             ('artist', str), \n",
    "                             ('year', int), # in range [0, ...)\n",
    "                             ('cert', Cert)])\n",
    "# Album is Album(str, str, int, Cert)\n",
    "# interp. an albums name, artist, release year and sales certification\n",
    "\n",
    "A0 = Album('Ephemeral Spark', 'How to Waste Time Efficiently', 2011, Cert.n)\n",
    "A1 = Album('The Weeknd', 'Beauty Behind the Madness', 2015, Cert.p)\n",
    "A2 = Album('Michael Buble', 'Christmas', 2011, Cert.d)\n",
    "A3 = Album('Jagged Little Pill', 'Alanis Morissette', 1995, Cert.dd)\n",
    "A4 = Album('Arkells', 'High Noon', 2014, Cert.g)\n",
    "A5 = Album('Shania Twain', 'Come on Over', 1997, Cert.dd)\n",
    "A6 = Album('PUP', 'The Dream is Over', 2016, Cert.n)\n",
    "\n",
    "# template based on compound and the reference rule\n",
    "@typecheck\n",
    "def fn_for_album(a):\n",
    "    return ... (a.name,\n",
    "                a.artist,\n",
    "                a.year,\n",
    "                fn_for_cert(a.cert))\n",
    "\n",
    "\n",
    "# List[Album] \n",
    "# interp. a list of albums\n",
    "LOA1 = []\n",
    "LOA2 = [A0, A1, A2, A3, A4, A5, A6]\n",
    "\n",
    "# template based on arbitrary-sized and the reference rule\n",
    "@typecheck\n",
    "def fn_for_loa(loa: List[Album]) -> ...:\n",
    "    acc = ... # type: ...\n",
    "    for a in loa:\n",
    "        ...(acc, fn_for_album(a))\n",
    "    return ...(acc)"
   ]
  },
  {
   "cell_type": "markdown",
   "metadata": {},
   "source": [
    "## Problem:\n",
    "\n",
    "Design a function that takes a list of albums, removes uncertified albums (i.e. albums that have a certification of none), and then displays a single image representing the list. Gold Albums will be represented by a gold circle, platinum by a silver circle, diamond by a blue circle, and double diamond by a blue circle twice as large. Be sure to follow the helper rules. \n",
    "\n",
    "This is a long problem (our sample solution has seven functions). Remember that the recipes and helper rules help you break the problem down into smaller pieces so that you can focus on one piece at a time."
   ]
  },
  {
   "cell_type": "code",
   "execution_count": null,
   "metadata": {},
   "outputs": [],
   "source": [
    "# your solution goes here"
   ]
  }
 ],
 "metadata": {
  "kernelspec": {
   "display_name": "Python 3",
   "language": "python",
   "name": "python3"
  },
  "language_info": {
   "codemirror_mode": {
    "name": "ipython",
    "version": 3
   },
   "file_extension": ".py",
   "mimetype": "text/x-python",
   "name": "python",
   "nbconvert_exporter": "python",
   "pygments_lexer": "ipython3",
   "version": "3.6.7"
  }
 },
 "nbformat": 4,
 "nbformat_minor": 2
}
