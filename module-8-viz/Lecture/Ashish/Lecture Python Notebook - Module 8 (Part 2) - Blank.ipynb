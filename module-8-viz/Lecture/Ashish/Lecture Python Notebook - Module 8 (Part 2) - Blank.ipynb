{
 "cells": [
  {
   "cell_type": "code",
   "execution_count": null,
   "metadata": {},
   "outputs": [],
   "source": [
    "from cs103 import * # needed (once per notebook) to enable incredible cs103 powers!!\n",
    "from typing import List\n",
    "import csv"
   ]
  },
  {
   "cell_type": "markdown",
   "metadata": {},
   "source": [
    "# Lecture 10 - Module 8 Visualization (Part 2)\n",
    "\n",
    "\n",
    "## Class Announcements\n",
    "\n",
    "1. There are **NO** pre-lecture assignments now.\n",
    "2. Project Check-in coming up **(June 14 10pm PDT)**.\n",
    "3. Project Final Submission **(June 17 10pm PDT)**.\n",
    "    1. There are bonus marks for **EARLY** submissions.\n",
    "4. **Student Evaluation of Teaching** survey for Instructors and TAs is open on **June 12th**.\n",
    "\n",
    "5. Next Week's Lectures:\n",
    "    1. Project Work Period (Instructor and TAs are there to take your queries).\n",
    "    2. Final Exam Review Session\n",
    "\n",
    "\n",
    "------------"
   ]
  },
  {
   "cell_type": "markdown",
   "metadata": {},
   "source": [
    "## Histogram and Bar graphs"
   ]
  },
  {
   "cell_type": "code",
   "execution_count": null,
   "metadata": {},
   "outputs": [],
   "source": [
    "# Plot the frequency of crimes by the number of days.\n",
    "\n",
    "from matplotlib import pyplot as pyplot\n",
    "\n",
    "# In 20 days the following number of crimes happened. \n",
    "# We want to visualize the number of days when the certain number of crimes happened.\n",
    "total_crimes = [2, 4, 52, 36, 39, 7, 8, 4, 9, 10, 88, 92, 82, 99 ,1, 14, 4, 5, 42, 64]\n",
    "\n",
    "bins = [0, 10, 20, 30, 40, 50, 60, 70, 80, 90, 100]\n"
   ]
  },
  {
   "cell_type": "code",
   "execution_count": null,
   "metadata": {},
   "outputs": [],
   "source": [
    "# plot the number of crimes happened of each type.\n",
    "# There are four crime types and for each type we identified total number of crimes, no we will visualize it.\n",
    "\n",
    "from matplotlib import pyplot as pyplot\n"
   ]
  },
  {
   "cell_type": "markdown",
   "metadata": {},
   "source": [
    "## Analysing Movies\n",
    "\n",
    "The file my_movies.csv has a list of movies downloaded from [IMDB](https://www.imdb.com).\n",
    "\n",
    "\n",
    "## Problem 1\n",
    "Design a program to show the average rating of the movies per decade. Assume that I finished Step 1a, Step 1b and Step 1c. We will do from Step 2a-2c in the class.\n",
    "\n",
    "\n",
    "<!-- ![Graph](graph1.PNG) -->\n",
    "\n",
    "\n",
    "```python\n",
    "\n",
    "# Analysis Program Template\n",
    "# If you design a function based on this template (a main or read), just say \"Template from HtDAP\"\n",
    "from cs103 import *\n",
    "from typing import NamedTuple, List\n",
    "import csv\n",
    "\n",
    "##################\n",
    "# Data Definitions\n",
    "\n",
    "Consumed = ...\n",
    "\n",
    "\n",
    "\n",
    "# List[Consumed]\n",
    "# interp. a list of Consumed\n",
    "\n",
    "LOC0 = []\n",
    "\n",
    "@typecheck\n",
    "def fn_for_loc(loc: List[Consumed]) -> ...:\n",
    "    ... # choose which template body to use for List[Consumed]\n",
    "\n",
    "\n",
    "\n",
    "Produced = ...   # (sometimes you will need a type for the \n",
    "                 # value(s) that are produced)\n",
    "\n",
    "\n",
    "\n",
    "###########\n",
    "# Functions\n",
    "\n",
    "@typecheck\n",
    "def main(filename: str) -> ...:\n",
    "    \"\"\"\n",
    "    Reads the file from given filename, analyzes the data,\n",
    "    returns the result\n",
    "    \"\"\"\n",
    "    return ... # stub (make sure you update the ... with a value of the correct type)\n",
    "    \n",
    "    # Template from HtDAP, based on composition\n",
    "    # return analyze(read(filename))\n",
    "\n",
    "\n",
    "@typecheck\n",
    "def read(filename: str) -> List[Consumed]:\n",
    "    \"\"\"    \n",
    "    reads information from the specified file and returns ...\n",
    "    \"\"\"\n",
    "    #return []  #stub\n",
    "    # Template from HtDAP\n",
    "    # loc contains the result so far\n",
    "    loc = [] # type: List[Consumed]\n",
    "\n",
    "    with open(filename) as csvfile:\n",
    "        \n",
    "        reader = csv.reader(csvfile)\n",
    "        next(reader) # skip header line\n",
    "\n",
    "        for row in reader:\n",
    "            # you may not need to store all the rows, and you may need\n",
    "            # to convert some of the strings to other types\n",
    "            c = Consumed(row[0], ... ,row[n])\n",
    "            loc.append(c)\n",
    "    \n",
    "    return loc\n",
    "\n",
    "\n",
    "@typecheck\n",
    "def analyze(loc: List[Consumed]) -> Produced:  # You will often want to rename this function!\n",
    "    \"\"\"\n",
    "    ... \n",
    "    \"\"\"\n",
    "    return ...\n",
    "\n",
    "```"
   ]
  },
  {
   "cell_type": "code",
   "execution_count": null,
   "metadata": {},
   "outputs": [],
   "source": [
    "# Data Definitions (Step 2a)"
   ]
  },
  {
   "cell_type": "code",
   "execution_count": null,
   "metadata": {},
   "outputs": [],
   "source": [
    "# Step 2b and 2c"
   ]
  },
  {
   "cell_type": "code",
   "execution_count": null,
   "metadata": {},
   "outputs": [],
   "source": []
  },
  {
   "cell_type": "markdown",
   "metadata": {},
   "source": [
    "## **Problem 2** \n",
    "Let's analyze the number of movies released in each decade using HtDAP program and visualize it.\n",
    "\n",
    "<!-- ![Graph2](graph2.PNG) -->"
   ]
  },
  {
   "cell_type": "code",
   "execution_count": null,
   "metadata": {},
   "outputs": [],
   "source": [
    "# Step 2c "
   ]
  },
  {
   "cell_type": "code",
   "execution_count": null,
   "metadata": {},
   "outputs": [],
   "source": []
  }
 ],
 "metadata": {
  "kernelspec": {
   "display_name": "Python 3",
   "language": "python",
   "name": "python3"
  },
  "language_info": {
   "codemirror_mode": {
    "name": "ipython",
    "version": 3
   },
   "file_extension": ".py",
   "mimetype": "text/x-python",
   "name": "python",
   "nbconvert_exporter": "python",
   "pygments_lexer": "ipython3",
   "version": "3.8.5"
  }
 },
 "nbformat": 4,
 "nbformat_minor": 2
}
