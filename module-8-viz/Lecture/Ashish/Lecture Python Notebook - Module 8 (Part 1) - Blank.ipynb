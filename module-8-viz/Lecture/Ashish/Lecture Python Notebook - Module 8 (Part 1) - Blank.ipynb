{
 "cells": [
  {
   "cell_type": "code",
   "execution_count": null,
   "metadata": {},
   "outputs": [],
   "source": [
    "from cs103 import * # needed (once per notebook) to enable incredible cs103 powers!!"
   ]
  },
  {
   "cell_type": "markdown",
   "metadata": {},
   "source": [
    "# Lecture 9 - Module 8 Visualization (Part 1)\n",
    "\n",
    "\n",
    "### Analysing Crime Data provided by Vancouver Police Dept.\n",
    "\n",
    "We are going to analyze crime data information shared by the [Vancouver Police Department](https://vancouver.ca/police/)'s [Open Data initiative](https://geodash.vpd.ca/opendata/).\n",
    "\n",
    "Let's follow the HtDAP recipe and see what kind of analysis programs we can write with the given data. \n",
    "First thing first, how the data is available to us, let us understand that. And then, start planning the Analysis program as per Part 1 of the recipe.\n",
    "\n",
    "**Problem** Design a program to find at what time of day one of the crime types peak in Vancouver."
   ]
  },
  {
   "cell_type": "markdown",
   "metadata": {},
   "source": [
    "___"
   ]
  },
  {
   "cell_type": "markdown",
   "metadata": {},
   "source": [
    "# Visualizing Total Crimes per hour\n",
    "\n",
    "Let us imagine we could have done an analysis function which would return the total number of crimes happened in each hour. In this case we would receive a list of numbers where each number represent a total count of crimes happened in that hour. For example:"
   ]
  },
  {
   "cell_type": "code",
   "execution_count": null,
   "metadata": {},
   "outputs": [],
   "source": [
    "total_crimes = [29, 87, 9, 109, 8, 2, 1, 0, 0, 28, 9, 92, 2, 9, 2, 1, 0, 82, 4, 8, 95, 43, 9]\n",
    "HOURS = [1, 2, 3, 4, 5, 6, 7, 8, 9, 10, 11, 12, 13, 14, 15, 16, 17, 18, 19, 20, 21, 22, 23]\n",
    "\n",
    "# imagine this total_crimes list of numbers is obtained by calling analyze function like\n",
    "# total_crimes = analyze(locd). locd is the List[CrimeData]. This analysis function solves a different analysis\n",
    "# question which results into a list of numbers instead of single number.\n",
    "\n",
    "# Having a list of numbers as an outcome of an analysis function is boring. Therefore, \n",
    "# we will use visualization which makes analysing this output easier. \n",
    "# For this we use matplotlib library of python.\n",
    "\n",
    "# your solution goes here\n"
   ]
  },
  {
   "cell_type": "markdown",
   "metadata": {},
   "source": [
    "## Visualizing 2 outputs in one graph\n",
    "\n",
    "Imagine we have two different analysis function which answers two different questions on the same data (Crime Data) and both returns list of numbers. For example, the first analysis function identifes the total number of Break and enter into Residential crimes reported in each hour, whereas the second function identifies the total number of Theft of Vehicle crimes reported in each hour. Let's visualize both of them. "
   ]
  },
  {
   "cell_type": "code",
   "execution_count": null,
   "metadata": {},
   "outputs": [],
   "source": [
    "HOURS = []\n",
    "total_bne_crimes = []\n",
    "num_theft_vehicle_crimes = []\n",
    "\n",
    "# your solution goes here"
   ]
  },
  {
   "cell_type": "code",
   "execution_count": null,
   "metadata": {},
   "outputs": [],
   "source": []
  },
  {
   "cell_type": "code",
   "execution_count": null,
   "metadata": {},
   "outputs": [],
   "source": [
    "display_chart(HOURS, total_crimes)"
   ]
  },
  {
   "cell_type": "markdown",
   "metadata": {},
   "source": [
    "## Problem 2: \n",
    "Let us analyze crime data information once again shared by the Vancouver Police Department's Open Data initiative and plot the location of crimes in Vancouver."
   ]
  },
  {
   "cell_type": "code",
   "execution_count": null,
   "metadata": {},
   "outputs": [],
   "source": [
    "# you solution goes here"
   ]
  },
  {
   "cell_type": "code",
   "execution_count": null,
   "metadata": {},
   "outputs": [],
   "source": [
    "# Function Definition\n",
    "\n",
    "# your solution goes here"
   ]
  },
  {
   "cell_type": "code",
   "execution_count": null,
   "metadata": {},
   "outputs": [],
   "source": [
    "main('crimedata_subset.csv')"
   ]
  },
  {
   "cell_type": "markdown",
   "metadata": {},
   "source": [
    "## Problem 3\n",
    "\n",
    "The file `my_movies.csv` has a list of movies from [IMDB](https://www.imdb.com).\n",
    "\n",
    "**Problem:** Design a program to show the average rating of the movies per decade."
   ]
  },
  {
   "cell_type": "code",
   "execution_count": null,
   "metadata": {},
   "outputs": [],
   "source": [
    "# your solution goes here"
   ]
  }
 ],
 "metadata": {
  "kernelspec": {
   "display_name": "Python 3",
   "language": "python",
   "name": "python3"
  },
  "language_info": {
   "codemirror_mode": {
    "name": "ipython",
    "version": 3
   },
   "file_extension": ".py",
   "mimetype": "text/x-python",
   "name": "python",
   "nbconvert_exporter": "python",
   "pygments_lexer": "ipython3",
   "version": "3.8.5"
  }
 },
 "nbformat": 4,
 "nbformat_minor": 2
}
