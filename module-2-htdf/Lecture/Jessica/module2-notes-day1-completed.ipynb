{
 "cells": [
  {
   "cell_type": "code",
   "execution_count": null,
   "metadata": {},
   "outputs": [],
   "source": [
    "from cs103 import *"
   ]
  },
  {
   "cell_type": "markdown",
   "metadata": {},
   "source": [
    "# Module 2, Day 1 Notes\n",
    "\n",
    "Here is a summary of our How to Design Functions Recipe:\n",
    "\n",
    "1. Write:\n",
    "   1. the typecheck annotation,\n",
    "   2. signature,\n",
    "   3. purpose, and \n",
    "   4. stub (technically, the body of the stub).\n",
    "2. Write examples/tests\n",
    "3. Write or copy the template\n",
    "4. Code the function body\n",
    "5. Test and debug until correct"
   ]
  },
  {
   "cell_type": "markdown",
   "metadata": {},
   "source": [
    "## `is_tall` Quiz Problem\n",
    "\n",
    "Let's revisit the steps of: **Design a function that takes an Image and determines whether it is tall or not.**"
   ]
  },
  {
   "cell_type": "markdown",
   "metadata": {},
   "source": [
    "Written as markdown, since Python will produce an error if we try to run a def line with no body.\n",
    "\n",
    "(What error? `unexpected EOF while parsing`. Yuck. What does **that** mean? An \"EOF\" is an \"end of file\", or in this case, the end of a cell. \"Parsing\" is \"transforming your code-as-text into a sensible program\". So, Python is saying \"I expected something more before I could make sense of the code you wrote.\" In this case, that something more was the body of the function!)\n",
    "\n",
    "```python\n",
    "# First, we figure out the signature. \n",
    "\n",
    "@typecheck\n",
    "def is_tall(img: Image) -> bool:  # Why bool?\n",
    "```\n",
    "\n",
    "We chose `bool` as the return type because it is the standard Python way to represent a yes-or-no answer."
   ]
  },
  {
   "cell_type": "code",
   "execution_count": null,
   "metadata": {},
   "outputs": [],
   "source": [
    "# Next, the purpose. We should describe any important details, including\n",
    "# any design decisions we had to make! So, for example, if you decided\n",
    "# that a function is tall if it's more than 100 units in height, then\n",
    "# \"return True if img is tall\" is STILL a bad purpose, but \"return True\n",
    "# if img is taller than 100 units in height\" is OK.\n",
    "\n",
    "@typecheck\n",
    "def is_tall(img: Image) -> bool:\n",
    "    \"\"\"\n",
    "    return True if img is taller than it is wide and False otherwise\n",
    "    \"\"\""
   ]
  },
  {
   "cell_type": "code",
   "execution_count": null,
   "metadata": {},
   "outputs": [],
   "source": [
    "# Finally, the body of the stub, and I'm done with step one of the recipe.\n",
    "# The stub should always return a value that matches the return type in\n",
    "# the signature. Which value? It DOES NOT MATTER. So, choose the easiest\n",
    "# one you can think of to write :)\n",
    "#\n",
    "# That's often 0 for ints or floats, \"\" for strings, empty_image for Images,\n",
    "# and True or False as you prefer for bools.\n",
    "\n",
    "# Notice that the stub is NOT commented out. Later, we'll comment it out,\n",
    "# but for the examples/tests, we need it to run!\n",
    "\n",
    "@typecheck\n",
    "def is_tall(img: Image) -> bool:\n",
    "    \"\"\"\n",
    "    return True if img is taller than it is wide and False otherwise\n",
    "    \"\"\"\n",
    "    return True  #stub"
   ]
  },
  {
   "cell_type": "code",
   "execution_count": null,
   "metadata": {},
   "outputs": [],
   "source": [
    "# What goes next is NOT the template. We don't design functions\n",
    "# in the same order they eventually appear in the page, just like\n",
    "# you don't write a paper from the first word to the last or build\n",
    "# a building from the piece of material that goes lowest to the one\n",
    "# that goes highest.\n",
    "\n",
    "# Instead, we write our tests next so we can practice with what\n",
    "# it looks like to call the function, write out explicitly what we\n",
    "# expect that to produce, and get some practice with what the body\n",
    "# of the function might look like as well.\n",
    "\n",
    "@typecheck\n",
    "def is_tall(img: Image) -> bool:\n",
    "    \"\"\"\n",
    "    return True if img is taller than it is wide and False otherwise\n",
    "    \"\"\"\n",
    "#     return True  #stub\n",
    "\n",
    "\n",
    "# How many tests should we have?\n",
    "# 1) Write a test by calling the function the first reasonable way you imagine.\n",
    "# 2) Write at least one more test to show how the function's behaviour changes\n",
    "#    if you chance the inputs (argument values).\n",
    "# 3) Think through if there are any special cases to illustrate.\n",
    "start_testing()\n",
    "expect(is_tall(rectangle(100, 10, \"solid\", \"red\")), False)     # short\n",
    "expect(is_tall(triangle(30, 50, \"outline\", \"purple\")), True)   # tall\n",
    "expect(is_tall(triangle(30, 30, \"outline\", \"purple\")), False)  # \"tied\"\n",
    "summary()"
   ]
  },
  {
   "cell_type": "markdown",
   "metadata": {},
   "source": [
    "Written as markdown, since running this will produce an error. (It produces `'ellipsis' object is not callable`. An ellipsis is a \"...\". So, it's saying \"you wrote `...(i)` as if you wanted to call `...` like a function, but you cannot call `...` because it is not a function\". That's correct. The template isn't designed to be runnable!)\n",
    "\n",
    "```python\n",
    "# At this point if you were not in CPSC 103, you would DELETE the stub body,\n",
    "# write out the template, and then edit the template to get your implementation.\n",
    "# For GRADING PURPOSES ONLY, you instead comment out the stub body and make two\n",
    "# copies of the template: one for us and one for you to edit.\n",
    "@typecheck\n",
    "def is_tall(img: Image) -> bool:\n",
    "    \"\"\"\n",
    "    return True if img is taller than it is wide and False otherwise\n",
    "    \"\"\"\n",
    "    #return True  #stub\n",
    "    #return ...(img)  #template; a copy just for your friendly grader\n",
    "    return ...(img)   #template, ready to be edited into an implementation\n",
    "\n",
    "\n",
    "# How many tests should we have?\n",
    "# 1) Write a test by calling the function the first reasonable way you imagine.\n",
    "# 2) Write at least one more test to show how the function's behaviour changes\n",
    "#    if you chance the inputs (argument values).\n",
    "# 3) Think through if there are any special cases to illustrate.\n",
    "start_testing()\n",
    "expect(is_tall(rectangle(100, 10, \"solid\", \"red\")), False)     # short\n",
    "expect(is_tall(triangle(30, 50, \"outline\", \"purple\")), True)   # tall\n",
    "expect(is_tall(triangle(30, 30, \"outline\", \"purple\")), False)  # \"tied\"\n",
    "summary()\n",
    "```"
   ]
  },
  {
   "cell_type": "code",
   "execution_count": null,
   "metadata": {},
   "outputs": [],
   "source": [
    "# Why return a bool? In Python, we represent the answers to yes-or-no\n",
    "# questions with bools. A bool is always a better choice than the other\n",
    "# options (like the strings \"yes\" and \"no\") for that representation challenge.\n",
    "@typecheck\n",
    "def is_tall(img: Image) -> bool:\n",
    "    \"\"\"\n",
    "    return True if img is taller than it is wide and False otherwise\n",
    "    \"\"\"\n",
    "    #return True  #stub; return False would have been equally good \n",
    "    #return ...(img)  #template; for Module 2, just lists our parameters\n",
    "    \n",
    "    # You could solve this problem with an if/else statemnt. However,\n",
    "    # the code below already returns True when the image's height is\n",
    "    # larger than its width and False otherwise.\n",
    "    return image_height(img) > image_width(img)\n",
    "\n",
    "start_testing()\n",
    "\n",
    "# We should certainly have at least one example that produces True and one that produces False,\n",
    "# or we're not really illustrating what the function can do.\n",
    "expect(is_tall(rectangle(100, 10, \"solid\", \"red\")), False)    # short\n",
    "expect(is_tall(triangle(30, 50, \"outline\", \"purple\")), True)  # tall\n",
    "\n",
    "# Are there any special cases? Yes, definitely! Given the purpose we decided on, what should \n",
    "# happen with an image that has the same width and height? We should demonstrate (and TEST)\n",
    "# that case.\n",
    "expect(is_tall(triangle(30, 30, \"outline\", \"purple\")), False) # \"tied\"\n",
    "\n",
    "# What if you decided \"any image that's more than 100 units high is tall\"? Well, you should\n",
    "# still likely have three test cases: above 100, below 100, and exactly 100 high. You should\n",
    "# also still explain in the purpose how YOU decided what tall means!\n",
    "summary()\n"
   ]
  }
 ],
 "metadata": {
  "kernelspec": {
   "display_name": "Python 3",
   "language": "python",
   "name": "python3"
  },
  "language_info": {
   "codemirror_mode": {
    "name": "ipython",
    "version": 3
   },
   "file_extension": ".py",
   "mimetype": "text/x-python",
   "name": "python",
   "nbconvert_exporter": "python",
   "pygments_lexer": "ipython3",
   "version": "3.9.1"
  }
 },
 "nbformat": 4,
 "nbformat_minor": 2
}
