{
 "cells": [
  {
   "cell_type": "code",
   "execution_count": null,
   "metadata": {},
   "outputs": [],
   "source": [
    "from cs103 import *"
   ]
  },
  {
   "cell_type": "markdown",
   "metadata": {},
   "source": [
    "# Module 2, Day 2 Notes\n",
    "\n",
    "Here is a summary of our How to Design Functions Recipe:\n",
    "\n",
    "1. Write:\n",
    "   1. the typecheck annotation,\n",
    "   2. signature,\n",
    "   3. purpose, and \n",
    "   4. stub (technically, the body of the stub).\n",
    "2. Write examples/tests\n",
    "3. Write or copy the template\n",
    "4. Code the function body\n",
    "5. Test and debug until correct"
   ]
  },
  {
   "cell_type": "markdown",
   "metadata": {},
   "source": [
    "## The Worksheet \"multiply a number by 4\" Problem\n",
    "\n",
    "We'll work through these to get more practice with the recipe and to explain what we mean by the wording of these problems on the worksheet!\n",
    "\n",
    "The overarching problem is: **Design a function that multiplies a number by 4.**"
   ]
  },
  {
   "cell_type": "markdown",
   "metadata": {},
   "source": [
    "### \"circle the best signature and why you chose it\"\n",
    "1. `float -> 4*float`\n",
    "1. `number -> number`\n",
    "1. `float, float -> float`\n",
    "1. `float -> float`  **this one**\n",
    "\n",
    "\"Why is that the best signature?\"\n",
    "\n",
    "The first and second options aren't legal. (In the first case, there's no such type as `4*float`. In English, the second case kind of says what we want, but there's just no type in Python named `number`.)\n",
    "\n",
    "The third option describes a function that takes two parameters. We don't need two parameters (two \"inputs\"). We need a single number, which we'll then multiply by 4. You might think \"we need 4 as well\". That's fine, but it isn't a parameter; it's just 4! That's like a doughnut machine doesn't need as input a drawing of the shape to make the doughnut. Doughnuts look like 🍩, and that's all there is to it!"
   ]
  },
  {
   "cell_type": "markdown",
   "metadata": {},
   "source": [
    "### \"what is the second-best response or explain why there is none? Is that second-best response good enough to be an acceptable design?\"\n",
    "\n",
    "There isn't a second-best of the ones listed above. They're all basically wrong.\n",
    "\n",
    "If it were listed, `int -> int` might also be a good option, and we'd have to decide which we like better. (With no other guidance from the problem statement, it's kind of nice that `float -> float` doesn't require any extra work on our part and handles more possible inputs than `int -> int`.)"
   ]
  },
  {
   "cell_type": "markdown",
   "metadata": {},
   "source": [
    "### \"write a clear and succinct purpose\"\n",
    "\n",
    "Hint to creating a good purpose: Start by copying the problem statement and then improve it! Two common improvements: use your parameters' names to make it easier to read and describe any decision decisions that would impact anyone who calls the function.\n",
    "\n",
    "In this case, we're probably fine with \"multiply a number by 4\". If we knew the parameter was named `x`, then \"multiply x by 4\" would probably be better."
   ]
  },
  {
   "cell_type": "markdown",
   "metadata": {},
   "source": [
    "### \"match [the function] with an appropriate stub body\"\n",
    "\n",
    "We're working on `def times_four(x):`\n",
    "\n",
    "Here are the options:\n",
    "+ `return False`\n",
    "+ `return radius`\n",
    "+ `return x` **works, since in _this_ function, `x` is a `float`**\n",
    "+ `return colour`\n",
    "+ `return square(1, 'solid', 'white')`\n",
    "\n",
    "What if you had some *other* function like:\n",
    "\n",
    "```python\n",
    "def do_something_with_radius(radius: float) -> ...:\n",
    "```\n",
    "\n",
    "It doesn't matter. `radius` is that function's parameter not *our* function's parameter. It is not available from inside *our* function and so we cannot use it in the function body."
   ]
  },
  {
   "cell_type": "markdown",
   "metadata": {},
   "source": [
    "## CPSC 103 d-tective 😜\n",
    "\n",
    "**Problem:** Design a function that determines if a string starts with\n",
    "the letter *d*."
   ]
  },
  {
   "cell_type": "markdown",
   "metadata": {},
   "source": [
    "**NOTES:** When working this example on my own, it was only at the examples/tests stage that I realized I needed to think about uppercase vs. lowercase letters. The problem statement given to us *does not say* what we should do about case. There's a couple of reasonable choices: only look for lowercase d (since the problem statement does say *d*, and not *D*) or choose to look for both (since the problem statement doesn't seem to rule that out). We chose the second option, but the first would be fine too. Either way, we **had** to go back to our purpose to make our choice clear! The purpose should document any choices we face like this that are relevant to people who *call* our function! Of course, we also made sure to have tests that checked that we're doing the right thing! :)\n",
    "\n",
    "There were some other tricky cases to think about as well. The hardest is the empty string `\"\"`. How do we handle that below?"
   ]
  },
  {
   "cell_type": "code",
   "execution_count": null,
   "metadata": {},
   "outputs": [],
   "source": [
    "# Let's put our answer here!\n",
    "\n",
    "# We made the design decision that \"starts with the letter d\" meant\n",
    "# just a lowercase \"d\", but we could have decided it meant \"lower- or\n",
    "# upper-case\", in which case our purpose would document that choice,\n",
    "# our examples/tests would illustrate and test it, and our code would\n",
    "# implement it.\n",
    "\n",
    "@typecheck\n",
    "def starts_with_d(word: str) -> bool:\n",
    "    \"\"\"\n",
    "    determines if a string starts with the letter d,\n",
    "    lowercase or uppercase.\n",
    "    (returns True if so and False otherwise)\n",
    "    \"\"\"\n",
    "    #return True #stub\n",
    "    #return ...(word)  #template\n",
    "    \n",
    "    if len(word) == 0:\n",
    "        return False\n",
    "    elif word[0] == 'd' or word[0] == 'D':\n",
    "        return True\n",
    "    else:\n",
    "        return False\n",
    "    \n",
    "# Another way to implement the function\n",
    "#     if word == \"\":\n",
    "#         return False\n",
    "#     else:\n",
    "#         return word[0] == 'd' or word[0] == 'D'\n",
    "\n",
    "\n",
    "start_testing()\n",
    "\n",
    "expect(starts_with_d(\"dinosaur\"), True)\n",
    "expect(starts_with_d(\"d\"), True)\n",
    "expect(starts_with_d(\"D\", True))\n",
    "expect(starts_with_d(\"cat\"), False)\n",
    "expect(starts_with_d(\"David\"), True)\n",
    "expect(starts_with_d(\"Jae\"), False)\n",
    "expect(starts_with_d(\"\"), False)\n",
    "\n",
    "summary()"
   ]
  }
 ],
 "metadata": {
  "kernelspec": {
   "display_name": "Python 3",
   "language": "python",
   "name": "python3"
  },
  "language_info": {
   "codemirror_mode": {
    "name": "ipython",
    "version": 3
   },
   "file_extension": ".py",
   "mimetype": "text/x-python",
   "name": "python",
   "nbconvert_exporter": "python",
   "pygments_lexer": "ipython3",
   "version": "3.9.1"
  }
 },
 "nbformat": 4,
 "nbformat_minor": 2
}
