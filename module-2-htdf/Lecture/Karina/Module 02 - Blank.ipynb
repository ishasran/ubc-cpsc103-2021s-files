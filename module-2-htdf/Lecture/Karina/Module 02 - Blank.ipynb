{
 "cells": [
  {
   "cell_type": "code",
   "execution_count": 1,
   "metadata": {},
   "outputs": [],
   "source": [
    "from cs103 import * # needed (once per notebook) to enable incredible cs103 powers!!"
   ]
  },
  {
   "cell_type": "markdown",
   "metadata": {},
   "source": [
    "***"
   ]
  },
  {
   "cell_type": "markdown",
   "metadata": {},
   "source": [
    "# is_tall Quizz Problem\n",
    "\n",
    "**Problem:**: Design a function that takes an Image and determines whether it is tall or not."
   ]
  },
  {
   "cell_type": "code",
   "execution_count": 2,
   "metadata": {},
   "outputs": [
    {
     "name": "stdout",
     "output_type": "stream",
     "text": [
      "\u001b[92m1 of 1 tests passed\u001b[0m\n"
     ]
    }
   ],
   "source": [
    "# Design is_tall here.\n",
    "# We already included the signature, TWO possible purposes, and a stub.\n",
    "# We still need: tests/examples, template comment, and body.\n",
    "\n",
    "@typecheck\n",
    "def is_tall(img: Image) -> bool:\n",
    "    # Should the purpose be:\n",
    "    \"\"\"\n",
    "    return True if the image is taller than it is wide, and False otherwise\n",
    "    \"\"\"\n",
    "    # Or:\n",
    "    \"\"\"\n",
    "    return True if the image is tall\n",
    "    \"\"\"\n",
    "    return True  #stub\n",
    "    \n",
    "# Starting point for any set of tests/examples:\n",
    "start_testing()\n",
    "expect(..., ...)\n",
    "summary()"
   ]
  },
  {
   "cell_type": "markdown",
   "metadata": {},
   "source": [
    "*******"
   ]
  },
  {
   "cell_type": "markdown",
   "metadata": {},
   "source": [
    "# Multiply a number by 4\n",
    "\n",
    "**Problem**: Design a function that multiplies a number by 4."
   ]
  },
  {
   "cell_type": "code",
   "execution_count": 3,
   "metadata": {},
   "outputs": [],
   "source": [
    "# Define your function to check sign here\n"
   ]
  },
  {
   "cell_type": "markdown",
   "metadata": {},
   "source": [
    "___"
   ]
  },
  {
   "cell_type": "markdown",
   "metadata": {},
   "source": [
    "# Discount\n",
    "\n",
    "**Problem:** A store gives 5% off the most expensive product and 10% off the second most expensive product. Design a program that calculates the final purchase price of two products."
   ]
  },
  {
   "cell_type": "code",
   "execution_count": 4,
   "metadata": {},
   "outputs": [
    {
     "name": "stdout",
     "output_type": "stream",
     "text": [
      "\u001b[92m3 of 3 tests passed\u001b[0m\n"
     ]
    }
   ],
   "source": [
    "@typecheck\n",
    "def discount(price1: float, price2: float) -> float:\n",
    "    \"\"\"\n",
    "    Give a discount of 10% on the smallest value and 5% on the biggest value.\n",
    "    Return the total price of the two itens with the discount.\n",
    "    \"\"\"\n",
    "    #return 100.0  #stub\n",
    "    #return ...(price1, price2)  #template\n",
    "    \n",
    "    if price1 > price2:\n",
    "        return price1*(0.95) + price2*(0.9)\n",
    "    else:\n",
    "        return price1*(0.9) + price2*(0.95)\n",
    "\n",
    "start_testing()\n",
    "expect(discount(100, 100), 185)\n",
    "expect(discount(80, 100), 167)\n",
    "expect(discount(82.8, 42.6), 117)\n",
    "summary()"
   ]
  },
  {
   "cell_type": "code",
   "execution_count": 5,
   "metadata": {},
   "outputs": [
    {
     "data": {
      "text/plain": [
       "116.25"
      ]
     },
     "execution_count": 5,
     "metadata": {},
     "output_type": "execute_result"
    }
   ],
   "source": [
    "price1 = 50\n",
    "price2 = 75\n",
    "\n",
    "discount(price1, price2)"
   ]
  },
  {
   "cell_type": "code",
   "execution_count": 6,
   "metadata": {},
   "outputs": [
    {
     "data": {
      "text/plain": [
       "28.0"
      ]
     },
     "execution_count": 6,
     "metadata": {},
     "output_type": "execute_result"
    }
   ],
   "source": [
    "price1 = 20\n",
    "price2 = 10\n",
    "\n",
    "discount(price2, price1)"
   ]
  },
  {
   "cell_type": "markdown",
   "metadata": {},
   "source": [
    "___"
   ]
  },
  {
   "cell_type": "markdown",
   "metadata": {},
   "source": [
    "# CPSC 103 d-tective 😜\n",
    "\n",
    "**Problem:** Design a function that determines if a string starts with\n",
    "the letter *d*."
   ]
  },
  {
   "cell_type": "code",
   "execution_count": 4,
   "metadata": {
    "scrolled": true
   },
   "outputs": [],
   "source": []
  }
 ],
 "metadata": {
  "kernelspec": {
   "display_name": "Python 3",
   "language": "python",
   "name": "python3"
  },
  "language_info": {
   "codemirror_mode": {
    "name": "ipython",
    "version": 3
   },
   "file_extension": ".py",
   "mimetype": "text/x-python",
   "name": "python",
   "nbconvert_exporter": "python",
   "pygments_lexer": "ipython3",
   "version": "3.8.6"
  }
 },
 "nbformat": 4,
 "nbformat_minor": 2
}
