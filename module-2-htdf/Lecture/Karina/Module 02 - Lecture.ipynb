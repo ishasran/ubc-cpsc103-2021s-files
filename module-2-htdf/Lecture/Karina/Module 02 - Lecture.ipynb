{
 "cells": [
  {
   "cell_type": "code",
   "execution_count": 1,
   "metadata": {},
   "outputs": [],
   "source": [
    "from cs103 import * # needed (once per notebook) to enable incredible cs103 powers!!"
   ]
  },
  {
   "cell_type": "markdown",
   "metadata": {},
   "source": [
    "***"
   ]
  },
  {
   "cell_type": "markdown",
   "metadata": {},
   "source": [
    "# is_tall Quizz Problem\n",
    "\n",
    "**Problem:**: Design a function that takes an Image and determines whether it is tall or not."
   ]
  },
  {
   "cell_type": "code",
   "execution_count": 14,
   "metadata": {},
   "outputs": [
    {
     "name": "stdout",
     "output_type": "stream",
     "text": [
      "\u001b[92m3 of 3 tests passed\u001b[0m\n"
     ]
    }
   ],
   "source": [
    "# Design is_tall here.\n",
    "# We already included the signature, TWO possible purposes, and a stub.\n",
    "# We still need: tests/examples, template comment, and body.\n",
    "\n",
    "@typecheck\n",
    "def is_tall(img1: Image, img2: Image) -> bool:\n",
    "    \"\"\"\n",
    "    return True if the image is taller than it is wide, \n",
    "    and False otherwise (including when height is the same as width)\n",
    "    \"\"\"\n",
    "    # return True  #stub\n",
    "    # return ...(img) #template\n",
    "    if image_height(img) > image_width(img):\n",
    "        return True\n",
    "    else:\n",
    "        return False\n",
    "    \n",
    "# Starting point for any set of tests/examples:\n",
    "start_testing()\n",
    "expect(is_tall(rectangle(10, 100, \"solid\", \"blue\")), True) # tall\n",
    "expect(is_tall(rectangle(50, 25, \"solid\", \"red\")), False) # short\n",
    "expect(is_tall(rectangle(50, 50, \"solid\", \"green\")), False) # same\n",
    "summary()"
   ]
  },
  {
   "cell_type": "markdown",
   "metadata": {},
   "source": [
    "*******"
   ]
  },
  {
   "cell_type": "markdown",
   "metadata": {},
   "source": [
    "# Multiply a number by 4\n",
    "\n",
    "**Problem**: Design a function that multiplies a number by 4."
   ]
  },
  {
   "cell_type": "code",
   "execution_count": 16,
   "metadata": {},
   "outputs": [
    {
     "name": "stdout",
     "output_type": "stream",
     "text": [
      "\u001b[92m3 of 3 tests passed\u001b[0m\n"
     ]
    }
   ],
   "source": [
    "# Define your function to check sign here\n",
    "@typecheck\n",
    "def multiply_four(num: float) -> float:\n",
    "    \"\"\"\n",
    "    returns num multiplied by 4\n",
    "    \"\"\"\n",
    "    \n",
    "    # return 42.5    # stub\n",
    "    # return ...(num)   # template\n",
    "    result = 4*num\n",
    "    return result\n",
    "\n",
    "start_testing()\n",
    "expect(multiply_four(0), 0) # zero\n",
    "expect(multiply_four(18), 4*18) # positive\n",
    "expect(multiply_four(-2), -8) # negative\n",
    "summary()\n"
   ]
  },
  {
   "cell_type": "markdown",
   "metadata": {},
   "source": [
    "___"
   ]
  },
  {
   "cell_type": "markdown",
   "metadata": {},
   "source": [
    "# Discount\n",
    "\n",
    "**Problem:** A store gives 5% off the most expensive product and 10% off the second most expensive product. Design a program that calculates the final purchase price of two products."
   ]
  },
  {
   "cell_type": "code",
   "execution_count": 17,
   "metadata": {},
   "outputs": [
    {
     "name": "stdout",
     "output_type": "stream",
     "text": [
      "\u001b[92m3 of 3 tests passed\u001b[0m\n"
     ]
    }
   ],
   "source": [
    "@typecheck\n",
    "def discount(price1: float, price2: float) -> float:\n",
    "    \"\"\"\n",
    "    Give a discount of 10% on the smallest value and 5% on the biggest value.\n",
    "    Return the total price of the two itens with the discount.\n",
    "    \"\"\"\n",
    "    #return 100.0  #stub\n",
    "    #return ...(price1, price2)  #template\n",
    "    \n",
    "    if price1 > price2:\n",
    "        return price1*(0.95) + price2*(0.9)\n",
    "    else:\n",
    "        return price1*(0.9) + price2*(0.95)\n",
    "\n",
    "start_testing()\n",
    "expect(discount(100, 100), 185)\n",
    "expect(discount(80, 100), 167)\n",
    "expect(discount(82.8, 42.6), 117)\n",
    "summary()"
   ]
  },
  {
   "cell_type": "code",
   "execution_count": 18,
   "metadata": {},
   "outputs": [
    {
     "data": {
      "text/plain": [
       "116.25"
      ]
     },
     "execution_count": 18,
     "metadata": {},
     "output_type": "execute_result"
    }
   ],
   "source": [
    "price1 = 50\n",
    "price2 = 75\n",
    "\n",
    "discount(price1, price2)"
   ]
  },
  {
   "cell_type": "code",
   "execution_count": 19,
   "metadata": {},
   "outputs": [
    {
     "data": {
      "text/plain": [
       "28.0"
      ]
     },
     "execution_count": 19,
     "metadata": {},
     "output_type": "execute_result"
    }
   ],
   "source": [
    "price1 = 20\n",
    "price2 = 10\n",
    "\n",
    "discount(price2, price1)"
   ]
  },
  {
   "cell_type": "markdown",
   "metadata": {},
   "source": [
    "___"
   ]
  },
  {
   "cell_type": "markdown",
   "metadata": {},
   "source": [
    "# CPSC 103 d-tective 😜\n",
    "\n",
    "**Problem:** Design a function that determines if a string starts with\n",
    "the letter *d*."
   ]
  },
  {
   "cell_type": "code",
   "execution_count": 24,
   "metadata": {
    "scrolled": true
   },
   "outputs": [
    {
     "name": "stdout",
     "output_type": "stream",
     "text": [
      "\u001b[92m5 of 5 tests passed\u001b[0m\n"
     ]
    }
   ],
   "source": [
    "@typecheck\n",
    "def d_tective(word: str) -> bool:\n",
    "    \"\"\"\n",
    "    return True if word starts with d or D, and False otherwise\n",
    "    \"\"\"\n",
    "    \n",
    "    # return True   # stub\n",
    "    # return ...(word)   # template\n",
    "    if word == \"\":\n",
    "        return False\n",
    "    elif word[0] == 'd' or word[0] == 'D':\n",
    "        return True\n",
    "    else:\n",
    "        return False\n",
    "\n",
    "start_testing()\n",
    "expect(d_tective(\"Karina\"), False) # word does not start with d\n",
    "expect(d_tective(\"Donut\"), True) # word with D\n",
    "expect(d_tective(\"donkey\"), True) # word with d\n",
    "expect(d_tective(\"\"), False) # blank str\n",
    "expect(d_tective(\"2\"), False) # a number on str\n",
    "summary()\n"
   ]
  },
  {
   "cell_type": "code",
   "execution_count": null,
   "metadata": {},
   "outputs": [],
   "source": []
  }
 ],
 "metadata": {
  "kernelspec": {
   "display_name": "Python 3",
   "language": "python",
   "name": "python3"
  },
  "language_info": {
   "codemirror_mode": {
    "name": "ipython",
    "version": 3
   },
   "file_extension": ".py",
   "mimetype": "text/x-python",
   "name": "python",
   "nbconvert_exporter": "python",
   "pygments_lexer": "ipython3",
   "version": "3.8.6"
  }
 },
 "nbformat": 4,
 "nbformat_minor": 2
}
