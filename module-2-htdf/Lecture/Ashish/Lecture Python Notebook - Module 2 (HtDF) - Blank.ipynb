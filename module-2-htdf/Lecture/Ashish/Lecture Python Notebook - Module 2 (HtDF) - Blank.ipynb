{
 "cells": [
  {
   "cell_type": "code",
   "execution_count": 2,
   "metadata": {},
   "outputs": [],
   "source": [
    "from cs103 import * # needed (once per notebook) to enable incredible cs103 powers!!"
   ]
  },
  {
   "cell_type": "markdown",
   "metadata": {},
   "source": [
    "# HtDF : How to Design Function Recipe\n",
    "\n",
    "This is a complete example from the lecture slide that we coded along.\n",
    "\n",
    "The HtDF Recipe is as follows:\n",
    "1. Signature, purpose and stub.\n",
    "2. Examples\n",
    "3. Template\n",
    "4. Code the function body\n",
    "5. Test and Debug until correct.\n",
    "\n",
    "\n",
    "**Problem 1**: Write a function that doubles the given number."
   ]
  },
  {
   "cell_type": "code",
   "execution_count": null,
   "metadata": {},
   "outputs": [],
   "source": []
  },
  {
   "cell_type": "raw",
   "metadata": {},
   "source": [
    "# NOTE: This is how we would've written the function double_number(), if we wouldn't follow the HtDF recipe.\n",
    "# Now you can see yourself how fragile is the output when you don't follow a design process.\n",
    "# Ask yourself, would you really want to travel in an aircraft whose software was written by programmers \n",
    "# who didn't test their code for correctness, and doesn't cover all the scenarios that could happen?\n",
    "\n",
    "def double_number(n):\n",
    "    return 2*n"
   ]
  },
  {
   "cell_type": "markdown",
   "metadata": {},
   "source": [
    "### Problem 2: Declaring Result \n",
    "\n",
    "Design a function that takes a student's score in a class and returns a \"Pass\" grade if the score is 50 or more, otherwise gives a \"Fail\" grade. Use HtDF recipe."
   ]
  },
  {
   "cell_type": "code",
   "execution_count": 14,
   "metadata": {},
   "outputs": [
    {
     "name": "stdout",
     "output_type": "stream",
     "text": [
      "\u001b[92m3 of 3 tests passed\u001b[0m\n"
     ]
    }
   ],
   "source": [
    "# solution goes here"
   ]
  },
  {
   "cell_type": "markdown",
   "metadata": {},
   "source": [
    "### Problem 3: Make Circle\n",
    "\n",
    "Design a function called make_circle which creates a solid circle of given radius and color. "
   ]
  },
  {
   "cell_type": "code",
   "execution_count": 1,
   "metadata": {},
   "outputs": [],
   "source": [
    "# solution goes here"
   ]
  },
  {
   "cell_type": "markdown",
   "metadata": {},
   "source": [
    "### Problem 4: is_tall\n",
    "\n",
    "Design a function that takes an Image and determines whether it is tall or not."
   ]
  },
  {
   "cell_type": "code",
   "execution_count": 2,
   "metadata": {},
   "outputs": [],
   "source": [
    "# solution goes here"
   ]
  },
  {
   "cell_type": "markdown",
   "metadata": {},
   "source": [
    "### Problem 5: CPSC 103 d-tective!\n",
    "\n",
    "Design a function that determines if a string starts with\n",
    "the letter *d*."
   ]
  },
  {
   "cell_type": "code",
   "execution_count": 3,
   "metadata": {},
   "outputs": [],
   "source": [
    "# solution goes here"
   ]
  },
  {
   "cell_type": "markdown",
   "metadata": {},
   "source": [
    "### Problem 6: Discount\n",
    "\n",
    " A store gives 5% off the most expensive product and 10% off the second most expensive product. Design a function that calculates the final purchase price of two products."
   ]
  },
  {
   "cell_type": "code",
   "execution_count": 4,
   "metadata": {},
   "outputs": [],
   "source": [
    "# solution goes here"
   ]
  },
  {
   "cell_type": "markdown",
   "metadata": {},
   "source": [
    "### Tracing the Function Execution\n",
    "\n",
    "http://pythontutor.com/visualize.html#code=def%20discount%28price1,%20price2%29%3A%0A%20%20%20%20if%20price1%20%3E%20price2%3A%0A%20%20%20%20%20%20%20%20return%20price1*%280.95%29%20%2B%20price2*%280.9%29%0A%20%20%20%20else%3A%0A%20%20%20%20%20%20%20%20return%20price1*%280.9%29%20%2B%20price2*%280.95%29%0A%20%20%20%20%20%20%20%20%0A%20%20%20%20%20%20%20%20%0Aprice1%20%3D%2010%0Aprice2%20%3D%2020%0Adiscount%2810,%2020%29&cumulative=false&curInstr=0&heapPrimitives=nevernest&mode=display&origin=opt-frontend.js&py=3&rawInputLstJSON=%5B%5D&textReferences=false"
   ]
  },
  {
   "cell_type": "code",
   "execution_count": null,
   "metadata": {},
   "outputs": [],
   "source": []
  }
 ],
 "metadata": {
  "kernelspec": {
   "display_name": "Python 3",
   "language": "python",
   "name": "python3"
  },
  "language_info": {
   "codemirror_mode": {
    "name": "ipython",
    "version": 3
   },
   "file_extension": ".py",
   "mimetype": "text/x-python",
   "name": "python",
   "nbconvert_exporter": "python",
   "pygments_lexer": "ipython3",
   "version": "3.8.5"
  }
 },
 "nbformat": 4,
 "nbformat_minor": 4
}
