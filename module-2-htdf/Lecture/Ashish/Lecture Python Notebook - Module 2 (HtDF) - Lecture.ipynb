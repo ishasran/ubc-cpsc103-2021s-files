{
 "cells": [
  {
   "cell_type": "code",
   "execution_count": 1,
   "metadata": {},
   "outputs": [],
   "source": [
    "from cs103 import * # needed (once per notebook) to enable incredible cs103 powers!!"
   ]
  },
  {
   "cell_type": "markdown",
   "metadata": {},
   "source": [
    "# HtDF : How to Design Function Recipe\n",
    "\n",
    "This is a complete example from the lecture slide that we coded along.\n",
    "\n",
    "The HtDF Recipe is as follows:\n",
    "1. Signature, purpose and stub.\n",
    "2. Examples\n",
    "3. Template\n",
    "4. Code the function body\n",
    "5. Test and Debug until correct.\n",
    "\n",
    "\n",
    "**Problem 1**: Write a function that doubles the given number."
   ]
  },
  {
   "cell_type": "code",
   "execution_count": 6,
   "metadata": {},
   "outputs": [
    {
     "name": "stdout",
     "output_type": "stream",
     "text": [
      "\u001b[92m3 of 3 tests passed\u001b[0m\n"
     ]
    }
   ],
   "source": [
    "@typecheck\n",
    "def double_number(n: float) -> float:\n",
    "    '''\n",
    "    Returns the double of the given number n.\n",
    "    '''\n",
    "    # return 0.0 #stub\n",
    "    # return ...(n) # template\n",
    "    return 2 * n\n",
    "\n",
    "start_testing()\n",
    "expect(double_number(8), 2 * 8)\n",
    "expect(double_number(-14.0), 2 * -14.0)\n",
    "expect(double_number(0), 0)\n",
    "summary()"
   ]
  },
  {
   "cell_type": "raw",
   "metadata": {},
   "source": [
    "# NOTE: This is how we would've written the function double_number(), if we wouldn't follow the HtDF recipe.\n",
    "# Now you can see yourself how fragile is the output when you don't follow a design process.\n",
    "# Ask yourself, would you really want to travel in an aircraft whose software was written by programmers \n",
    "# who didn't test their code for correctness, and doesn't cover all the scenarios that could happen?\n",
    "\n",
    "def double_number(n):\n",
    "    return 2*n"
   ]
  },
  {
   "cell_type": "markdown",
   "metadata": {},
   "source": [
    "### Problem 2: Declaring Result \n",
    "The HtDF Recipe is as follows:\n",
    "\n",
    "1. Signature, purpose and stub.\n",
    "2. Examples\n",
    "3. Template\n",
    "4. Code the function body\n",
    "5. Test and Debug until correct.\n",
    "\n",
    "Design a function that takes a student's score in a class and returns a \"Pass\" grade if the score is 50 or more, otherwise gives a \"Fail\" grade. Use HtDF recipe.\n",
    "\n",
    "### Mental Notes for me(Ashish)\n",
    "name: declare_result\n",
    "input: score: float\n",
    "output: str"
   ]
  },
  {
   "cell_type": "code",
   "execution_count": 15,
   "metadata": {},
   "outputs": [
    {
     "name": "stdout",
     "output_type": "stream",
     "text": [
      "\u001b[92m3 of 3 tests passed\u001b[0m\n"
     ]
    }
   ],
   "source": [
    "@typecheck\n",
    "def declare_result(score: float) -> str:\n",
    "    '''\n",
    "    returns \"Pass\" if the student receives 50 or more in class,\n",
    "    \"Fail\" otherwise.\n",
    "    '''\n",
    "    # return \"Fail\" #stub\n",
    "    # return ...(score) # template\n",
    "    if score >= 50:   \n",
    "        return \"Pass\"\n",
    "    else:\n",
    "        return \"Fail\" \n",
    "    \n",
    "\n",
    "start_testing()\n",
    "expect(declare_result(89), \"Pass\")\n",
    "expect(declare_result(30), \"Fail\")\n",
    "expect(declare_result(50), \"Pass\")\n",
    "summary()"
   ]
  },
  {
   "cell_type": "markdown",
   "metadata": {},
   "source": [
    "### Problem 3: Make Circle\n",
    "\n",
    "The HtDF Recipe is as follows:\n",
    "\n",
    "1. Signature, purpose and stub.\n",
    "2. Examples\n",
    "3. Template\n",
    "4. Code the function body\n",
    "5. Test and Debug until correct.\n",
    "\n",
    "\n",
    "Design a function called make_circle which creates a solid circle of given radius and color. "
   ]
  },
  {
   "cell_type": "code",
   "execution_count": 18,
   "metadata": {},
   "outputs": [
    {
     "name": "stdout",
     "output_type": "stream",
     "text": [
      "\u001b[92m3 of 3 tests passed\u001b[0m\n"
     ]
    }
   ],
   "source": [
    "@typecheck\n",
    "def make_circle(radius: int, color: str) -> Image:\n",
    "    \"\"\"\n",
    "    Returns a solid circle of given radius and color.\n",
    "    \"\"\"\n",
    "    # return circle(10, \"solid\", \"green\") # stub\n",
    "    # return ...(radius, color) # template\n",
    "    \n",
    "    return circle(radius, \"solid\", color)\n",
    "\n",
    "\n",
    "start_testing()\n",
    "expect(make_circle(10, \"green\"), circle(10, \"solid\", \"green\"))\n",
    "expect(make_circle(200, \"darkblue\"), circle(200, \"solid\", \"darkblue\"))     \n",
    "expect(make_circle(200, \"yellow\"), circle(200, \"solid\", \"yellow\"))\n",
    "summary()"
   ]
  },
  {
   "cell_type": "markdown",
   "metadata": {},
   "source": [
    "### Problem 4: is_tall\n",
    "\n",
    "The HtDF Recipe is as follows:\n",
    "\n",
    "1. Signature, purpose and stub.\n",
    "2. Examples\n",
    "3. Template\n",
    "4. Code the function body\n",
    "5. Test and Debug until correct.\n",
    "\n",
    "Design a function that takes an Image and determines whether it is tall or not.\n",
    "\n",
    "### Mental Notes (Ashish)\n",
    "1. name => is_tall\n",
    "2. input => img: Image\n",
    "3. output => bool\n",
    "\n",
    "\n",
    "Examples:\n",
    "\n",
    "1. an image with height > width.  => True\n",
    "2. An image with height == width  => False\n",
    "3. An image with width > height   => False"
   ]
  },
  {
   "cell_type": "code",
   "execution_count": 21,
   "metadata": {},
   "outputs": [
    {
     "name": "stdout",
     "output_type": "stream",
     "text": [
      "\u001b[92m3 of 3 tests passed\u001b[0m\n"
     ]
    }
   ],
   "source": [
    "@typecheck\n",
    "def is_tall(img: Image) -> bool:\n",
    "    '''\n",
    "    Returns True if the given image img is tall (if the height is more than the width),\n",
    "    False Otherwise \n",
    "    '''\n",
    "    # return True # stub\n",
    "    # return ...(img) # template\n",
    "    \n",
    "    if image_height(img) > image_width(img):\n",
    "        return True\n",
    "    else:\n",
    "        return False\n",
    "\n",
    "start_testing()\n",
    "expect(is_tall(rectangle(50, 70, \"solid\", \"green\")), True)\n",
    "expect(is_tall(rectangle(60, 60, \"solid\", \"darkblue\")), False)\n",
    "expect(is_tall(rectangle(100, 80, \"solid\", \"yellow\")), False)\n",
    "summary()\n",
    "    "
   ]
  },
  {
   "cell_type": "markdown",
   "metadata": {},
   "source": [
    "### Problem 5: CPSC 103 d-tective!\n",
    "\n",
    "The HtDF Recipe is as follows:\n",
    "\n",
    "1. Signature, purpose and stub.\n",
    "2. Examples\n",
    "3. Template\n",
    "4. Code the function body\n",
    "5. Test and Debug until correct.\n",
    "\n",
    "Problem Statement: Design a function that determines if a string starts with\n",
    "the letter *d*.\n",
    "\n",
    "### Mental Notes (Ashish)\n",
    "1. Name => d_tective\n",
    "2. Inputs => word:str\n",
    "3. Output => bool"
   ]
  },
  {
   "cell_type": "code",
   "execution_count": 25,
   "metadata": {},
   "outputs": [
    {
     "name": "stdout",
     "output_type": "stream",
     "text": [
      "\u001b[92m4 of 4 tests passed\u001b[0m\n"
     ]
    }
   ],
   "source": [
    "@typecheck\n",
    "def d_tective(word: str) -> bool:\n",
    "    '''\n",
    "    return True if the given word starts with the letter d or D,\n",
    "    False otherwise.\n",
    "    '''\n",
    "    # return False # stub\n",
    "    # return ...(word) # template\n",
    "    \n",
    "    # Only if it meets the condition that word starts with letter d or D\n",
    "    # then return True\n",
    "    # else\n",
    "    # return False\n",
    "    if word == \"\"   # Because if word is em(word[0] doesn't exist)\n",
    "    if word[0] == 'd' or word[0] == 'D':\n",
    "        return True\n",
    "    else:\n",
    "        return False\n",
    "    \n",
    "\n",
    "\n",
    "start_testing()\n",
    "expect(d_tective(\"CPSC103\"), False)\n",
    "expect(d_tective(\"Dumbledore\"), True)\n",
    "expect(d_tective(\"deer\"), True)\n",
    "expect(d_tective(\"54\"), False)\n",
    "expect(d_tective(\"\"), False)\n",
    "summary()"
   ]
  },
  {
   "cell_type": "markdown",
   "metadata": {},
   "source": [
    "### Problem 6: Discount\n",
    "\n",
    "The HtDF Recipe is as follows:\n",
    "\n",
    "1. Signature, purpose and stub.\n",
    "2. Examples\n",
    "3. Template\n",
    "4. Code the function body\n",
    "5. Test and Debug until correct.\n",
    "\n",
    "\n",
    "\n",
    "Problem Statement: A store gives 5% off the most expensive product and 10% off the second most expensive product. Design a function that calculates the final purchase price of two products.\n",
    "\n",
    "#### Mental Notes (Ashish)\n",
    "1. Name: calculate_discount\n",
    "2. Inputs: price1: float, price2: float\n",
    "3. Output: float"
   ]
  },
  {
   "cell_type": "code",
   "execution_count": 4,
   "metadata": {},
   "outputs": [],
   "source": [
    "@typecheck\n",
    "def calculate_discount(price1: float, price2: float) -> float:\n",
    "    \"\"\"\n",
    "    Give a 5% discount on the largest of the two prices: price1 and price2,\n",
    "    10% discount on the smallest of the two, and returns the total final price.\n",
    "    \"\"\"\n",
    "    # return 0.0 #stub\n",
    "    # return ...(price1, price2) #template\n",
    "    \n",
    "    if price1 > price2:                               # price2 is smaller than price1\n",
    "        return (price2 * 0.9) + (price1 * 0.95)\n",
    "    else:                                            # price1 is smaller than price2\n",
    "        return (price1 * 0.9) + (price2 * 0.95)\n",
    "\n",
    "start_testing()\n",
    "expect(calculate_discount(82.8, 42.6), 117)\n",
    "expect(calculate_discount(100, 100), 185)\n",
    "expect(calculate_discount(80, 100), 167)\n",
    "expect(calculate_discount(0, 0), 0)\n",
    "summary()"
   ]
  },
  {
   "cell_type": "markdown",
   "metadata": {},
   "source": [
    "### Tracing the Function Execution (Problem 6)\n",
    "\n",
    "With variables names `price1`, and `price2`\n",
    "http://pythontutor.com/visualize.html#code=def%20calculate_discount%28price1,%20price2%29%3A%0A%20%20%20%20if%20price1%20%3E%20price2%3A%0A%20%20%20%20%20%20%20%20return%20price1*%280.95%29%20%2B%20price2*%280.9%29%0A%20%20%20%20else%3A%0A%20%20%20%20%20%20%20%20return%20price1*%280.9%29%20%2B%20price2*%280.95%29%0A%20%20%20%20%20%20%20%20%0A%20%20%20%20%20%20%20%20%0Aprice1%20%3D%2010%0Aprice2%20%3D%2020%0Acalculate_discount%28price1,%20price2%29&cumulative=false&curInstr=0&heapPrimitives=nevernest&mode=display&origin=opt-frontend.js&py=3&rawInputLstJSON=%5B%5D&textReferences=false\n",
    "\n",
    "After adding variables `a` and `b` and `x`\n",
    "\n",
    "http://pythontutor.com/visualize.html#code=def%20calculate_discount%28price1,%20price2%29%3A%0A%20%20%20%20if%20price1%20%3E%20price2%3A%0A%20%20%20%20%20%20%20%20return%20price1*%280.95%29%20%2B%20price2*%280.9%29%0A%20%20%20%20else%3A%0A%20%20%20%20%20%20%20%20return%20price1*%280.9%29%20%2B%20price2*%280.95%29%0A%20%20%20%20%20%20%20%20%0A%20%20%20%20%20%20%20%20%0Aa%20%3D%2010%0Ab%20%3D%2020%0Ax%20%3D%20calculate_discount%28a,%20b%29&cumulative=false&curInstr=0&heapPrimitives=nevernest&mode=display&origin=opt-frontend.js&py=3&rawInputLstJSON=%5B%5D&textReferences=false"
   ]
  },
  {
   "cell_type": "code",
   "execution_count": null,
   "metadata": {},
   "outputs": [],
   "source": []
  }
 ],
 "metadata": {
  "kernelspec": {
   "display_name": "Python 3",
   "language": "python",
   "name": "python3"
  },
  "language_info": {
   "codemirror_mode": {
    "name": "ipython",
    "version": 3
   },
   "file_extension": ".py",
   "mimetype": "text/x-python",
   "name": "python",
   "nbconvert_exporter": "python",
   "pygments_lexer": "ipython3",
   "version": "3.8.6"
  }
 },
 "nbformat": 4,
 "nbformat_minor": 4
}
