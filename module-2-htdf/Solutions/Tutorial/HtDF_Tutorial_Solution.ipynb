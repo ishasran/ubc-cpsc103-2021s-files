{
 "cells": [
  {
   "cell_type": "code",
   "execution_count": 1,
   "metadata": {},
   "outputs": [],
   "source": [
    "from cs103 import *"
   ]
  },
  {
   "cell_type": "markdown",
   "metadata": {
    "collapsed": true
   },
   "source": [
    "# HtDF Tutorial Solution\n",
    "\n",
    "## Pre-Tutorial Questions:\n",
    "\n",
    "For each problem, write the signature, purpose, and stub. This work will not be graded but is highly recommended as preparation for your tutorial."
   ]
  },
  {
   "cell_type": "markdown",
   "metadata": {
    "collapsed": true
   },
   "source": [
    "### Problem 1:\n",
    "    \n",
    "Design a function that takes a string and returns the string with '... Victoria?' appended to the end.\n",
    "\n",
    "So, if you call the function with \"Good Morning\", the function should return \"Good Morning... Victoria?\" But, if you call it with \"I don't even know a\", it should return \"I don't even know a... Victoria?\"\n",
    "\n",
    "When designing your function, be sure to follow all steps of the HtDF recipe."
   ]
  },
  {
   "cell_type": "code",
   "execution_count": 2,
   "metadata": {},
   "outputs": [
    {
     "name": "stdout",
     "output_type": "stream",
     "text": [
      "\u001b[92m3 of 3 tests passed\u001b[0m\n"
     ]
    }
   ],
   "source": [
    "# Problem 1 sample solution\n",
    "\n",
    "@typecheck\n",
    "def add_victoria(s: str) -> str:\n",
    "    \"\"\"        \n",
    "    append \"... Victoria?\" to the end of s and return it\n",
    "    \"\"\"\n",
    "    # return s  # stub\n",
    "    # return ...(s)  # template based on Atomic Non-Distinct\n",
    "    \n",
    "    return s + \"... Victoria?\"\n",
    "\n",
    "# Begin testing\n",
    "start_testing()\n",
    "\n",
    "expect(add_victoria(\"\"), \"... Victoria?\")   # If the function takes a string, we should think about the empty string!\n",
    "expect(add_victoria(\"Good Morning\"), \"Good Morning... Victoria?\")\n",
    "expect(add_victoria(\"I don't even know a\"), \"I don't even know a... Victoria?\")\n",
    "expect(add_victoria(\"Hello\"), \"Hello... Victoria?\")\n",
    "                         \n",
    "# Show testing summary\n",
    "summary()"
   ]
  },
  {
   "cell_type": "markdown",
   "metadata": {
    "collapsed": true
   },
   "source": [
    "### Problem 2:\n",
    "    \n",
    "A simple way to draw basic images is by using pixel art. Each pixel is a small square of the same size, and by arranging pixels you can make various images.\n",
    "\n",
    "We've included an example of pixel art below. Each of the \"pixels\" in our example is larger than a single pixel on the screen. If you run this code, you can see how images can be built from small squares where each square is a single colour.\n",
    "    \n",
    "Imagine you are working on creating pixel art images and you need to be able to create different designs with pixel art. Design a function that takes a pixel size and a colour and returns a pixel of the given colour and size.  \n",
    "    \n",
    "When designing your function, be sure to follow all steps of the HtDF recipe."
   ]
  },
  {
   "cell_type": "code",
   "execution_count": 3,
   "metadata": {},
   "outputs": [
    {
     "data": {
      "text/plain": [
       "<cs103.image.image.Above object at 0x7fd26a321c50>"
      ]
     },
     "execution_count": 3,
     "metadata": {},
     "output_type": "execute_result"
    },
    {
     "data": {
      "image/png": "[encoded data removed]",
      "text/plain": [
       "<Figure size 150x150 with 1 Axes>"
      ]
     },
     "metadata": {
      "needs_background": "light"
     },
     "output_type": "display_data"
    }
   ],
   "source": [
    "# Example of pixel art. (Note, this code is not in a function but your solution needs to be in\n",
    "# a function. This is just an example of how you can use the individual pixels (i.e. small \n",
    "# squares) to build a bigger image.)\n",
    "\n",
    "from cs103 import *\n",
    "\n",
    "g_pixel = square(25, \"solid\", \"grey\")\n",
    "b_pixel = square(25, \"solid\", \"black\")\n",
    "\n",
    "even_row = beside(g_pixel, b_pixel, g_pixel, b_pixel, g_pixel, b_pixel, g_pixel, b_pixel)\n",
    "odd_row = beside(b_pixel, g_pixel, b_pixel, g_pixel, b_pixel, g_pixel, b_pixel, g_pixel)\n",
    "checkerboard = above(even_row, odd_row, even_row, odd_row, even_row, odd_row, even_row, odd_row)\n",
    "\n",
    "checkerboard\n"
   ]
  },
  {
   "cell_type": "code",
   "execution_count": 4,
   "metadata": {},
   "outputs": [
    {
     "name": "stdout",
     "output_type": "stream",
     "text": [
      "\u001b[92m2 of 2 tests passed\u001b[0m\n"
     ]
    }
   ],
   "source": [
    "# Problem 2 sample solution\n",
    "@typecheck\n",
    "def pixel(size: int, colour: str) -> Image:\n",
    "    \"\"\"\n",
    "    Return a pixel of the given size and colour    \n",
    "    \"\"\"\n",
    "    \n",
    "    # return square(1, \"solid\", \"white\")  #stub\n",
    "    # return ...(size, colour)  # template based on Atomic Non-Distinct\n",
    "    return square(size, \"solid\", colour)    \n",
    "\n",
    "# Begin testing\n",
    "start_testing()\n",
    "\n",
    "# Examples and tests for pixel\n",
    "expect(pixel(20, \"blue\"), square(20, \"solid\", \"blue\"))\n",
    "expect(pixel(25, \"green\"), square(25, \"solid\", \"green\"))\n",
    "\n",
    "# Show testing summary\n",
    "summary()"
   ]
  },
  {
   "cell_type": "markdown",
   "metadata": {},
   "source": [
    "### Problem 3:\n",
    "\n",
    "Design a function that creates an image of your choosing. Inside the body of your function for this problem, you must call the function that you designed in your solution to Problem 2 (probably a few times for different colour or size pixels). You may create any image that you like but your function must take at least one parameter.\n",
    "\n",
    "Suggestion: start small, with an image that contains just a few pixels. Once you get that working, expand your image to something bigger if you like.\n",
    "    \n",
    "When designing your function, be sure to follow all steps of the HtDF recipe **including designing your tests first**. (You can use the tests as the way to figure out what your image will look like. When you run them, you'll see the image! Why two tests? Because if you change the value passed in to your parameter, you should get two different results.)\n",
    "\n",
    "Note: It's tempting to have the parameter determine how many of some pixel to have, but we haven't learned enough to do that yet. So maybe have one or more parameters that control something about the size or colour of all or part of the image instead!\n",
    "\n",
    "**Note:** there's one small extra bit of work we ask for below!"
   ]
  },
  {
   "cell_type": "code",
   "execution_count": 5,
   "metadata": {},
   "outputs": [
    {
     "name": "stdout",
     "output_type": "stream",
     "text": [
      "\u001b[92m2 of 2 tests passed\u001b[0m\n",
      "\u001b[92m2 of 2 tests passed\u001b[0m\n"
     ]
    }
   ],
   "source": [
    "# Problem 3 sample solutions\n",
    "@typecheck\n",
    "def pixel_quilt(colour1: str, colour2: str) -> Image:\n",
    "    \"\"\"\n",
    "    Return a pixel quilt of the two given colours   \n",
    "    \"\"\"\n",
    "    \n",
    "    # return square(1, \"solid\", \"white\")  #stub\n",
    "    # return ...(colour1, colour2)  # template based on Atomic Non-Distinct\n",
    "    row1 = beside(pixel(15, colour1), pixel(15, colour2), pixel(15, colour1))\n",
    "    row2 = beside(pixel(15, colour2), pixel(15, colour1), pixel(15, colour2))\n",
    "    return above(row1, row2, row1)\n",
    "\n",
    "# Begin testing\n",
    "start_testing()\n",
    "\n",
    "\n",
    "# Examples and tests for pixel_quilt\n",
    "testing_row1 = beside(pixel(15, \"yellow\"), pixel(15, \"blue\"), pixel(15, \"yellow\"))\n",
    "testing_row2 = beside(pixel(15, \"blue\"), pixel(15, \"yellow\"), pixel(15, \"blue\"))\n",
    "expect(pixel_quilt(\"yellow\", \"blue\"), \n",
    "       above(testing_row1, testing_row2, testing_row1))\n",
    "\n",
    "testing_row1 = beside(pixel(15, \"pink\"), pixel(15, \"purple\"), pixel(15, \"pink\"))\n",
    "testing_row2 = beside(pixel(15, \"purple\"), pixel(15, \"pink\"), pixel(15, \"purple\"))\n",
    "expect(pixel_quilt(\"pink\", \"purple\"), \n",
    "       above(testing_row1, testing_row2, testing_row1))\n",
    "\n",
    "# Show testing summary\n",
    "summary()\n",
    "\n",
    "@typecheck\n",
    "def pixel_smile(colour: str) -> Image:\n",
    "    \"\"\"\n",
    "    Return a pixel smile of the given colour \n",
    "    \"\"\"\n",
    "    \n",
    "    # return square(1, \"solid\", \"white\")  #stub\n",
    "    # return ...(colour)  # template based on Atomic Non-Distinct\n",
    "    pixel_size = 10\n",
    "    return above(beside(pixel(pixel_size, colour), pixel(pixel_size, colour), \n",
    "                        pixel(pixel_size, \"white\"), pixel(pixel_size, \"white\"), \n",
    "                        pixel(pixel_size, \"white\"), pixel(pixel_size, \"white\"), \n",
    "                        pixel(pixel_size, colour), pixel(pixel_size, colour)),\n",
    "                 beside(pixel(pixel_size, colour), pixel(pixel_size, colour), \n",
    "                        pixel(pixel_size, \"white\"), pixel(pixel_size, \"white\"), \n",
    "                        pixel(pixel_size, \"white\"), pixel(pixel_size, \"white\"), \n",
    "                        pixel(pixel_size, colour), pixel(pixel_size, colour)),\n",
    "                 beside(pixel(pixel_size, \"white\"), pixel(pixel_size, \"white\"), \n",
    "                        pixel(pixel_size, \"white\"), pixel(pixel_size, \"white\"), \n",
    "                        pixel(pixel_size, \"white\"), pixel(pixel_size, \"white\"), \n",
    "                        pixel(pixel_size, \"white\"), pixel(pixel_size, \"white\")),\n",
    "                 beside(pixel(pixel_size, \"white\"), pixel(pixel_size, colour), \n",
    "                        pixel(pixel_size, \"white\"), pixel(pixel_size, \"white\"), \n",
    "                        pixel(pixel_size, \"white\"), pixel(pixel_size, \"white\"), \n",
    "                        pixel(pixel_size, colour), pixel(pixel_size, \"white\")),\n",
    "                 beside(pixel(pixel_size, \"white\"), pixel(pixel_size, \"white\"), \n",
    "                        pixel(pixel_size, colour), pixel(pixel_size, colour), \n",
    "                        pixel(pixel_size, colour), pixel(pixel_size, colour), \n",
    "                        pixel(pixel_size, \"white\"), pixel(pixel_size, \"white\")))\n",
    "\n",
    "\n",
    "# Begin testing\n",
    "start_testing()\n",
    "\n",
    "size = 10\n",
    "\n",
    "\n",
    "# Examples and tests for pixel_smile\n",
    "expect(pixel_smile(\"green\"), above(beside(pixel(size, \"green\"), pixel(size, \"green\"), \n",
    "                                          pixel(size, \"white\"), pixel(size, \"white\"), \n",
    "                                          pixel(size, \"white\"), pixel(size, \"white\"), \n",
    "                                          pixel(size, \"green\"), pixel(size, \"green\")),\n",
    "                                   beside(pixel(size, \"green\"), pixel(size, \"green\"), \n",
    "                                          pixel(size, \"white\"), pixel(size, \"white\"),\n",
    "                                          pixel(size, \"white\"), pixel(size, \"white\"),\n",
    "                                          pixel(size, \"green\"), pixel(size, \"green\")),\n",
    "                                   beside(pixel(size, \"white\"), pixel(size, \"white\"), \n",
    "                                          pixel(size, \"white\"), pixel(size, \"white\"), \n",
    "                                          pixel(size, \"white\"), pixel(size, \"white\"), \n",
    "                                          pixel(size, \"white\"), pixel(size, \"white\")),\n",
    "                                   beside(pixel(size, \"white\"), pixel(size, \"green\"), \n",
    "                                          pixel(size, \"white\"), pixel(size, \"white\"), \n",
    "                                          pixel(size, \"white\"), pixel(size, \"white\"), \n",
    "                                          pixel(size, \"green\"), pixel(size, \"white\")),\n",
    "                                   beside(pixel(size, \"white\"), pixel(size, \"white\"), \n",
    "                                          pixel(size, \"green\"), pixel(size, \"green\"), \n",
    "                                          pixel(size, \"green\"), pixel(size, \"green\"), \n",
    "                                          pixel(size, \"white\"), pixel(size, \"white\"))))\n",
    "expect(pixel_smile(\"orange\"), above(beside(pixel(size, \"orange\"), pixel(size, \"orange\"), \n",
    "                                          pixel(size, \"white\"), pixel(size, \"white\"), \n",
    "                                          pixel(size, \"white\"), pixel(size, \"white\"), \n",
    "                                          pixel(size, \"orange\"), pixel(size, \"orange\")),\n",
    "                                   beside(pixel(size, \"orange\"), pixel(size, \"orange\"), \n",
    "                                          pixel(size, \"white\"), pixel(size, \"white\"),\n",
    "                                          pixel(size, \"white\"), pixel(size, \"white\"),\n",
    "                                          pixel(size, \"orange\"), pixel(size, \"orange\")),\n",
    "                                   beside(pixel(size, \"white\"), pixel(size, \"white\"), \n",
    "                                          pixel(size, \"white\"), pixel(size, \"white\"), \n",
    "                                          pixel(size, \"white\"), pixel(size, \"white\"), \n",
    "                                          pixel(size, \"white\"), pixel(size, \"white\")),\n",
    "                                   beside(pixel(size, \"white\"), pixel(size, \"orange\"), \n",
    "                                          pixel(size, \"white\"), pixel(size, \"white\"), \n",
    "                                          pixel(size, \"white\"), pixel(size, \"white\"), \n",
    "                                          pixel(size, \"orange\"), pixel(size, \"white\")),\n",
    "                                   beside(pixel(size, \"white\"), pixel(size, \"white\"), \n",
    "                                          pixel(size, \"orange\"), pixel(size, \"orange\"), \n",
    "                                          pixel(size, \"orange\"), pixel(size, \"orange\"), \n",
    "                                          pixel(size, \"white\"), pixel(size, \"white\"))))\n",
    "\n",
    "# Show testing summary\n",
    "summary()"
   ]
  },
  {
   "cell_type": "markdown",
   "metadata": {},
   "source": [
    "### Problem 3, showing off\n",
    "\n",
    "Now, in the cell below, call your function from Problem 3 to draw what you consider the best version of your image so we can see it!"
   ]
  },
  {
   "cell_type": "code",
   "execution_count": 6,
   "metadata": {},
   "outputs": [
    {
     "data": {
      "text/plain": [
       "<cs103.image.image.Above object at 0x7fd268202b10>"
      ]
     },
     "execution_count": 6,
     "metadata": {},
     "output_type": "execute_result"
    },
    {
     "data": {
      "image/png": "[encoded data removed]",
      "text/plain": [
       "<Figure size 33.75x33.75 with 1 Axes>"
      ]
     },
     "metadata": {
      "needs_background": "light"
     },
     "output_type": "display_data"
    }
   ],
   "source": [
    "# Call your function from Problem 3 with whatever arguments make \n",
    "# what you consider the best version of your image so it shows when the cell is run!\n",
    "pixel_quilt(\"royalblue\", \"gold\")"
   ]
  }
 ],
 "metadata": {
  "kernelspec": {
   "display_name": "Python 3",
   "language": "python",
   "name": "python3"
  },
  "language_info": {
   "codemirror_mode": {
    "name": "ipython",
    "version": 3
   },
   "file_extension": ".py",
   "mimetype": "text/x-python",
   "name": "python",
   "nbconvert_exporter": "python",
   "pygments_lexer": "ipython3",
   "version": "3.8.0"
  }
 },
 "nbformat": 4,
 "nbformat_minor": 2
}
