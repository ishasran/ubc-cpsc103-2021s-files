{
 "cells": [
  {
   "cell_type": "markdown",
   "metadata": {},
   "source": [
    "# Compound Tutorial Solution\n",
    "\n",
    "### Pre-Tutorial Work:\n",
    "\n",
    "Read the sample information below and start to think about how to best represent one of the rows as data (i.e. how to best represent the information for a *single year*).\n",
    "\n",
    "We have some historial information about beekeepers in Canada\n",
    "\n",
    "|Year|Beekeepers|Colonies|Average yield per colony (pounds)|Production of honey, total (pounds x 1,000)|Value of honey, total (dollars x 1,000)|\n",
    "|---|---|---|---|---|---|\n",
    "|1945|\t43340|\t522530|\t63\t    |33020\t|5439|\n",
    "|1946|\t43190|\t541760|\t43    |\t23185\t|4149|\n",
    "|1947|\t39210|\t588700|\t63\t|37078\t|9160|\n",
    "|1948|\t32100|\t569800|\t79\t|45145\t|9336|\n",
    "\n",
    "Source: Statistics Canada. Table: 32-10-0353-01 -  Production and value of honey, https://doi.org/10.25318/3210035301-eng (accessed: September 16, 2020) "
   ]
  },
  {
   "cell_type": "markdown",
   "metadata": {},
   "source": [
    "### Problem 1: \n",
    "\n",
    "Design a data definition called BeeKeeper to represent the information from one row (i.e., one year) shown above. \n",
    "\n",
    "Be sure to follow all steps of the HtDD recipe."
   ]
  },
  {
   "cell_type": "code",
   "execution_count": null,
   "metadata": {},
   "outputs": [],
   "source": [
    "from cs103 import *\n",
    "from typing import NamedTuple\n",
    "\n",
    "BeeKeeper = NamedTuple('BeeKeeper', [('year', int),       # in range[1900, ...)\n",
    "                                     ('keepers', int),    # in range[0, ...)\n",
    "                                     ('colonies', int),   # in range[0, ...)\n",
    "                                     ('yld', int),      # in range[0, ...)\n",
    "                                     ('prod', int),       # in range[0, ...)\n",
    "                                     ('value', int)])     # in range[0, ...)\n",
    "# interp. beekeeper data from one year in Canada. includes the number of beekeepers ('keepers'), the number of\n",
    "#         colonies, the average yield per colony in pounds ('yld'), the total production of honey ('prod'),\n",
    "#         in thousands of pounds, and the total value of the honey in thousands of dollars\n",
    "\n",
    "#  SOLUTION COMMENT:\n",
    "#  What range is legitimate for years? We made a somewhat arbitrary decision that it should\n",
    "#  be 1900 or after. It probably makes sense to have SOME restriction on range (i.e., 0 and\n",
    "#  negative numbers are probably bad choices).\n",
    "\n",
    "BKD1924 = BeeKeeper(1924, 22205, 280010, 60, 16840, 2085)\n",
    "BKD1925 = BeeKeeper(1925, 22295, 309400, 64, 19977, 2414)\n",
    "BKD1926 = BeeKeeper(1926, 22325, 307490, 63, 19526, 2407)\n",
    "BKD1927 = BeeKeeper(1927, 22810, 323750, 71, 23231, 2753)\n",
    "\n",
    "# template based on compound\n",
    "@typecheck\n",
    "def fn_for_bee_data(bd: BeeKeeper) -> ...:\n",
    "    return ...(bd.year, \n",
    "               bd.keepers,\n",
    "               bd.colonies,\n",
    "               bd.yld,\n",
    "               bd.prod, \n",
    "               bd.value)"
   ]
  },
  {
   "cell_type": "markdown",
   "metadata": {},
   "source": [
    "### Problem 2:\n",
    "\n",
    "You want to find the average cost of honey (per pound) for a given BeeKeeper. Design a function that takes a BeeKeeper and returns the average cost per pound of honey rounded to two decimal points.\n",
    "\n",
    "Be sure to follow all steps of the HtDF recipe.  "
   ]
  },
  {
   "cell_type": "code",
   "execution_count": null,
   "metadata": {},
   "outputs": [],
   "source": [
    "@typecheck\n",
    "def cost_per_pound(bd: BeeKeeper) -> float:\n",
    "    \"\"\"\n",
    "    return the average cost per pound (rounded) of the honey \n",
    "    \"\"\"\n",
    "    #return 0.0 # stub\n",
    "    # template from BeeKeeper\n",
    "    return round(bd.value/bd.prod, 2)\n",
    "\n",
    "start_testing()\n",
    "\n",
    "expect(cost_per_pound(BKD1924),round(2085/16840,2))\n",
    "expect(cost_per_pound(BKD1925),round(2414/19977,2))\n",
    "\n",
    "summary()"
   ]
  },
  {
   "cell_type": "markdown",
   "metadata": {},
   "source": [
    "### Problem 3:\n",
    "    \n",
    "Design a function that takes two BeeKeeper and returns True if the first had more beekeepers than the second. Note that when a function takes in two compound parameters, the template should include all fields from both parameters.\n",
    " \n",
    "Be sure to follow all steps of the HtDF recipe."
   ]
  },
  {
   "cell_type": "code",
   "execution_count": null,
   "metadata": {},
   "outputs": [],
   "source": [
    "@typecheck\n",
    "def more_beekeepers(bd1: BeeKeeper, bd2: BeeKeeper) -> bool:\n",
    "    \"\"\"\n",
    "    return True if bd1 has more beekeepers than bd2, and False otherwise\n",
    "    \"\"\"\n",
    "    #return True # stub\n",
    "    # template from BeeKeeper (all fields from both parameters)\n",
    "    return bd1.keepers > bd2.keepers\n",
    "\n",
    "start_testing()\n",
    "\n",
    "expect(more_beekeepers(BKD1924, BKD1924), False)\n",
    "expect(more_beekeepers(BKD1924, BKD1925), False)\n",
    "expect(more_beekeepers(BKD1925, BKD1924), True)\n",
    "\n",
    "summary()"
   ]
  }
 ],
 "metadata": {
  "kernelspec": {
   "display_name": "Python 3",
   "language": "python",
   "name": "python3"
  },
  "language_info": {
   "codemirror_mode": {
    "name": "ipython",
    "version": 3
   },
   "file_extension": ".py",
   "mimetype": "text/x-python",
   "name": "python",
   "nbconvert_exporter": "python",
   "pygments_lexer": "ipython3",
   "version": "3.8.0"
  }
 },
 "nbformat": 4,
 "nbformat_minor": 2
}
