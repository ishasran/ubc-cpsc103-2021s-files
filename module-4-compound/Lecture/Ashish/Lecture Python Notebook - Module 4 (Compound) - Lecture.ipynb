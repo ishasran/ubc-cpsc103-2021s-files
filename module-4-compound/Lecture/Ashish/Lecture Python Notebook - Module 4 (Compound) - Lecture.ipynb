{
 "cells": [
  {
   "cell_type": "code",
   "execution_count": 2,
   "metadata": {},
   "outputs": [],
   "source": [
    "from cs103 import * # needed (once per notebook) to enable incredible cs103 powers!!"
   ]
  },
  {
   "cell_type": "markdown",
   "metadata": {},
   "source": [
    "# Lecture 4 - Module - Compound\n",
    "\n",
    "This notebook is in continuation to the Lecture 4 slides on Module - Compound."
   ]
  },
  {
   "cell_type": "markdown",
   "metadata": {},
   "source": [
    "The HtDD Recipe is as follows:\n",
    "1. A **data type definition** with type comments where Python's types are not specific enough.\n",
    "2. An **interpretation comment** that describes the correspondence between information and data.\n",
    "3. One or more **examples** of the data.\n",
    "4. A **template** for a one-argument function operating on data of this type."
   ]
  },
  {
   "cell_type": "markdown",
   "metadata": {},
   "source": [
    "## Indigo - The Bookstore\n",
    "\n",
    "[Indigo](https://www.chapters.indigo.ca/en-ca/), the biggest bookstore in Canada, hires you to build their website so that they can sell books online. In order to showcase books on their website, you are asked to design a data defintion to represent a book.\n",
    "\n",
    "**Problem**: Design a data definition for representing a book for a Bookstore website. A book has a title, its author's name, year in which it was published, price (in dollars), and its rating from 1-5."
   ]
  },
  {
   "cell_type": "code",
   "execution_count": null,
   "metadata": {},
   "outputs": [],
   "source": [
    "from typing import NamedTuple\n",
    "\n",
    "Book = NamedTuple('Book', [(\"title\", str), \n",
    "                           (\"author\", str),\n",
    "                           (\"publication_year\", int), # in range [0, ...)\n",
    "                           ('price', float),   # in range [0, ...)\n",
    "                           (\"rating\", int)     # in range [1, 5]  \n",
    "                          ])\n",
    "# interp. A book with a title, author, publication year ('publication_year'), price (in canadian dollars),\n",
    "# and a rating (from 1-5).\n",
    "\n",
    "\n",
    "B0 = Book('Atomic Habits', 'James Clear', 2018, 21.60, 4)\n",
    "B1 = Book('The Push', 'Ashley Aurdrain', 2021, 17.49, 4)\n",
    "B2 = Book('Untamed', 'Glennon Doyle', 2020, 27.75, 3)\n",
    "\n",
    "# Template based on Compound\n",
    "@typecheck\n",
    "def fn_for_book(b: Book) -> ...:\n",
    "    return ...(b.title, \n",
    "               b.author, \n",
    "               b.publication_year, \n",
    "               b.price, \n",
    "               b.rating)"
   ]
  },
  {
   "cell_type": "markdown",
   "metadata": {},
   "source": [
    "## Spotify - Music for Everyone\n",
    "\n",
    "[Spotify](https://open.spotify.com/) is biggest platform to stream media (audios, podcasts) to listen and share with others. Imagine you're working for spotify and wants to build a new platform in Python using your knowledge gained from CPSC 103. You want to showcase songs on this new platform.\n",
    "\n",
    "**Problem**: Design a data definition for representing a song on Spotify web player. A song has a title, singer's name, Album it belongs to, the duration (in seconds), date added (in days).\n",
    "\n",
    "The HtDD Recipe is as follows:\n",
    "1. A **data type definition** with type comments where Python's types are not specific enough.\n",
    "2. An **interpretation comment** that describes the correspondence between information and data.\n",
    "3. One or more **examples** of the data.\n",
    "4. A **template** for a one-argument function operating on data of this type.\n",
    "\n",
    "#### Mental Notes (Ashish)\n",
    "\n",
    "Compound [title, album_name, singer, duration, date_added]\n",
    "\n",
    "Song"
   ]
  },
  {
   "cell_type": "code",
   "execution_count": null,
   "metadata": {},
   "outputs": [],
   "source": [
    "from typing import NamedTuple\n",
    "\n",
    "Song = NamedTuple('Song', [('title', str), \n",
    "                           ('album_name', str), \n",
    "                           ('singer', str), \n",
    "                           ('duration', int), # in range [1, ...) \n",
    "                           ('date_added', int) # in range [0, ...)\n",
    "                          ])\n",
    "# interp. A song with a title, an album name ('album_name'), a singer, duration in seconds,\n",
    "# and the date when the song was added ('date_added') in days.\n",
    "\n",
    "S1 = Song('Interlude', 'The Off-season', 'J. Cole', 133, 7)\n",
    "S2 = Song('My Head & Heart', 'Heaven & Hell', 'Ava Max', 174, 7)\n",
    "S3 = Song('Larks', 'Deepest Woods', 'Kiara Leonard', 174, 9)\n",
    "S4 = Song('Foo', 'Bar', 'John Doe', 120, 0)\n",
    "\n",
    "\n",
    "# Template based on Compound\n",
    "@typecheck\n",
    "def fn_for_song(s: Song) -> ...:\n",
    "    return ...(s.title,\n",
    "               s.album_name,\n",
    "               s.singer,\n",
    "               s.duration,\n",
    "               s.date_added)"
   ]
  },
  {
   "cell_type": "markdown",
   "metadata": {},
   "source": [
    "## Designing Functions that operates on Compound\n",
    "\n",
    "The HtDF Recipe is as follows:\n",
    "1. Signature, purpose and stub.\n",
    "2. Examples\n",
    "3. Template\n",
    "4. Code the function body\n",
    "5. Test and Debug until correct.\n",
    "\n",
    "\n",
    "**Problem**: Design a function that takes a book and determines if the given book is released in 2021\n",
    "\n",
    "\n",
    "### Mental Notes (Ashish)\n",
    "1. Name => is_latest\n",
    "2. inputs => book: Book\n",
    "3. Output => bool"
   ]
  },
  {
   "cell_type": "code",
   "execution_count": null,
   "metadata": {},
   "outputs": [],
   "source": [
    "# Data Definition copied \n",
    "from typing import NamedTuple\n",
    "\n",
    "Book = NamedTuple('Book', [(\"title\", str), \n",
    "                           (\"author\", str),\n",
    "                           (\"publication_year\", int), # in range [0, ...)\n",
    "                           ('price', float),   # in range [0, ...)\n",
    "                           (\"rating\", int)     # in range [1, 5]  \n",
    "                          ])\n",
    "# interp. A book with a title, author, publication year ('publication_year'), price (in canadian dollars),\n",
    "# and a rating (from 1-5).\n",
    "\n",
    "\n",
    "B0 = Book('Atomic Habits', 'James Clear', 2018, 21.60, 4)\n",
    "B1 = Book('The Push', 'Ashley Aurdrain', 2021, 17.49, 4)\n",
    "B2 = Book('Untamed', 'Glennon Doyle', 2020, 27.75, 3)\n",
    "\n",
    "# Template based on Compound\n",
    "@typecheck\n",
    "def fn_for_book(book: Book) -> ...:\n",
    "    return ...(book.title, \n",
    "               book.author, \n",
    "               book.publication_year, \n",
    "               book.price, \n",
    "               book.rating)\n",
    "\n",
    "\n",
    "# Function Definition\n",
    "@typecheck\n",
    "def is_latest(book: Book) -> bool:\n",
    "    '''\n",
    "    Returns True if the given book is released in 2021,\n",
    "    False otherwise.\n",
    "    '''\n",
    "    # return True # stub\n",
    "    # Template copied from Book                        <----- Template step of HtDF recipe\n",
    "    return book.publication_year == 2021              # <----- Code the body of htDF recipe\n",
    "\n",
    "start_testing()\n",
    "expect(is_latest(B1), True)\n",
    "expect(is_latest(B0), False)\n",
    "expect(is_latest(Book('Untamed', 'Glennon Doyle', 2020, 27.75, 3)), False)\n",
    "summary()"
   ]
  },
  {
   "cell_type": "markdown",
   "metadata": {},
   "source": [
    "##### Small Modification to the Problem Above\n",
    "\n",
    "**Problem**: Design a function that determines if the given book was published in the given year or not.\n",
    "\n",
    "#### Mental Notes (Ashish)\n",
    "1. Name => is_latest\n",
    "2. Inputs => book: Book, year: int\n",
    "3. Output => bool"
   ]
  },
  {
   "cell_type": "code",
   "execution_count": null,
   "metadata": {},
   "outputs": [],
   "source": [
    "@typecheck\n",
    "def is_latest(book: Book, year: int) -> bool:\n",
    "    '''\n",
    "    Returns True if the given book is released in the given year,\n",
    "    False otherwise.\n",
    "    '''\n",
    "    # return False # stub\n",
    "    # Template copied from Book with one additional parameter (year)\n",
    "    \n",
    "    return book.publication_year == year\n",
    "\n",
    "\n",
    "start_testing()\n",
    "expect(is_latest(B1, 2019), False)\n",
    "expect(is_latest(B1, 2021), True)\n",
    "expect(is_latest(B0, 2018), True)\n",
    "expect(is_latest(B0, 2010), False)\n",
    "summary()"
   ]
  },
  {
   "cell_type": "markdown",
   "metadata": {},
   "source": [
    "**Problem**: We are going to use the Song Data Definition. Suppose you want to study for your midterm and you want to play a song from your \"Instrumental\" playlist, but you want to play a song which is longer. Design a function which takes two songs and returns you the title of the longest song of the both.\n",
    "\n",
    "### Mental Notes (Ashish)\n",
    "1. Name: longest_song()\n",
    "2. Inputs => song1: Song, song2: Song\n",
    "3. OUtputs => str"
   ]
  },
  {
   "cell_type": "code",
   "execution_count": null,
   "metadata": {},
   "outputs": [],
   "source": [
    "# Data Definition Copied\n",
    "\n",
    "from typing import NamedTuple\n",
    "\n",
    "Song = NamedTuple('Song', [('title', str), \n",
    "                           ('album_name', str), \n",
    "                           ('singer', str), \n",
    "                           ('duration', int), # in range [1, ...) \n",
    "                           ('date_added', int) # in range [0, ...)\n",
    "                          ])\n",
    "# interp. A song with a title, an album name ('album_name'), a singer, duration in seconds,\n",
    "# and the date when the song was added ('date_added') in days.\n",
    "\n",
    "S1 = Song('Interlude', 'The Off-season', 'J. Cole', 133, 7)\n",
    "S2 = Song('My Head & Heart', 'Heaven & Hell', 'Ava Max', 174, 7)\n",
    "S3 = Song('Larks', 'Deepest Woods', 'Kiara Leonard', 174, 9)\n",
    "S4 = Song('Foo', 'Bar', 'John Doe', 120, 0)\n",
    "\n",
    "\n",
    "# Template based on Compound\n",
    "@typecheck\n",
    "def fn_for_song(s: Song) -> ...:\n",
    "    return ...(s.title,\n",
    "               s.album_name,\n",
    "               s.singer,\n",
    "               s.duration,\n",
    "               s.date_added)\n",
    "\n",
    "\n",
    "\n",
    "# Function Definition\n",
    "\n",
    "@typecheck\n",
    "def longest_song(song1: Song, song2: Song) -> str:\n",
    "    '''\n",
    "    Returns the title of the longest of the two given songs song1, and song2.\n",
    "    In case of the same length, song2's title will be returned.\n",
    "    '''\n",
    "    # return \"interlude\" # stub\n",
    "    # Template copied from Song (song properties copied twice)\n",
    "    if song1.duration > song2.duration:\n",
    "        return song1.title\n",
    "    else:\n",
    "        return song2.title\n",
    "    \n",
    "start_testing()\n",
    "expect(longest_song(S1, S4), \"Interlude\")\n",
    "expect(longest_song(S1, S2), \"My Head & Heart\")\n",
    "expect(longest_song(S2, S3), \"Larks\")\n",
    "summary()"
   ]
  },
  {
   "cell_type": "markdown",
   "metadata": {},
   "source": [
    "## Games\n",
    "\n",
    "You're designing software for [boardgamegeek.com](https://boardgamegeek.com/). Design a data definition for a game. Your users need to record the name of the game, the name of the designer, the number of players (something like \"a game for 3 to 5 players\"), and the recommended minimum age to play.\n",
    "\n",
    "**Problem:** Design a function to determine if it is possible to play a game, when you invite a particular number of friends over."
   ]
  },
  {
   "cell_type": "code",
   "execution_count": 3,
   "metadata": {},
   "outputs": [
    {
     "name": "stderr",
     "output_type": "stream",
     "text": [
      "<>:21: SyntaxWarning: 'ellipsis' object is not callable; perhaps you missed a comma?\n",
      "<>:21: SyntaxWarning: 'ellipsis' object is not callable; perhaps you missed a comma?\n",
      "<ipython-input-3-bc7e7a8d0d83>:21: SyntaxWarning: 'ellipsis' object is not callable; perhaps you missed a comma?\n",
      "  return ...(g.name,\n"
     ]
    }
   ],
   "source": [
    "# Data Definition\n",
    "\n",
    "from typing import NamedTuple\n",
    "\n",
    "Game = NamedTuple('Game', [('name', str), \n",
    "                           ('designer', str),\n",
    "                           ('min_players', int), # in range [1, ...)\n",
    "                           ('max_players', int), # in range [1, ...)\n",
    "                           ('min_age', int)\n",
    "                          ])\n",
    "# interp. An online game with a name ('name'), designer's name ('desinger'), minimum ('min_players') and \n",
    "# maximum ('max_players') number of players, and minimum age to play ('min_age')\n",
    "\n",
    "G1 = Game('Chess', 'John Doe', 2, 2, 6)\n",
    "G2 = Game('Ludo', 'Foo bar', 2, 4, 12)\n",
    "G3 = Game('Werewolf', 'Ashish', 4, 8, 18)\n",
    "\n",
    "# Template based on Compound (5 fields)\n",
    "@typecheck\n",
    "def fn_for_game(g: Game) -> ...:\n",
    "    return ...(g.name, \n",
    "               g.designer,\n",
    "               g.min_players,\n",
    "               g.max_players,\n",
    "               g.min_age)"
   ]
  },
  {
   "cell_type": "code",
   "execution_count": null,
   "metadata": {},
   "outputs": [],
   "source": [
    "# Function Definition\n",
    "\n",
    "@typecheck\n",
    "def can_we_play(game: Game, num_friends: int) -> bool:\n",
    "    '''\n",
    "    Returns True if the given game can be played with the given number of friends num_friends,\n",
    "    False otherwise.\n",
    "    '''\n",
    "    # return True # stub\n",
    "    # Template copied from Game with one additional parameter (num_friends)\n",
    "    \n",
    "    total_players = num_friends + 1\n",
    "    if  total_players >= game.min_players and total_players <= game.max_players:\n",
    "        return True\n",
    "    else:\n",
    "        return False\n",
    "        \n",
    "    \n",
    "    \n",
    "start_testing()\n",
    "expect(can_we_play(G1, 2), False)\n",
    "expect(can_we_play(G2, 2), True)\n",
    "expect(can_we_play(G3, 1), False)\n",
    "expect(can_we_play(G3, 9), False)\n",
    "expect(can_we_play(G2, 2), True)\n",
    "expect(can_we_play(G2, 4), False)\n",
    "summary()"
   ]
  },
  {
   "cell_type": "markdown",
   "metadata": {},
   "source": [
    "### Assert Example\n",
    "\n",
    "Let's add a check to see if the number of players is in the correct range."
   ]
  },
  {
   "cell_type": "code",
   "execution_count": 4,
   "metadata": {},
   "outputs": [
    {
     "ename": "AssertionError",
     "evalue": "",
     "output_type": "error",
     "traceback": [
      "\u001b[1;31m---------------------------------------------------------------------------\u001b[0m",
      "\u001b[1;31mAssertionError\u001b[0m                            Traceback (most recent call last)",
      "\u001b[1;32m<ipython-input-4-dd3d5b6fcb34>\u001b[0m in \u001b[0;36m<module>\u001b[1;34m\u001b[0m\n\u001b[0;32m     28\u001b[0m \u001b[0mexpect\u001b[0m\u001b[1;33m(\u001b[0m\u001b[0mcan_we_play\u001b[0m\u001b[1;33m(\u001b[0m\u001b[0mG2\u001b[0m\u001b[1;33m,\u001b[0m \u001b[1;36m4\u001b[0m\u001b[1;33m)\u001b[0m\u001b[1;33m,\u001b[0m \u001b[1;32mFalse\u001b[0m\u001b[1;33m)\u001b[0m\u001b[1;33m\u001b[0m\u001b[1;33m\u001b[0m\u001b[0m\n\u001b[0;32m     29\u001b[0m \u001b[1;31m# This case will throw assertion error because it breaks the min_players condition in DD.\u001b[0m\u001b[1;33m\u001b[0m\u001b[1;33m\u001b[0m\u001b[1;33m\u001b[0m\u001b[0m\n\u001b[1;32m---> 30\u001b[1;33m \u001b[0mexpect\u001b[0m\u001b[1;33m(\u001b[0m\u001b[0mcan_we_play\u001b[0m\u001b[1;33m(\u001b[0m\u001b[0mGame\u001b[0m\u001b[1;33m(\u001b[0m\u001b[1;34m\"False Game\"\u001b[0m\u001b[1;33m,\u001b[0m \u001b[1;34m\"John Doe\"\u001b[0m\u001b[1;33m,\u001b[0m \u001b[1;36m0\u001b[0m\u001b[1;33m,\u001b[0m \u001b[1;36m2\u001b[0m\u001b[1;33m,\u001b[0m \u001b[1;36m18\u001b[0m\u001b[1;33m)\u001b[0m\u001b[1;33m,\u001b[0m \u001b[1;36m1\u001b[0m\u001b[1;33m)\u001b[0m\u001b[1;33m,\u001b[0m \u001b[1;32mTrue\u001b[0m\u001b[1;33m)\u001b[0m\u001b[1;33m\u001b[0m\u001b[1;33m\u001b[0m\u001b[0m\n\u001b[0m\u001b[0;32m     31\u001b[0m \u001b[0msummary\u001b[0m\u001b[1;33m(\u001b[0m\u001b[1;33m)\u001b[0m\u001b[1;33m\u001b[0m\u001b[1;33m\u001b[0m\u001b[0m\n",
      "\u001b[1;32m~\\anaconda3\\lib\\site-packages\\cs103\\typecheck\\typecheck.py\u001b[0m in \u001b[0;36mwrapper\u001b[1;34m(*args)\u001b[0m\n\u001b[0;32m    133\u001b[0m                 \u001b[1;32mraise\u001b[0m \u001b[0mTypeError\u001b[0m\u001b[1;33m(\u001b[0m\u001b[1;34m\"The function \\x1b[34m%s\\x1b[0m is missing a type for the parameter %s.\"\u001b[0m \u001b[1;33m%\u001b[0m \u001b[1;33m(\u001b[0m\u001b[0mfn\u001b[0m\u001b[1;33m.\u001b[0m\u001b[0m__name__\u001b[0m\u001b[1;33m,\u001b[0m \u001b[0mname\u001b[0m\u001b[1;33m)\u001b[0m\u001b[1;33m)\u001b[0m\u001b[1;33m\u001b[0m\u001b[1;33m\u001b[0m\u001b[0m\n\u001b[0;32m    134\u001b[0m \u001b[1;33m\u001b[0m\u001b[0m\n\u001b[1;32m--> 135\u001b[1;33m         \u001b[0mretval\u001b[0m \u001b[1;33m=\u001b[0m \u001b[0mfn\u001b[0m\u001b[1;33m(\u001b[0m\u001b[1;33m*\u001b[0m\u001b[0margs\u001b[0m\u001b[1;33m)\u001b[0m\u001b[1;33m\u001b[0m\u001b[1;33m\u001b[0m\u001b[0m\n\u001b[0m\u001b[0;32m    136\u001b[0m         \u001b[1;32mif\u001b[0m \u001b[1;34m'return'\u001b[0m \u001b[1;32min\u001b[0m \u001b[0mtypes\u001b[0m\u001b[1;33m:\u001b[0m\u001b[1;33m\u001b[0m\u001b[1;33m\u001b[0m\u001b[0m\n\u001b[0;32m    137\u001b[0m             \u001b[0msubtype\u001b[0m\u001b[1;33m(\u001b[0m\u001b[1;34m\"the returned value\"\u001b[0m\u001b[1;33m,\u001b[0m \u001b[0mretval\u001b[0m\u001b[1;33m,\u001b[0m \u001b[0mtypes\u001b[0m\u001b[1;33m[\u001b[0m\u001b[1;34m'return'\u001b[0m\u001b[1;33m]\u001b[0m\u001b[1;33m,\u001b[0m \u001b[0mfn\u001b[0m\u001b[1;33m,\u001b[0m \u001b[1;32mTrue\u001b[0m\u001b[1;33m)\u001b[0m\u001b[1;33m\u001b[0m\u001b[1;33m\u001b[0m\u001b[0m\n",
      "\u001b[1;32m<ipython-input-4-dd3d5b6fcb34>\u001b[0m in \u001b[0;36mcan_we_play\u001b[1;34m(game, num_friends)\u001b[0m\n\u001b[0;32m      8\u001b[0m     \u001b[1;31m# Template copied from Game with one additional parameter (num_friends)\u001b[0m\u001b[1;33m\u001b[0m\u001b[1;33m\u001b[0m\u001b[1;33m\u001b[0m\u001b[0m\n\u001b[0;32m      9\u001b[0m \u001b[1;33m\u001b[0m\u001b[0m\n\u001b[1;32m---> 10\u001b[1;33m     \u001b[1;32massert\u001b[0m \u001b[0mgame\u001b[0m\u001b[1;33m.\u001b[0m\u001b[0mmin_players\u001b[0m \u001b[1;33m>=\u001b[0m \u001b[1;36m1\u001b[0m   \u001b[1;31m# in range [1, ...)\u001b[0m\u001b[1;33m\u001b[0m\u001b[1;33m\u001b[0m\u001b[0m\n\u001b[0m\u001b[0;32m     11\u001b[0m     \u001b[1;32massert\u001b[0m \u001b[0mgame\u001b[0m\u001b[1;33m.\u001b[0m\u001b[0mmax_players\u001b[0m \u001b[1;33m>=\u001b[0m \u001b[1;36m1\u001b[0m   \u001b[1;31m# in range [1, ...)\u001b[0m\u001b[1;33m\u001b[0m\u001b[1;33m\u001b[0m\u001b[0m\n\u001b[0;32m     12\u001b[0m     \u001b[1;32massert\u001b[0m \u001b[0mgame\u001b[0m\u001b[1;33m.\u001b[0m\u001b[0mmax_players\u001b[0m \u001b[1;33m>=\u001b[0m \u001b[0mgame\u001b[0m\u001b[1;33m.\u001b[0m\u001b[0mmin_players\u001b[0m\u001b[1;33m\u001b[0m\u001b[1;33m\u001b[0m\u001b[0m\n",
      "\u001b[1;31mAssertionError\u001b[0m: "
     ]
    }
   ],
   "source": [
    "@typecheck\n",
    "def can_we_play(game: Game, num_friends: int) -> bool:\n",
    "    '''\n",
    "    Returns True if the given game can be played with the given number of friends num_friends,\n",
    "    False otherwise.\n",
    "    '''\n",
    "    # return True # stub\n",
    "    # Template copied from Game with one additional parameter (num_friends)\n",
    "    \n",
    "    assert game.min_players >= 1   # in range [1, ...)\n",
    "    assert game.max_players >= 1   # in range [1, ...)\n",
    "    assert game.max_players >= game.min_players\n",
    "    \n",
    "    total_players = num_friends + 1\n",
    "    if  total_players >= game.min_players and total_players <= game.max_players:\n",
    "        return True\n",
    "    else:\n",
    "        return False\n",
    "        \n",
    "    \n",
    "    \n",
    "start_testing()\n",
    "expect(can_we_play(G1, 2), False)\n",
    "expect(can_we_play(G2, 2), True)\n",
    "expect(can_we_play(G3, 1), False)\n",
    "expect(can_we_play(G3, 9), False)\n",
    "expect(can_we_play(G2, 2), True)\n",
    "expect(can_we_play(G2, 4), False)\n",
    "# This case will throw assertion error because it breaks the min_players condition in DD.\n",
    "expect(can_we_play(Game(\"False Game\", \"John Doe\", 0, 2, 18), 1), True)  \n",
    "summary()"
   ]
  }
 ],
 "metadata": {
  "kernelspec": {
   "display_name": "Python 3",
   "language": "python",
   "name": "python3"
  },
  "language_info": {
   "codemirror_mode": {
    "name": "ipython",
    "version": 3
   },
   "file_extension": ".py",
   "mimetype": "text/x-python",
   "name": "python",
   "nbconvert_exporter": "python",
   "pygments_lexer": "ipython3",
   "version": "3.8.5"
  }
 },
 "nbformat": 4,
 "nbformat_minor": 4
}
