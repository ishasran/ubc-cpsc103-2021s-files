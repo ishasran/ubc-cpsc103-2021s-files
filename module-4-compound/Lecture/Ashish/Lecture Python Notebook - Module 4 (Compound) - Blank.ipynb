{
 "cells": [
  {
   "cell_type": "code",
   "execution_count": null,
   "metadata": {},
   "outputs": [],
   "source": [
    "from cs103 import * # needed (once per notebook) to enable incredible cs103 powers!!"
   ]
  },
  {
   "cell_type": "markdown",
   "metadata": {},
   "source": [
    "# Lecture 4 - Module - Compound\n",
    "\n",
    "This notebook is in continuation to the Lecture 4 slides on Module - Compound."
   ]
  },
  {
   "cell_type": "markdown",
   "metadata": {},
   "source": [
    "The HtDD Recipe is as follows:\n",
    "1. A **data type definition** with type comments where Python's types are not specific enough.\n",
    "2. An **interpretation comment** that describes the correspondence between information and data.\n",
    "3. One or more **examples** of the data.\n",
    "4. A **template** for a one-argument function operating on data of this type."
   ]
  },
  {
   "cell_type": "markdown",
   "metadata": {},
   "source": [
    "## Indigo - The Bookstore\n",
    "\n",
    "[Indigo](https://www.chapters.indigo.ca/en-ca/), the biggest bookstore in Canada, hires you to build their website so that they can sell books online. In order to showcase books on their website, you are asked to design a data defintion to represent a book.\n",
    "\n",
    "**Problem**: Design a data definition for representing a book for a Bookstore website. A book has a title, its author's name, year in which it was published, price (in dollars), and its rating from 1-5."
   ]
  },
  {
   "cell_type": "code",
   "execution_count": null,
   "metadata": {},
   "outputs": [],
   "source": [
    "# your solution goes here"
   ]
  },
  {
   "cell_type": "markdown",
   "metadata": {},
   "source": [
    "## Spotify - Music for Everyone\n",
    "\n",
    "[Spotify](https://open.spotify.com/) is biggest platform to stream media (audios, podcasts) to listen and share with others. Imagine you're working for spotify and wants to build a new platform in Python using your knowledge gained from CPSC 103. You want to showcase songs on this new platform.\n",
    "\n",
    "**Problem**: Design a data definition for representing a song on Spotify web player. A song has a title, singer's name, Album it belongs to, the duration (in seconds), date added (in days)."
   ]
  },
  {
   "cell_type": "code",
   "execution_count": null,
   "metadata": {},
   "outputs": [],
   "source": [
    "# your solution goes here"
   ]
  },
  {
   "cell_type": "markdown",
   "metadata": {},
   "source": [
    "## Designing Functions that operates on Compound\n",
    "\n",
    "The HtDF Recipe is as follows:\n",
    "1. Signature, purpose and stub.\n",
    "2. Examples\n",
    "3. Template\n",
    "4. Code the function body\n",
    "5. Test and Debug until correct.\n",
    "\n",
    "\n",
    "**Problem**: Design a function that takes a book and determines if the given book is released in 2021"
   ]
  },
  {
   "cell_type": "code",
   "execution_count": null,
   "metadata": {},
   "outputs": [],
   "source": [
    "# your solution goes here"
   ]
  },
  {
   "cell_type": "markdown",
   "metadata": {},
   "source": [
    "##### Small Modification to the Problem Above\n",
    "\n",
    "**Problem**: Design a function that determines if the given book was published in the given year or not."
   ]
  },
  {
   "cell_type": "code",
   "execution_count": null,
   "metadata": {},
   "outputs": [],
   "source": [
    "# your solution goes here"
   ]
  },
  {
   "cell_type": "markdown",
   "metadata": {},
   "source": [
    "**Problem**: We are going to use the Song Data Definition. Suppose you want to study for your midterm and you want to play a song from your \"Instrumental\" playlist, but you want to play a song which is longer. Design a function which takes two songs and returns you the title of the longest song of the both."
   ]
  },
  {
   "cell_type": "code",
   "execution_count": null,
   "metadata": {},
   "outputs": [],
   "source": [
    "# your solution goes here"
   ]
  },
  {
   "cell_type": "markdown",
   "metadata": {},
   "source": [
    "## Games\n",
    "\n",
    "You're designing software for [boardgamegeek.com](https://boardgamegeek.com/). Design a data definition for a game. Your users need to record the name of the game, the name of the designer, the number of players (something like \"a game for 3 to 5 players\"), and the recommended minimum age to play.\n",
    "\n",
    "**Problem:** Design a function to determine if it is possible to play a game, when you invite a particular number of friends over."
   ]
  },
  {
   "cell_type": "code",
   "execution_count": null,
   "metadata": {},
   "outputs": [],
   "source": [
    "# Data Definition"
   ]
  },
  {
   "cell_type": "code",
   "execution_count": null,
   "metadata": {},
   "outputs": [],
   "source": [
    "# Function Definition"
   ]
  },
  {
   "cell_type": "markdown",
   "metadata": {},
   "source": [
    "### Assert Example\n",
    "\n",
    "Let's add a check to see if the number of players is in the correct range."
   ]
  },
  {
   "cell_type": "code",
   "execution_count": null,
   "metadata": {},
   "outputs": [],
   "source": [
    "# your solution goes here"
   ]
  }
 ],
 "metadata": {
  "kernelspec": {
   "display_name": "Python 3",
   "language": "python",
   "name": "python3"
  },
  "language_info": {
   "codemirror_mode": {
    "name": "ipython",
    "version": 3
   },
   "file_extension": ".py",
   "mimetype": "text/x-python",
   "name": "python",
   "nbconvert_exporter": "python",
   "pygments_lexer": "ipython3",
   "version": "3.8.5"
  }
 },
 "nbformat": 4,
 "nbformat_minor": 4
}
